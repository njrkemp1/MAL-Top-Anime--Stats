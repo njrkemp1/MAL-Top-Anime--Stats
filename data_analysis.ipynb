{
 "cells": [
  {
   "attachments": {},
   "cell_type": "markdown",
   "metadata": {},
   "source": [
    "# Data Analist\n",
    "\n",
    "\n",
    "> This is block for test"
   ]
  },
  {
   "attachments": {},
   "cell_type": "markdown",
   "metadata": {},
   "source": [
    "## Importing libraries\n",
    "\n",
    "<!-- # sns.set_palette('tab10') -->\n"
   ]
  },
  {
   "cell_type": "code",
   "execution_count": 1,
   "metadata": {},
   "outputs": [],
   "source": [
    "import numpy as np\n",
    "import pandas as pd\n",
    "import matplotlib.pyplot as plt\n",
    "import seaborn as sns\n",
    "\n",
    "import plotly as py\n",
    "\n",
    "# import ipywidgets as ipw\n"
   ]
  },
  {
   "attachments": {},
   "cell_type": "markdown",
   "metadata": {},
   "source": [
    "### Importing csv file"
   ]
  },
  {
   "cell_type": "code",
   "execution_count": 2,
   "metadata": {},
   "outputs": [],
   "source": [
    "data = pd.read_excel('multiPages.xlsx')\n",
    "\n",
    "save_path = 'D:/Users/HP/Desktop/Code Projects/GitHub/MAL-Top-Anime--Stats/Figures/'"
   ]
  },
  {
   "attachments": {},
   "cell_type": "markdown",
   "metadata": {},
   "source": [
    "## Feature Enginering"
   ]
  },
  {
   "attachments": {},
   "cell_type": "markdown",
   "metadata": {},
   "source": [
    "### Which year made the most top rated anime\n",
    "\n",
    "This is for ALL data"
   ]
  },
  {
   "cell_type": "code",
   "execution_count": null,
   "metadata": {},
   "outputs": [],
   "source": [
    "years = np.arange(197,203,1).tolist()\n",
    "\n",
    "for year in years:\n",
    "    patternY = str(year)\n",
    "\n",
    "    yearMask = data['AirDate'].str.contains(patternY)\n",
    "    anime_Year = (data[yearMask])\n",
    "\n",
    "    print('Top animes in decade', patternY, '\\b0 :' , len(anime_Year))"
   ]
  },
  {
   "cell_type": "code",
   "execution_count": null,
   "metadata": {},
   "outputs": [],
   "source": [
    "infoMonth = []\n",
    "# If not like this, its sorted alphabeticly[Apr-Sep]\n",
    "months = ['Jan', 'Feb', 'Mar', 'Apr', 'May', 'Jun', 'Jul', 'Aug','Sep','Oct', 'Nov', 'Dec']\n",
    "\n",
    "for month in months:\n",
    "    patternM = (month)\n",
    "    monthMask = data['AirDate'].str.contains(patternM)\n",
    "    anime_Month = (data[monthMask])\n",
    "\n",
    "    print('Number animes in', patternM,' :' ,len(anime_Month))\n",
    "    # print(strMonth)\n",
    "    infoMonth.append(anime_Month)   ## To find the dataframe acc. to month index\n",
    "\n",
    "# (list(multiPage.AirDate.groupby(multiPage.AirDate.dt.year)))\n"
   ]
  },
  {
   "attachments": {},
   "cell_type": "markdown",
   "metadata": {},
   "source": [
    "---\n",
    "------\n",
    "## ____Only TV shows____\n"
   ]
  },
  {
   "cell_type": "code",
   "execution_count": null,
   "metadata": {},
   "outputs": [],
   "source": []
  },
  {
   "attachments": {},
   "cell_type": "markdown",
   "metadata": {},
   "source": [
    "###  &emsp; Clean-up\n",
    "<!-- > test -->"
   ]
  },
  {
   "cell_type": "code",
   "execution_count": 171,
   "metadata": {},
   "outputs": [],
   "source": [
    "dataTV = data.loc[data.Type == 'TV'].copy()"
   ]
  },
  {
   "cell_type": "code",
   "execution_count": null,
   "metadata": {},
   "outputs": [],
   "source": [
    "dataTV.columns"
   ]
  },
  {
   "attachments": {},
   "cell_type": "markdown",
   "metadata": {},
   "source": [
    "Formatting"
   ]
  },
  {
   "cell_type": "code",
   "execution_count": 172,
   "metadata": {},
   "outputs": [],
   "source": [
    "# cols_org = ['Rank', 'Title', 'Rating', 'Type', 'AirDate', 'EndDate', 'TotalEpi',\n",
    "#        'Members', 'MAL Ref', 'Status', 'Premiered', 'Broadcast', 'Studio',\n",
    "#        'Duration', 'Age Ratingn', 'Genres', 'Producer', 'Source']\n",
    "\n",
    "\n",
    "\n",
    "dataTV['AirDate_dt'] = pd.to_datetime(dataTV.AirDate, infer_datetime_format=True)\n",
    "dataTV['EndDate_dt'] = pd.to_datetime(dataTV.EndDate, infer_datetime_format=True)\n",
    "\n",
    "dataTV['Prem_Season'] = dataTV['Premiered'].str.split().str[0]\n",
    "dataTV['Prem_Year'] = dataTV['Premiered'].str.split().str[1]\n",
    "\n",
    "\n",
    "### ---Dropping unneeded coloms\n",
    "dataTV = dataTV.drop(columns=['AirDate', 'EndDate'])\n",
    "\n",
    "## Reorganizing coloms\n",
    "dataTV = dataTV[['Rank', 'Title', 'Rating', 'Type', 'AirDate_dt', 'EndDate_dt', 'TotalEpi',\n",
    "                'Members', 'MAL Ref', 'Status', 'Prem_Season','Prem_Year', 'Broadcast', 'Studio',\n",
    "                'Duration', 'Age Ratingn', 'Genres', 'Producer', 'Demograph', 'Themes',\n",
    "                'Source']]\n",
    "\n"
   ]
  },
  {
   "cell_type": "code",
   "execution_count": null,
   "metadata": {},
   "outputs": [],
   "source": [
    "# Adding important Varibles\n",
    "\n",
    "premaired_season_name = dataTV['Premiered'].str.split().str[0]\n",
    "premaired_season_year = dataTV['Premiered'].str.split().str[1]\n"
   ]
  },
  {
   "cell_type": "code",
   "execution_count": null,
   "metadata": {},
   "outputs": [],
   "source": [
    "# dataTV.info()"
   ]
  },
  {
   "attachments": {},
   "cell_type": "markdown",
   "metadata": {},
   "source": [
    "--------\n",
    "------\n",
    "### ___Released Stas___\n",
    "\n"
   ]
  },
  {
   "attachments": {},
   "cell_type": "markdown",
   "metadata": {},
   "source": [
    "#### &emsp; Premiered"
   ]
  },
  {
   "attachments": {},
   "cell_type": "markdown",
   "metadata": {},
   "source": [
    "##### &emsp; &emsp; Monthly released\n",
    "<!-- AirDates -->"
   ]
  },
  {
   "cell_type": "code",
   "execution_count": null,
   "metadata": {},
   "outputs": [],
   "source": [
    "# air_year = dataTV['AirDate_dt'].dt.year\n",
    "# air_month = dataTV['AirDate_dt'].dt.month\n",
    "# mont_count = air_month.value_counts().sort_index()\n",
    "\n",
    "# # mont_count"
   ]
  },
  {
   "cell_type": "code",
   "execution_count": 45,
   "metadata": {},
   "outputs": [],
   "source": [
    "airMonth_group = dataTV.groupby(dataTV['AirDate_dt'].dt.month)\n",
    "airMonth_count = airMonth_group['AirDate_dt'].count()\n",
    "\n",
    "\n",
    "# Rename index from [0,1,2,...] to month names\n",
    "months = ['Jan', 'Feb', 'Mar', 'Apr', 'May', 'Jun', 'Jul', 'Aug','Sep','Oct', 'Nov', 'Dec']\n",
    "airMonth_count.index = months"
   ]
  },
  {
   "cell_type": "code",
   "execution_count": 173,
   "metadata": {},
   "outputs": [
    {
     "data": {
      "image/png": "[encoded data removed]",
      "text/plain": [
       "<Figure size 1000x500 with 1 Axes>"
      ]
     },
     "metadata": {},
     "output_type": "display_data"
    }
   ],
   "source": [
    "plt.figure(figsize=(10,5))\n",
    "\n",
    "ax = sns.barplot(x = airMonth_count.index,\n",
    "                 y = airMonth_count.values\n",
    "                )\n",
    "\n",
    "ax.set_title('Months the top 500 animes were released')\n",
    "ax.set_xlabel('Months')\n",
    "ax.set_ylabel('')\n",
    "ax.set_yticks([])\n",
    "\n",
    "# ax.adjust()\n",
    "\n",
    "\n",
    "for container in ax.containers:\n",
    "    ax.bar_label(container)\n",
    "\n",
    "\n",
    "plt.savefig(save_path + 'Releases/montly_releases.png',\n",
    "            transparent = False,\n",
    "            bbox_inches = 'tight'\n",
    "            )"
   ]
  },
  {
   "attachments": {},
   "cell_type": "markdown",
   "metadata": {},
   "source": [
    "###### Draft and testing"
   ]
  },
  {
   "cell_type": "code",
   "execution_count": null,
   "metadata": {},
   "outputs": [],
   "source": [
    "# monthCount = dataTV.AirDate_dt.dt.month.value_counts().sort_index()\n",
    "\n",
    "# j=0\n",
    "# for i in monthCount:\n",
    "#     months = ['Jan', 'Feb', 'Mar', 'Apr', 'May', 'Jun', 'Jul', 'Aug','Sep','Oct', 'Nov', 'Dec']\n",
    "#     print(f'Number anmies in {months[j]} : {i}')\n",
    "#     j=j+1\n",
    "\n",
    "\n",
    "# monthCount.plot(kind='bar',\n",
    "#                 xlabel='Months', \n",
    "#                 ylabel='Counts',\n",
    "            \n",
    "#                 title='Months the top 500 animes were released',\n",
    "#                 color = 'blue',\n",
    "#                 # rot=90 ##Rotate x value names,\n",
    "#                 figsize=(15,5)\n",
    "#                   )\n",
    "\n",
    "# dataTV.AirDate_dt.dt.year.value_counts().sort_index()\n",
    "# plt.figure(figsize=(10,5))\n",
    "\n",
    "#--------------------------------------------------------------\n",
    "\n",
    "# months = ['Jan', 'Feb', 'Mar', 'Apr', 'May', 'Jun', 'Jul', 'Aug','Sep','Oct', 'Nov', 'Dec']\n",
    "\n",
    "# ax = sns.barplot(x = months,\n",
    "#                  y = monthCount)\n",
    "\n",
    "# ax.set_title('Months the top 500 animes were released')\n",
    "# ax.set_xlabel('Months')\n",
    "# ax.set_ylabel('')\n",
    "# ax.set_yticks([])\n",
    "\n",
    "# # ax.adjust()\n",
    "\n",
    "\n",
    "# for container in ax.containers:\n",
    "#     ax.bar_label(container)\n",
    "\n",
    "\n",
    "# plt.savefig(save_path + 'Releases/montly_releases.png',\n",
    "#             transparent = False,\n",
    "#             bbox_inches = 'tight'\n",
    "#             )"
   ]
  },
  {
   "cell_type": "code",
   "execution_count": null,
   "metadata": {},
   "outputs": [],
   "source": [
    "dataTV['Aired_months'] = dataTV.AirDate_dt.dt.month"
   ]
  },
  {
   "cell_type": "code",
   "execution_count": null,
   "metadata": {},
   "outputs": [],
   "source": [
    "dataTV.groupby('Aired_months')['Aired_months'].count().plot.bar(figsize = (15,5))"
   ]
  },
  {
   "attachments": {},
   "cell_type": "markdown",
   "metadata": {},
   "source": [
    "##### &emsp; &emsp; Seasonly released\n",
    "\n",
    "<!-- Premiered -->"
   ]
  },
  {
   "cell_type": "code",
   "execution_count": 50,
   "metadata": {},
   "outputs": [
    {
     "data": {
      "text/plain": [
       "Prem_Season\n",
       "Spring    91\n",
       "Summer    47\n",
       "Fall      97\n",
       "Winter    67\n",
       "Name: Prem_Season, dtype: int64"
      ]
     },
     "execution_count": 50,
     "metadata": {},
     "output_type": "execute_result"
    }
   ],
   "source": [
    "season_group = dataTV.groupby('Prem_Season')\n",
    "season_count = season_group['Prem_Season'].count().reindex(['Spring', 'Summer', 'Fall', 'Winter'])\n",
    "\n",
    "season_count"
   ]
  },
  {
   "cell_type": "code",
   "execution_count": 52,
   "metadata": {},
   "outputs": [
    {
     "data": {
      "image/png": "[encoded data removed]",
      "text/plain": [
       "<Figure size 640x480 with 1 Axes>"
      ]
     },
     "metadata": {},
     "output_type": "display_data"
    }
   ],
   "source": [
    "## Much cleaner\n",
    "\n",
    "# ax = sns.countplot(data = dataTV,\n",
    "#                    x = dataTV['Premiered'].str.split().str[0], ## TODO\n",
    "#                    order= ['Spring', 'Summer', 'Fall', 'Winter'])\n",
    "\n",
    "\n",
    "ax = sns.barplot(x = season_count.index,\n",
    "                 y = season_count.values)\n",
    "\n",
    "ax.set(xlabel='Premiered Season')\n",
    "# ax.\n",
    "\n",
    "\n",
    "ax.set(title = 'Seasonly Releases',\n",
    "       xlabel = 'Seasons', \n",
    "       ylabel = '')\n",
    "\n",
    "ax.set_yticks([])\n",
    "\n",
    "for container in ax.containers:\n",
    "    ax.bar_label(container)\n",
    "\n",
    "\n",
    "# path = 'D:/Users/HP/Desktop/Code Projects/GitHub/MAL-Top-Anime--Stats/Figures'\n",
    "plt.savefig(save_path+'/Releases/season_releases.jpg',\n",
    "            transparent = False,\n",
    "            bbox_inches = 'tight'\n",
    "            )"
   ]
  },
  {
   "attachments": {},
   "cell_type": "markdown",
   "metadata": {},
   "source": [
    "###### Other Season Count graph\n"
   ]
  },
  {
   "cell_type": "code",
   "execution_count": null,
   "metadata": {},
   "outputs": [],
   "source": [
    "dataTV['Premiered_Season'] =dataTV.Premiered.str.split(' ').str[0]"
   ]
  },
  {
   "cell_type": "code",
   "execution_count": null,
   "metadata": {},
   "outputs": [],
   "source": [
    "# plt.figure(figsize=(15,5))\n",
    "\n",
    "# plt.ion()\n",
    "\n",
    "seasonGroup = dataTV.groupby('Premiered_Season')\n",
    "season_count = seasonGroup['Premiered_Season'].count()\n",
    "\n",
    "season_count = season_count.reindex(['Spring', 'Summer', 'Fall', 'Winter'])\n",
    "\n",
    "# ax = season_count.plot.bar()\n",
    "# ax.set_title('Seasonly Releases')\n",
    "\n",
    "ax= sns.barplot(x = season_count.index,\n",
    "                y = season_count.values) \n",
    "\n",
    "ax.set(title = 'Seasonly Releases',\n",
    "       xlabel = 'Season')\n",
    "\n",
    "ax.set_yticks([])\n",
    "\n",
    "for container in ax.containers:\n",
    "    ax.bar_label(container)\n",
    "\n"
   ]
  },
  {
   "cell_type": "code",
   "execution_count": null,
   "metadata": {},
   "outputs": [],
   "source": [
    "# ### USE THIS WAY FROM NOW\n",
    "\n",
    "# seasonsNew = dataTV.Premiered.str.split(' ').str[0].value_counts()\n",
    "\n",
    "# print('Number animes in Fall:   ', seasonsNew[0])\n",
    "# print('Number animes in Spring: ', seasonsNew[1])\n",
    "# print('Number animes in Winter: ', seasonsNew[2])\n",
    "# print('Number animes in Summer: ', seasonsNew[3])\n",
    "\n",
    "\n",
    "# plt.barh(['Spring', 'Summer', 'Fall', 'Winter'], seasonsNew)\n",
    "# plt.title('Amount of top animes for each Season')\n",
    "# plt.ylabel('Total top animes released')"
   ]
  },
  {
   "cell_type": "code",
   "execution_count": null,
   "metadata": {},
   "outputs": [],
   "source": [
    "grouped = dataTV.groupby(['Premiered_Season', 'Broadcast'])\n",
    "\n",
    "# grouped.count()"
   ]
  },
  {
   "attachments": {},
   "cell_type": "markdown",
   "metadata": {},
   "source": [
    "##### &emsp; &emsp; Yearly released for decade\n",
    "\n",
    "<!-- Decades devide for each release -->\n",
    "\n",
    "<!-- <br> - decades_data = dataTV.groupby((dataTV.AirDate_dt.dt.year//10)*10) -->\n"
   ]
  },
  {
   "cell_type": "code",
   "execution_count": 53,
   "metadata": {},
   "outputs": [],
   "source": [
    "# plt.figure(figsize=(10,8))\n",
    "\n",
    "decade = (dataTV.groupby(dataTV.AirDate_dt.dt.year//10)).count()\n",
    "decade.index.name ='decades'\n",
    "\n",
    "decade = decade.reset_index().assign(decades=decade.index*10).rename(columns={'AirDate_dt':'counts'})\n",
    "decade = decade.rename(columns={'AirDate_dt':'Counts'})"
   ]
  },
  {
   "cell_type": "code",
   "execution_count": 54,
   "metadata": {},
   "outputs": [
    {
     "data": {
      "image/png": "[encoded data removed]",
      "text/plain": [
       "<Figure size 640x480 with 1 Axes>"
      ]
     },
     "metadata": {},
     "output_type": "display_data"
    }
   ],
   "source": [
    "ax = sns.barplot(x = decade.decades,\n",
    "                 y = decade.Rank.values)\n",
    "\n",
    "\n",
    "ax.set_title('Amount anime shows released per decade')\n",
    "ax.set_xlabel('Decades')\n",
    "ax.set_yticks([])\n",
    "\n",
    "\n",
    "for container in ax.containers:\n",
    "    ax.bar_label(container)\n",
    "\n",
    "plt.savefig(save_path +'/Releases/decade_releases.png',\n",
    "            transparent = False,\n",
    "            bbox_inches = 'tight'\n",
    "            )"
   ]
  },
  {
   "attachments": {},
   "cell_type": "markdown",
   "metadata": {},
   "source": [
    "#### &emsp; Broadcast\n",
    "\n",
    "Want to check montly broadcast counts"
   ]
  },
  {
   "cell_type": "code",
   "execution_count": 90,
   "metadata": {},
   "outputs": [
    {
     "data": {
      "text/plain": [
       "<Axes: xlabel='Broadcast'>"
      ]
     },
     "execution_count": 90,
     "metadata": {},
     "output_type": "execute_result"
    },
    {
     "data": {
      "image/png": "[encoded data removed]",
      "text/plain": [
       "<Figure size 640x480 with 1 Axes>"
      ]
     },
     "metadata": {},
     "output_type": "display_data"
    }
   ],
   "source": [
    "# month_broadcast = airMonth_group['Broadcast'].value_counts().unstack(fill_value=0, level=0)\n",
    "\n",
    "# month_broadcast.reindex(date_order).plot.bar()"
   ]
  },
  {
   "cell_type": "code",
   "execution_count": null,
   "metadata": {},
   "outputs": [],
   "source": []
  },
  {
   "attachments": {},
   "cell_type": "markdown",
   "metadata": {},
   "source": [
    "#### &emsp; Studio"
   ]
  },
  {
   "attachments": {},
   "cell_type": "markdown",
   "metadata": {},
   "source": [
    "#### &emsp; Age Rating"
   ]
  },
  {
   "attachments": {},
   "cell_type": "markdown",
   "metadata": {},
   "source": [
    "#### &emsp; Genres"
   ]
  },
  {
   "attachments": {},
   "cell_type": "markdown",
   "metadata": {},
   "source": [
    "#### &emsp; Producers"
   ]
  },
  {
   "attachments": {},
   "cell_type": "markdown",
   "metadata": {},
   "source": [
    "#### &emsp; Demograph"
   ]
  },
  {
   "attachments": {},
   "cell_type": "markdown",
   "metadata": {},
   "source": [
    "#### &emsp; Themes"
   ]
  },
  {
   "attachments": {},
   "cell_type": "markdown",
   "metadata": {},
   "source": [
    "#### &emsp; Source"
   ]
  },
  {
   "attachments": {},
   "cell_type": "markdown",
   "metadata": {},
   "source": [
    "-------\n",
    "*******\n",
    "### ___Ratings Stats___"
   ]
  },
  {
   "attachments": {},
   "cell_type": "markdown",
   "metadata": {},
   "source": [
    "#### &emsp; Counts"
   ]
  },
  {
   "attachments": {},
   "cell_type": "markdown",
   "metadata": {},
   "source": [
    "#####  &emsp;&emsp; Seasonal Rating"
   ]
  },
  {
   "cell_type": "code",
   "execution_count": 110,
   "metadata": {},
   "outputs": [
    {
     "data": {
      "image/png": "[encoded data removed]",
      "text/plain": [
       "<Figure size 640x480 with 1 Axes>"
      ]
     },
     "metadata": {},
     "output_type": "display_data"
    }
   ],
   "source": [
    "seasonal_rating = dataTV.groupby( dataTV['Prem_Season'])['Rating']\n",
    "\n",
    "seasonal_rating_avr = seasonal_rating.mean().round(2)\n",
    "\n",
    "# ax = seasonal_rating_avr.plot.barh()\n",
    "ax = sns.barplot(x = seasonal_rating_avr.index,\n",
    "                y = seasonal_rating_avr.values)\n",
    "\n",
    "\n",
    "ax.set_title('Average ratings per Season')\n",
    "ax.set_ylabel(None)\n",
    "ax.set_xlabel('Seasson')\n",
    "\n",
    "\n",
    "## TODO: Make this an interative slide3r\n",
    "ax.set_ylim(7.5 , 9)\n",
    "\n",
    "plt.savefig(save_path + '/Ratings/avr_season_rating.png',\n",
    "            transparent = False,\n",
    "            bbox_inches = 'tight'\n",
    "            )\n"
   ]
  },
  {
   "cell_type": "code",
   "execution_count": null,
   "metadata": {},
   "outputs": [],
   "source": [
    "# # seasonal_rating_avr.values\n",
    "\n",
    "# slider = ipw.IntSlider(    \n",
    "#     value=7,\n",
    "#     min=0,\n",
    "#     max=10,\n",
    "#     step=1,\n",
    "#     description='Test:',\n",
    "#     disabled=False,\n",
    "#     continuous_update=False,\n",
    "#     orientation='horizontal',\n",
    "#     readout=True,\n",
    "#     readout_format='d'\n",
    "#     )\n",
    "\n",
    "# slider"
   ]
  },
  {
   "attachments": {},
   "cell_type": "markdown",
   "metadata": {},
   "source": [
    "##### &emsp;&emsp; Monthly Ratings"
   ]
  },
  {
   "cell_type": "code",
   "execution_count": null,
   "metadata": {},
   "outputs": [],
   "source": [
    "# month_rating = dataTV.groupby(dataTV['AirDate_dt'].dt.month_name())['Rating']\n",
    "# # month_rating = dataTV.groupby('Aired_months')['Rating']\n",
    "# month_rating_mean = month_rating.mean()\n",
    "\n",
    "\n",
    "# # Creating and modifing plot\n",
    "# ax = month_rating_mean.plot.bar()\n",
    "# ax.set_xlabel(months)\n",
    "# ax.set_ylim(7,9)\n",
    "\n",
    "\n",
    "# # month_rating_mean = month_rating_mean.reset_index()\n",
    "\n",
    "\n",
    "# month_rating_mean.sort_values()"
   ]
  },
  {
   "cell_type": "code",
   "execution_count": 132,
   "metadata": {},
   "outputs": [
    {
     "data": {
      "image/png": "[encoded data removed]",
      "text/plain": [
       "<Figure size 1000x800 with 1 Axes>"
      ]
     },
     "metadata": {},
     "output_type": "display_data"
    }
   ],
   "source": [
    "plt.figure(figsize=(10,8))\n",
    "\n",
    "month_rating = dataTV.groupby(dataTV['AirDate_dt'].dt.month_name())['Rating']\n",
    "month_rating_mean = month_rating.mean().round(2)\n",
    "\n",
    "month_rating_mean.index = months\n",
    "\n",
    "ax = sns.barplot(x=month_rating_mean.index,\n",
    "                y=month_rating_mean)\n",
    "\n",
    "ax.set_title('Avr Month Rating', fontsize = 15)\n",
    "ax.set_xlabel('Months')   \n",
    "ax.set_yticklabels([]) \n",
    "ax.set_ylim(7.5,9)\n",
    "\n",
    "\n",
    "for container in ax.containers:\n",
    "    ax.bar_label(container)\n",
    "\n",
    "\n",
    "plt.savefig(save_path+'/Ratings/avr_month_rating.png',\n",
    "            transparent = False,\n",
    "            bbox_inches = 'tight'\n",
    "            )"
   ]
  },
  {
   "cell_type": "code",
   "execution_count": null,
   "metadata": {},
   "outputs": [],
   "source": [
    "# month_rating_mean.Aired_months\n",
    "\n",
    "# month_rating_mean"
   ]
  },
  {
   "cell_type": "code",
   "execution_count": null,
   "metadata": {},
   "outputs": [],
   "source": [
    "month_rating.get_group(2)"
   ]
  },
  {
   "attachments": {},
   "cell_type": "markdown",
   "metadata": {},
   "source": [
    "##### &emsp;&emsp; Yearly ratings"
   ]
  },
  {
   "cell_type": "code",
   "execution_count": 136,
   "metadata": {},
   "outputs": [
    {
     "data": {
      "image/png": "[encoded data removed]",
      "text/plain": [
       "<Figure size 640x480 with 1 Axes>"
      ]
     },
     "metadata": {},
     "output_type": "display_data"
    }
   ],
   "source": [
    "decades_data = dataTV.groupby((dataTV.AirDate_dt.dt.year//10)*10)\n",
    "\n",
    "decade_mean = decades_data['Rating'].mean()\n",
    "\n",
    "ax = sns.barplot(x = decade_mean.index,\n",
    "                 y = np.round(decade_mean.values,2))\n",
    "\n",
    "ax.set_title('Avr Decade Ratings')\n",
    "ax.set_xlabel('Decade')\n",
    "\n",
    "ax.set_yticklabels([])\n",
    "ax.set_ylim(7.5,9)\n",
    "\n",
    "for container in ax.containers:\n",
    "    ax.bar_label(container)\n",
    "\n",
    "plt.savefig(save_path + '/Ratings/avr_decade.png',\n",
    "            transparent = False,\n",
    "            bbox_inches = 'tight'\n",
    "            )"
   ]
  },
  {
   "cell_type": "code",
   "execution_count": null,
   "metadata": {},
   "outputs": [],
   "source": [
    "# dataTV.groupby(da)"
   ]
  },
  {
   "cell_type": "code",
   "execution_count": null,
   "metadata": {},
   "outputs": [],
   "source": [
    "decade"
   ]
  },
  {
   "attachments": {},
   "cell_type": "markdown",
   "metadata": {},
   "source": [
    "#### &emsp; Premiered"
   ]
  },
  {
   "attachments": {},
   "cell_type": "markdown",
   "metadata": {},
   "source": [
    "#### &emsp; Studio"
   ]
  },
  {
   "cell_type": "code",
   "execution_count": 124,
   "metadata": {},
   "outputs": [
    {
     "data": {
      "text/plain": [
       "Studio        Rating\n",
       "8bit          8.14      1\n",
       "              8.30      1\n",
       "              8.33      1\n",
       "              8.39      1\n",
       "A-1 Pictures  8.22      2\n",
       "                       ..\n",
       "ufotable      8.32      1\n",
       "              8.39      1\n",
       "              8.52      1\n",
       "              8.56      1\n",
       "              8.82      1\n",
       "Name: Rating, Length: 287, dtype: int64"
      ]
     },
     "execution_count": 124,
     "metadata": {},
     "output_type": "execute_result"
    }
   ],
   "source": [
    "dataTV.groupby('Studio')['Rating'].value_counts()"
   ]
  },
  {
   "cell_type": "markdown",
   "metadata": {},
   "source": [
    "#### &emsp; Age Rating"
   ]
  },
  {
   "cell_type": "code",
   "execution_count": 130,
   "metadata": {},
   "outputs": [
    {
     "data": {
      "text/plain": [
       "Rating  Rating\n",
       "8.07    8.07       8\n",
       "8.08    8.08       6\n",
       "8.09    8.09      10\n",
       "8.10    8.10       7\n",
       "8.11    8.11       4\n",
       "                  ..\n",
       "9.06    9.06       1\n",
       "9.07    9.07       2\n",
       "9.08    9.08       1\n",
       "9.09    9.09       1\n",
       "9.11    9.11       1\n",
       "Name: Rating, Length: 87, dtype: int64"
      ]
     },
     "execution_count": 130,
     "metadata": {},
     "output_type": "execute_result"
    }
   ],
   "source": [
    "dataTV.groupby('Rating')['Rating'].value_counts()"
   ]
  },
  {
   "cell_type": "markdown",
   "metadata": {},
   "source": [
    "#### &emsp; Genres"
   ]
  },
  {
   "cell_type": "markdown",
   "metadata": {},
   "source": [
    "#### &emsp; Producers"
   ]
  },
  {
   "cell_type": "markdown",
   "metadata": {},
   "source": [
    "#### &emsp; Demograph"
   ]
  },
  {
   "cell_type": "markdown",
   "metadata": {},
   "source": [
    "#### &emsp; Themes"
   ]
  },
  {
   "cell_type": "markdown",
   "metadata": {},
   "source": [
    "#### &emsp; Source"
   ]
  },
  {
   "attachments": {},
   "cell_type": "markdown",
   "metadata": {},
   "source": [
    "-------\n",
    "*******\n",
    "### ___Broadcasts Stats___"
   ]
  },
  {
   "cell_type": "code",
   "execution_count": 79,
   "metadata": {},
   "outputs": [],
   "source": [
    "broadcast_group = dataTV.groupby(dataTV.Broadcast)"
   ]
  },
  {
   "attachments": {},
   "cell_type": "markdown",
   "metadata": {},
   "source": [
    "#### &emsp; Counts"
   ]
  },
  {
   "attachments": {},
   "cell_type": "markdown",
   "metadata": {},
   "source": [
    "##### &emsp;&emsp; Wekkly released counts"
   ]
  },
  {
   "cell_type": "code",
   "execution_count": null,
   "metadata": {},
   "outputs": [],
   "source": [
    "## Airing Days\n",
    "\n",
    "dataTV.Broadcast.value_counts()"
   ]
  },
  {
   "cell_type": "code",
   "execution_count": 80,
   "metadata": {},
   "outputs": [],
   "source": [
    "## Each weekday count\n",
    "broadcast_count = broadcast_group['Broadcast'].count()\n",
    "\n",
    "#Drop elements\n",
    "# broadcast_count = broadcast_count.drop(['Not scheduled once per week\\n', 'Unknown\\n'])\n",
    "\n",
    "# Reorder elements\n",
    "date_order = ['Mondays', 'Tuesdays', 'Wednesdays', 'Thursdays', 'Fridays', 'Saturdays', 'Sundays']\n",
    "broadcast_count = broadcast_count.reindex(date_order)"
   ]
  },
  {
   "cell_type": "code",
   "execution_count": null,
   "metadata": {},
   "outputs": [],
   "source": [
    "# ax = broadcast_count.plot.bar()\n",
    "\n",
    "# ax.set_title('Weekly releases')\n",
    "# ax.set_ylabel('Counts')\n",
    "\n",
    "# pingi = sns.load_dataset('penguins')\n",
    "# ax = sns.barplot(data=pingi, x = 'island', y='body_mass_g', hue='sex')"
   ]
  },
  {
   "cell_type": "code",
   "execution_count": 81,
   "metadata": {},
   "outputs": [
    {
     "data": {
      "image/png": "[encoded data removed]",
      "text/plain": [
       "<Figure size 1000x500 with 1 Axes>"
      ]
     },
     "metadata": {},
     "output_type": "display_data"
    }
   ],
   "source": [
    "plt.figure(figsize=(10,5))\n",
    "\n",
    "ax = sns.barplot(x = broadcast_count.index,\n",
    "                 y = broadcast_count.values\n",
    "                 )\n",
    "\n",
    "ax.set(title='Weekly Broadcast count')\n",
    "\n",
    "ax.tick_params(axis='x',\n",
    "               rotation = 45\n",
    "               )\n",
    "\n",
    "\n",
    "\n",
    "for container in ax.containers:\n",
    "    ax.bar_label(container)\n",
    "\n",
    "\n",
    "plt.savefig(save_path+'/Broadcast/weekday_count.jpg',\n",
    "            transparent = False,\n",
    "            bbox_inches = 'tight'\n",
    "            )"
   ]
  },
  {
   "cell_type": "code",
   "execution_count": null,
   "metadata": {},
   "outputs": [],
   "source": [
    "date_order = ['Mondays', 'Tuesdays', 'Wednesdays', 'Thursdays', 'Fridays', 'Saturdays', 'Sundays']\n",
    "\n",
    "ax = sns.catplot(data = dataTV,\n",
    "                 x= 'Broadcast',\n",
    "                 kind = 'count',\n",
    "                 order= date_order,                \n",
    "            )\n",
    "\n",
    "ax.tick_params(axis='x',\n",
    "              rotation = 45)\n",
    "\n",
    "# for container in ax.containers:\n",
    "#     ax.bar_label(container)"
   ]
  },
  {
   "attachments": {},
   "cell_type": "markdown",
   "metadata": {},
   "source": [
    "##### &emsp;&emsp; Seasonly"
   ]
  },
  {
   "cell_type": "code",
   "execution_count": 92,
   "metadata": {},
   "outputs": [
    {
     "data": {
      "image/png": "[encoded data removed]",
      "text/plain": [
       "<Figure size 1500x800 with 1 Axes>"
      ]
     },
     "metadata": {},
     "output_type": "display_data"
    }
   ],
   "source": [
    "# %config InlineBackend.figure_format = 'retina'\n",
    "\n",
    "# broadcast_group['Premiered_Season'].describe()\n",
    "# broadcast_group['Premiered_Season'].value_counts().plot.bar(figsize = (15,5))\n",
    "## TODO Check premaird season varible\n",
    "ax = (broadcast_group['Prem_Season'].value_counts()\n",
    "                                    .unstack()\n",
    "                                    .reindex(date_order)\n",
    "                                    .plot.bar(figsize = (15,8), fontsize=13)\n",
    "                                    )\n",
    "\n",
    "ax.set_title('Broadcast day Seasonly counts', fontsize=15 )\n",
    "ax.set_xlabel('Broadcast Day', fontsize = 15)\n",
    "# ax.set_ylabel('Count',fontsize=15)\n",
    "\n",
    "ax.set_yticklabels('')\n",
    "       \n",
    "ax.tick_params(axis = 'x', \n",
    "               rotation=45)\n",
    "\n",
    "for container in ax.containers:\n",
    "    ax.bar_label(container)\n",
    "\n",
    "\n",
    "plt.savefig(save_path+'/Broadcast/season_count.jpg',\n",
    "            transparent = False,\n",
    "            bbox_inches = 'tight'\n",
    "            )"
   ]
  },
  {
   "cell_type": "code",
   "execution_count": null,
   "metadata": {},
   "outputs": [],
   "source": [
    "# sns.barplot()"
   ]
  },
  {
   "cell_type": "code",
   "execution_count": null,
   "metadata": {},
   "outputs": [],
   "source": [
    "# sns.catplot(data = dataTV,\n",
    "#             x = 'Premiered_Season',\n",
    "#             col = 'Premiered_Season',\n",
    "#             y='Broadcast',\n",
    "#             kind = 'count')\n",
    "\n",
    "\n",
    "# sns.catplot( x = season_count,\n",
    "#             y = broadcast_count\n",
    "#             )"
   ]
  },
  {
   "attachments": {},
   "cell_type": "markdown",
   "metadata": {},
   "source": [
    "##### &emsp;&emsp; Monthly"
   ]
  },
  {
   "cell_type": "code",
   "execution_count": 107,
   "metadata": {},
   "outputs": [],
   "source": [
    "# broadcast_group['Prem_Year'].value_counts().unstack(fill_value=0)#.plot.bar()"
   ]
  },
  {
   "cell_type": "code",
   "execution_count": 154,
   "metadata": {},
   "outputs": [],
   "source": [
    "month_broadcast = airMonth_group['Broadcast']\n",
    "\n",
    "month_broadcast_count = month_broadcast.value_counts().unstack(fill_value=0, level=0)\n",
    "month_broadcast_count = month_broadcast_count.reindex(date_order)\n",
    "month_broadcast_count.columns = months\n"
   ]
  },
  {
   "cell_type": "code",
   "execution_count": 160,
   "metadata": {},
   "outputs": [
    {
     "data": {
      "text/plain": [
       "<Axes: xlabel='Broadcast'>"
      ]
     },
     "execution_count": 160,
     "metadata": {},
     "output_type": "execute_result"
    },
    {
     "data": {
      "image/png": "[encoded data removed]",
      "text/plain": [
       "<Figure size 640x480 with 1 Axes>"
      ]
     },
     "metadata": {},
     "output_type": "display_data"
    }
   ],
   "source": [
    "month_broadcast_count.plot.bar()"
   ]
  },
  {
   "attachments": {},
   "cell_type": "markdown",
   "metadata": {},
   "source": [
    "#### &emsp; Sources"
   ]
  },
  {
   "cell_type": "code",
   "execution_count": 169,
   "metadata": {},
   "outputs": [],
   "source": [
    "# broadcast_group['Studio'].value_counts().unstack(fill_value=0)"
   ]
  },
  {
   "cell_type": "markdown",
   "metadata": {},
   "source": [
    "#### &emsp; Age Rating"
   ]
  },
  {
   "cell_type": "markdown",
   "metadata": {},
   "source": [
    "#### &emsp; Genres"
   ]
  },
  {
   "cell_type": "markdown",
   "metadata": {},
   "source": [
    "#### &emsp; Producers"
   ]
  },
  {
   "cell_type": "markdown",
   "metadata": {},
   "source": [
    "#### &emsp; Demograph"
   ]
  },
  {
   "cell_type": "markdown",
   "metadata": {},
   "source": [
    "#### &emsp; Themes"
   ]
  },
  {
   "cell_type": "markdown",
   "metadata": {},
   "source": [
    "#### &emsp; Source"
   ]
  },
  {
   "attachments": {},
   "cell_type": "markdown",
   "metadata": {},
   "source": [
    "-----\n",
    "-----\n",
    "### ___Studios Stats___\n",
    "<p> all studios below in comment</p>\n",
    "\n",
    "\n",
    "<!-- # ['8bit', 'A-1 Pictures', 'A.C.G.T.', 'Ajia-do', 'Artland',\n",
    "    # 'Bandai Namco Pictures', 'Bibury Animation Studios', 'Bones',\n",
    "    # 'Brain's Base', 'C-Station', 'CloverWorks', 'David Production',\n",
    "    # 'Gainax', 'Gallop', 'Geno Studio', 'Gonzo', 'Hal Film Maker', 'Imagin',\n",
    "    # 'J.C.Staff', 'Kinema Citrus', 'Kyoto Animation', 'Lerche', 'MAPPA',\n",
    "    # 'Madhouse', 'Manglobe', 'Mushi Production', 'Nexus', 'Nippon Animation',\n",
    "    # 'OLM', 'Orange', 'P.A. Works', 'Pastel', 'Pierrot', 'Platinum Vision',\n",
    "    # 'Production I.G', 'SILVER LINK.', 'Satelight', 'Science SARU', 'Shaft',\n",
    "    # 'Shin-Ei Animation', 'Shuka', 'Studio Bind', 'Studio Deen',\n",
    "    # 'Studio Hibari', 'Sunrise', 'SynergySP', 'TMS Entertainment', 'TROYCA',\n",
    "    # 'Tatsunoko Production', 'Telecom Animation Film', 'Telescreen',\n",
    "    # 'Tezuka Productions', 'Toei Animation', 'Tokyo Movie Shinsha',\n",
    "    # 'Triangle Staff', 'White Fox', 'Wit Studio', 'Zero-G', 'feel.',\n",
    "    # 'ufotable'] -->"
   ]
  },
  {
   "cell_type": "code",
   "execution_count": null,
   "metadata": {},
   "outputs": [],
   "source": [
    "# studi_count = dataTV.Studio.value_counts()\n",
    "\n",
    "studio_group = dataTV.groupby('Studio')#.value_counts().plot.bar(figsize = (15,5))\n"
   ]
  },
  {
   "cell_type": "code",
   "execution_count": null,
   "metadata": {},
   "outputs": [],
   "source": [
    "studio_names = studio_group.first().index\n",
    "\n",
    "\n",
    "len(studio_names)       ## There are 60 Studios"
   ]
  },
  {
   "attachments": {},
   "cell_type": "markdown",
   "metadata": {},
   "source": [
    "#### Counts"
   ]
  },
  {
   "cell_type": "code",
   "execution_count": null,
   "metadata": {},
   "outputs": [],
   "source": [
    "studio_count = studio_group['Studio'].count()\n",
    "len(studio_count.values)"
   ]
  },
  {
   "cell_type": "code",
   "execution_count": null,
   "metadata": {},
   "outputs": [],
   "source": [
    "plt.figure(figsize=(15,5))\n",
    "\n",
    "ax = sns.barplot(x = studio_count.index,\n",
    "                 y = studio_count.values)\n",
    "\n",
    "ax.tick_params(rotation = 90)\n",
    "ax.set_title('Studio anime release count')\n",
    "\n",
    "\n",
    "plt.savefig(save_path+'/Studio/all_studio_count.png',\n",
    "            transparent = False,\n",
    "            bbox_inches = 'tight'\n",
    "            )"
   ]
  },
  {
   "cell_type": "code",
   "execution_count": null,
   "metadata": {},
   "outputs": [],
   "source": [
    "less_five = (studio_count.where((studio_count.values > 1) & (studio_count.values < 5))).dropna()\n",
    "less_ten = (studio_count.where((studio_count.values > 4) & (studio_count.values < 10))).dropna()\n",
    "more_ten = (studio_count.where(studio_count.values > 9)).dropna()\n",
    "\n",
    "\n",
    "fig,ax = plt.subplots(1,3, figsize = (15,5))\n",
    "fig.suptitle('Animes releases based on ranges')\n",
    "fig.tight_layout(h_pad=15)\n",
    "fig.subplots_adjust(top = .85)      # Header Size\n",
    "\n",
    "\n",
    "\n",
    "sns.barplot(ax = ax[0],\n",
    "            x = less_five.index,\n",
    "            y = less_five.values\n",
    "            )\n",
    "\n",
    "sns.barplot(ax = ax[1],\n",
    "            x = less_ten.index,\n",
    "            y = less_ten.values\n",
    "            )\n",
    "\n",
    "sns.barplot(ax= ax[2],\n",
    "            x = more_ten.index, \n",
    "            y = more_ten.values)\n",
    "\n",
    "\n",
    "ax[0].set_title('Less than 5 animes releases')\n",
    "ax[1].set_title('Between 5 and 10 animes released')\n",
    "ax[2].set_title('More than 10 animes releases')\n",
    "\n",
    "\n",
    "ax[0].tick_params(rotation = 90)\n",
    "ax[1].tick_params(rotation = 90)\n",
    "ax[2].tick_params(rotation = 90)\n",
    "\n",
    "# less_ten.plot.bar()\n",
    "# more_ten.plot.bar()\n",
    "\n",
    "\n",
    "plt.savefig(save_path+'/Studio/range_releases.png',\n",
    "            transparent = False,\n",
    "            bbox_inches = 'tight'\n",
    "            )"
   ]
  },
  {
   "cell_type": "code",
   "execution_count": null,
   "metadata": {},
   "outputs": [],
   "source": []
  },
  {
   "attachments": {},
   "cell_type": "markdown",
   "metadata": {},
   "source": [
    "#### &emsp; Premiered"
   ]
  },
  {
   "cell_type": "markdown",
   "metadata": {},
   "source": [
    "#### &emsp; Age Rating"
   ]
  },
  {
   "cell_type": "markdown",
   "metadata": {},
   "source": [
    "#### &emsp; Genres"
   ]
  },
  {
   "cell_type": "markdown",
   "metadata": {},
   "source": [
    "#### &emsp; Producers"
   ]
  },
  {
   "cell_type": "markdown",
   "metadata": {},
   "source": [
    "#### &emsp; Demograph"
   ]
  },
  {
   "cell_type": "markdown",
   "metadata": {},
   "source": [
    "#### &emsp; Themes"
   ]
  },
  {
   "cell_type": "markdown",
   "metadata": {},
   "source": [
    "#### &emsp; Source"
   ]
  },
  {
   "attachments": {},
   "cell_type": "markdown",
   "metadata": {},
   "source": [
    "-----\n",
    "----\n",
    "### ___Age rating releases___"
   ]
  },
  {
   "attachments": {},
   "cell_type": "markdown",
   "metadata": {},
   "source": [
    "#### Age Ratings Counts"
   ]
  },
  {
   "cell_type": "code",
   "execution_count": null,
   "metadata": {},
   "outputs": [],
   "source": [
    "# dataTV['Age Ratingn'].value_counts().plot.bar()\n",
    "\n",
    "# plt.title('Age Rating Counts')\n",
    "# # plt.grid()"
   ]
  },
  {
   "cell_type": "code",
   "execution_count": null,
   "metadata": {},
   "outputs": [],
   "source": [
    "age_group = dataTV.groupby('Age Ratingn')['Age Ratingn']\n",
    "age_count = age_group.count()"
   ]
  },
  {
   "attachments": {},
   "cell_type": "markdown",
   "metadata": {},
   "source": [
    "#### &emsp; Premiered"
   ]
  },
  {
   "attachments": {},
   "cell_type": "markdown",
   "metadata": {},
   "source": [
    "#### &emsp; Broadcast"
   ]
  },
  {
   "attachments": {},
   "cell_type": "markdown",
   "metadata": {},
   "source": [
    "#### &emsp; Studio Rating Releases"
   ]
  },
  {
   "cell_type": "code",
   "execution_count": null,
   "metadata": {},
   "outputs": [],
   "source": [
    "studio_group['Age Ratingn'].value_counts().unstack()#.plot.bar(figsize = (15,5))\n",
    "# strudio_age = studio_group['Age Ratingn']\n"
   ]
  },
  {
   "cell_type": "code",
   "execution_count": null,
   "metadata": {},
   "outputs": [],
   "source": [
    "studio_age = studio_group['Age Ratingn'].value_counts()\n",
    "\n",
    "\n",
    "sAge_count = studio_age.unstack(level=0)\n",
    "\n",
    "\n",
    "plt.figure(figsize = (50,5))\n",
    "ax = (studio_age.unstack(level=0)\n",
    "            .plot.bar() \n",
    "            )\n",
    "\n",
    "ax.legend(\"\")\n",
    "plt.title('Amount of studio ageRatings Releases')\n",
    "\n",
    "\n",
    "\n",
    "\n",
    "plt.savefig(save_path+'/Age_ratings/ageRatingCount.png',\n",
    "            transparent = False,\n",
    "            bbox_inches = 'tight'\n",
    "            )\n"
   ]
  },
  {
   "cell_type": "code",
   "execution_count": null,
   "metadata": {},
   "outputs": [],
   "source": [
    "# studio_age.index[0]\n",
    "\n",
    "# sns.barplot(x = studio_age.index,\n",
    "#             y = studio_age['Age Ratingn'].values)"
   ]
  },
  {
   "cell_type": "code",
   "execution_count": null,
   "metadata": {},
   "outputs": [],
   "source": [
    "## Zoomed in graph of above\n",
    "\n",
    "pg13_studios = strudio_age.unstack(level=1)['PG-13'].dropna()\n",
    "\n",
    "# pg13_studios.plot.bar(figsize = (15,5))\n",
    "plt.figure(figsize=(15,5))\n",
    "\n",
    "ax = sns.barplot(x = pg13_studios.index,\n",
    "                 y = pg13_studios.values)\n",
    "\n",
    "ax.set_title('PG 13 Ratings')\n",
    "ax.tick_params(rotation = 90)"
   ]
  },
  {
   "cell_type": "code",
   "execution_count": null,
   "metadata": {},
   "outputs": [],
   "source": [
    "g_studios = (strudio_age.unstack(level=1)['G'].dropna()).astype(int)\n",
    "pg_studios = (strudio_age.unstack(level=1)['PG'].dropna()).astype(int)\n",
    "pg13_studios = (strudio_age.unstack(level=1)['PG-13'].dropna()).astype(int)\n",
    "r_studios = (strudio_age.unstack(level=1)['R'].dropna()).astype(int)\n",
    "rPlus_studios = (strudio_age.unstack(level=1)['R+'].dropna()).astype(int)"
   ]
  },
  {
   "cell_type": "code",
   "execution_count": null,
   "metadata": {},
   "outputs": [],
   "source": [
    "len(pg13_studios)        ## Means total of 50 Studios have PG13 Releases"
   ]
  },
  {
   "cell_type": "code",
   "execution_count": null,
   "metadata": {},
   "outputs": [],
   "source": [
    "fig, ax = plt.subplots(3,1, figsize=(15,20))\n",
    "fig.suptitle('Studio Age Rating Counts', fontsize = 20)\n",
    "fig.tight_layout(h_pad=20)\n",
    "fig.subplots_adjust(top = .9)\n",
    "\n",
    "\n",
    "## Defining each subplot\n",
    "# sns.barplot(ax= ax[0], \n",
    "#             x = g_studios.index,\n",
    "#             y = g_studios.values)\n",
    "\n",
    "# sns.barplot(ax= ax[1], \n",
    "#             x = pg_studios.index,\n",
    "#             y = pg_studios.values)\n",
    "\n",
    "sns.barplot(ax= ax[0], \n",
    "            x = pg13_studios.index,\n",
    "            y = pg13_studios.values)\n",
    "\n",
    "sns.barplot(ax= ax[1], \n",
    "            x = r_studios.index,\n",
    "            y = r_studios.values)\n",
    "\n",
    "sns.barplot(ax= ax[2], \n",
    "            x = rPlus_studios.index,\n",
    "            y = rPlus_studios.values)\n",
    "\n",
    "for i in ax:\n",
    "    i.tick_params(labelsize = 15, rotation = 90)\n",
    "    i.set_xlabel(' ')\n",
    "    i.set(yticklabels =[])          # Removes ylable data\n",
    "\n",
    "    # Puts value numbers ontop graph bars\n",
    "    for container in i.containers:\n",
    "        i.bar_label(container, fontsize = 13)\n",
    "\n",
    "\n",
    "ax[0].set_title('PG13 Rating',  fontsize = 17)\n",
    "ax[1].set_title('R Rating',     fontsize = 17)\n",
    "ax[2].set_title('R+ Rating',    fontsize = 17)\n",
    "\n",
    "\n",
    "# plt.show()\n",
    "\n",
    "\n",
    "\n",
    "plt.savefig(save_path+'/Age_Ratings/age_ratings_count.png',\n",
    "            transparent = False,\n",
    "            bbox_inches = 'tight'\n",
    "            )"
   ]
  },
  {
   "cell_type": "code",
   "execution_count": null,
   "metadata": {},
   "outputs": [],
   "source": [
    "# strudio_age\n",
    "\n",
    "\n",
    "# sns.barplot(x = s_age.index,\n",
    "#             y = s_age.values)"
   ]
  },
  {
   "cell_type": "code",
   "execution_count": null,
   "metadata": {},
   "outputs": [],
   "source": [
    "# mask = (dataTV['Studio'].str.contains('Bones') & dataTV['Age Ratingn'].str.contains('PG-13'))\n",
    "\n",
    "# dataTV[mask]"
   ]
  },
  {
   "cell_type": "code",
   "execution_count": null,
   "metadata": {},
   "outputs": [],
   "source": [
    "# mask = (dataTV['Title'].str.contains('Boku no Hero'))\n",
    "# mask = (dataTV['Title'].str.contains('Shingeki no Kyo'))\n",
    "# mask = (dataTV['Title'].str.contains('Code'))\n",
    "\n",
    "# # data[mask]\n",
    "\n",
    "# dataTV[mask]#'Rating'].mean()"
   ]
  },
  {
   "cell_type": "code",
   "execution_count": null,
   "metadata": {},
   "outputs": [],
   "source": []
  },
  {
   "cell_type": "code",
   "execution_count": null,
   "metadata": {},
   "outputs": [],
   "source": []
  },
  {
   "attachments": {},
   "cell_type": "markdown",
   "metadata": {},
   "source": [
    "#### &emsp; Age Rating"
   ]
  },
  {
   "cell_type": "markdown",
   "metadata": {},
   "source": [
    "#### &emsp; Genres"
   ]
  },
  {
   "cell_type": "markdown",
   "metadata": {},
   "source": [
    "#### &emsp; Producers"
   ]
  },
  {
   "cell_type": "markdown",
   "metadata": {},
   "source": [
    "#### &emsp; Demograph"
   ]
  },
  {
   "cell_type": "markdown",
   "metadata": {},
   "source": [
    "#### &emsp; Themes"
   ]
  },
  {
   "cell_type": "markdown",
   "metadata": {},
   "source": [
    "#### &emsp; Source"
   ]
  },
  {
   "attachments": {},
   "cell_type": "markdown",
   "metadata": {},
   "source": [
    "-----\n",
    "----\n",
    "### ___Generes___\n",
    "\n",
    "Fix after running other code again"
   ]
  },
  {
   "cell_type": "code",
   "execution_count": null,
   "metadata": {},
   "outputs": [],
   "source": [
    "genreNames = ['Action', 'Adventure', 'Avant Garde', 'Award Winning','Boys Love', 'Comedy', \n",
    "              'Drama', 'Ecchi', 'Fantasy', 'Gourmet', 'Horror', 'Mystery', 'Romance',\n",
    "              'Sci-Fi', 'Slice of Life', 'Sports', 'Supernatural', 'Suspense']\n",
    "\n",
    "# len(genreNames)"
   ]
  },
  {
   "attachments": {},
   "cell_type": "markdown",
   "metadata": {},
   "source": [
    "#### &emsp; Counts"
   ]
  },
  {
   "cell_type": "code",
   "execution_count": null,
   "metadata": {},
   "outputs": [],
   "source": [
    "genList = []\n",
    "for genre in genreNames:\n",
    "    genreLen = (dataTV['Genres'].str.contains(genre)).sum()\n",
    "\n",
    "    genList.append(genreLen)\n",
    "\n",
    "\n",
    "    print(f'Number of items in {genre}: ', genreLen)"
   ]
  },
  {
   "cell_type": "code",
   "execution_count": null,
   "metadata": {},
   "outputs": [],
   "source": [
    "plt.figure(figsize = (15,8))\n",
    "\n",
    "\n",
    "ax = sns.barplot(x= genreNames,\n",
    "                 y = genList\n",
    "                 )\n",
    "\n",
    "\n",
    "ax.set_title('Genre Type count', fontsize = 17)\n",
    "ax.tick_params(axis ='x', \n",
    "               rotation = 45)\n",
    "\n",
    "ax.set_xlabel(\"Genres\", fontsize =15)\n",
    "# ax.set_ylabel(\"Count\", fontsize =15)\n",
    "ax.set_yticklabels([])\n",
    "\n",
    "\n",
    "\n",
    "for container in ax.containers:\n",
    "    ax.bar_label(container)\n",
    "\n",
    "\n",
    "\n",
    "plt.savefig(save_path+'/Genres/all_count.png',\n",
    "            transparent = False,\n",
    "            bbox_inches = 'tight'\n",
    "            )"
   ]
  },
  {
   "attachments": {},
   "cell_type": "markdown",
   "metadata": {},
   "source": [
    "###### Delete this Draft"
   ]
  },
  {
   "cell_type": "code",
   "execution_count": null,
   "metadata": {},
   "outputs": [],
   "source": [
    "genreList = ((dataTV.Genres).str.split(\"'\").str[1::2])\n",
    "\n",
    "ax = genreList.str.len().value_counts().sort_index().plot.bar(legend = False)\n",
    "ax.set_title('Genre Counts')\n",
    "ax.set_xlabel('Number of genres')\n",
    "# ax.grid('on', axis = 'y' )\n",
    "# ax.bar_label(ax.containers[1])\n",
    "\n",
    "# ax.xl\n",
    "\n",
    "for container in ax.containers:\n",
    "    ax.bar_label(container)"
   ]
  },
  {
   "cell_type": "code",
   "execution_count": null,
   "metadata": {},
   "outputs": [],
   "source": [
    "# actionList = []\n",
    "# adventureList = []\n",
    "# awardWList = []\n",
    "# avantGrandeList = []\n",
    "\n",
    "# lenList = []\n",
    "\n",
    "# # for index, value in enumerate(genreNames):\n",
    "# for index, value in enumerate(genreList):\n",
    "#     # print(index,str(value))\n",
    "\n",
    "#     action_Sum      = (str(value.__contains__(genreNames[0]))).count('True')\n",
    "#     adventure_Sum   = (str(value.__contains__(genreNames[1]))).count('True')\n",
    "#     avantGarde_Sum  = (str(value.__contains__(genreNames[2]))).count('True')\n",
    "#     awardW_Sum      = (str(value.__contains__(genreNames[3]))).count('True')\n",
    "\n",
    "\n",
    "\n",
    "#     (actionList.append(action_Sum))\n",
    "#     (adventureList.append(adventure_Sum))\n",
    "#     (avantGrandeList.append(avantGarde_Sum))\n",
    "#     (awardWList.append(awardW_Sum))\n",
    "\n",
    "\n",
    "#     lenList.append([actionList.count, adventureList])\n",
    "\n",
    "#     # print('test', comedySum)  \n",
    "\n",
    "\n",
    "# print(genreNames[0],'\\t len:',sum(actionList))\n",
    "# print(genreNames[1],'\\t len:',sum(adventureList))\n",
    "# print(genreNames[2],'\\t len:',sum(avantGrandeList))\n",
    "# print(genreNames[3],'\\t len:',sum(awardWList))\n",
    "\n",
    "\n",
    "# print('Testing len:', (lenList[0]))"
   ]
  },
  {
   "cell_type": "code",
   "execution_count": null,
   "metadata": {},
   "outputs": [],
   "source": [
    "testlist =[]\n",
    "\n",
    "# genreNames = genreNames\n",
    "for i in genreList:\n",
    "\n",
    "    for j in dataTV.Genres:\n",
    "\n",
    "        test = j.__contains__(str(i))\n",
    "    \n",
    "        # testlist.append(test)\n",
    "\n",
    "        # test = (j.__contains__(i))\n",
    "    \n",
    "        print(test)\n",
    "\n",
    "\n",
    "# print((testlist))\n"
   ]
  },
  {
   "cell_type": "code",
   "execution_count": null,
   "metadata": {},
   "outputs": [],
   "source": [
    "# dataTV['Action_TF'] = str(genreList.values[2])\n",
    "\n",
    "# dataTV.Action_TF\n",
    "\n",
    "\n",
    "# dataTV.groupby(['Themes'][0])['Themes'].count()\n"
   ]
  },
  {
   "cell_type": "code",
   "execution_count": null,
   "metadata": {},
   "outputs": [],
   "source": [
    "(genreList.values[2]).__contains__('Suspense')"
   ]
  },
  {
   "cell_type": "code",
   "execution_count": null,
   "metadata": {},
   "outputs": [],
   "source": [
    "# dataTV['Genres'].str.contains('Action').sum()\n",
    "\n",
    "genreNames"
   ]
  },
  {
   "cell_type": "code",
   "execution_count": null,
   "metadata": {},
   "outputs": [],
   "source": [
    "\n"
   ]
  },
  {
   "attachments": {},
   "cell_type": "markdown",
   "metadata": {},
   "source": [
    "#### &emsp; Broadcast"
   ]
  },
  {
   "attachments": {},
   "cell_type": "markdown",
   "metadata": {},
   "source": [
    "#### &emsp; Studio"
   ]
  },
  {
   "cell_type": "markdown",
   "metadata": {},
   "source": [
    "#### &emsp; Age Rating"
   ]
  },
  {
   "cell_type": "markdown",
   "metadata": {},
   "source": [
    "#### &emsp; Genres"
   ]
  },
  {
   "cell_type": "markdown",
   "metadata": {},
   "source": [
    "#### &emsp; Producers"
   ]
  },
  {
   "cell_type": "markdown",
   "metadata": {},
   "source": [
    "#### &emsp; Demograph"
   ]
  },
  {
   "cell_type": "markdown",
   "metadata": {},
   "source": [
    "#### &emsp; Themes"
   ]
  },
  {
   "cell_type": "markdown",
   "metadata": {},
   "source": [
    "#### &emsp; Source"
   ]
  },
  {
   "attachments": {},
   "cell_type": "markdown",
   "metadata": {},
   "source": [
    "----\n",
    "-----\n",
    "### ___Producers___"
   ]
  },
  {
   "attachments": {},
   "cell_type": "markdown",
   "metadata": {},
   "source": [
    "#### &emsp; Count"
   ]
  },
  {
   "cell_type": "code",
   "execution_count": null,
   "metadata": {},
   "outputs": [],
   "source": [
    "dataTV.Producer.value_counts()[:20].plot(kind='bar', figsize=(15,5), grid=True)"
   ]
  },
  {
   "attachments": {},
   "cell_type": "markdown",
   "metadata": {},
   "source": [
    "#### &emsp; Premiered"
   ]
  },
  {
   "attachments": {},
   "cell_type": "markdown",
   "metadata": {},
   "source": [
    "#### &emsp; Broadcast\n"
   ]
  },
  {
   "attachments": {},
   "cell_type": "markdown",
   "metadata": {},
   "source": [
    "#### &emsp; Studio"
   ]
  },
  {
   "attachments": {},
   "cell_type": "markdown",
   "metadata": {},
   "source": [
    "#### &emsp; Age Rating\n"
   ]
  },
  {
   "attachments": {},
   "cell_type": "markdown",
   "metadata": {},
   "source": [
    "#### &emsp; Genres\n"
   ]
  },
  {
   "attachments": {},
   "cell_type": "markdown",
   "metadata": {},
   "source": [
    "#### &emsp; Producers\n"
   ]
  },
  {
   "attachments": {},
   "cell_type": "markdown",
   "metadata": {},
   "source": [
    "#### &emsp; Demograph\n"
   ]
  },
  {
   "attachments": {},
   "cell_type": "markdown",
   "metadata": {},
   "source": [
    "\n",
    "#### &emsp; Themes\n"
   ]
  },
  {
   "cell_type": "markdown",
   "metadata": {},
   "source": [
    "#### &emsp; Source"
   ]
  },
  {
   "attachments": {},
   "cell_type": "markdown",
   "metadata": {},
   "source": [
    "-----\n",
    "------\n",
    "### ___Demograph___"
   ]
  },
  {
   "attachments": {},
   "cell_type": "markdown",
   "metadata": {},
   "source": [
    "#### &emsp; Count\n"
   ]
  },
  {
   "cell_type": "code",
   "execution_count": null,
   "metadata": {},
   "outputs": [],
   "source": [
    "uniqueDemo = ['Josei', 'Kids', 'Seinen', 'Shoujo', 'Shounen'] "
   ]
  },
  {
   "cell_type": "code",
   "execution_count": null,
   "metadata": {},
   "outputs": [],
   "source": [
    "demograph_group = dataTV.groupby(dataTV['Demograph'])\n",
    "demograph_count = demograph_group['Demograph'].count()\n",
    "\n",
    "demograph_count"
   ]
  },
  {
   "cell_type": "code",
   "execution_count": null,
   "metadata": {},
   "outputs": [],
   "source": [
    "# demograph_group.first()"
   ]
  },
  {
   "attachments": {},
   "cell_type": "markdown",
   "metadata": {},
   "source": [
    "#### &emsp;  demo Count"
   ]
  },
  {
   "cell_type": "code",
   "execution_count": null,
   "metadata": {},
   "outputs": [],
   "source": [
    "# ax = demograph_count.plot.bar()\n",
    "\n",
    "plt.figure(figsize=(10,4))\n",
    "\n",
    "ax = sns.barplot(x = demograph_count.index,\n",
    "                 y = demograph_count.values)\n",
    "\n",
    "ax.set_title('Demograph type counts')\n",
    "ax.set_yticklabels('')\n",
    " \n",
    "\n",
    "\n",
    "for container in ax.containers:\n",
    "    ax.bar_label(container)\n",
    "\n",
    "\n",
    "\n",
    "plt.savefig(save_path+'/Demograph/demograph_count.png',\n",
    "            transparent = False,\n",
    "            bbox_inches = 'tight'\n",
    "            )\n"
   ]
  },
  {
   "attachments": {},
   "cell_type": "markdown",
   "metadata": {},
   "source": [
    "#### &emsp; Premaired\n",
    "\n"
   ]
  },
  {
   "cell_type": "code",
   "execution_count": null,
   "metadata": {},
   "outputs": [],
   "source": [
    "demo_season = demograph_group['Premiered_Season'].value_counts().unstack(fill_value=0)\n",
    "\n",
    "# ax = sns.barplot(x = demo_season,\n",
    "#                  y = demo_season.values)\n",
    "\n",
    "demo_season.plot.bar()\n",
    "\n",
    "plt.savefig(save_path+'/Demograph/demograph_season.png',\n",
    "            transparent = False,\n",
    "            bbox_inches = 'tight'\n",
    "            )\n"
   ]
  },
  {
   "attachments": {},
   "cell_type": "markdown",
   "metadata": {},
   "source": [
    "#### &emsp; Broadcast"
   ]
  },
  {
   "cell_type": "code",
   "execution_count": null,
   "metadata": {},
   "outputs": [],
   "source": [
    "demo_broad_count =demograph_group['Broadcast'].value_counts().unstack()\n",
    "demo_broad_count = demo_broad_count[date_order]\n",
    "\n",
    "\n",
    "ax = demo_broad_count.plot.bar()\n",
    "\n",
    "ax.set_title('Demograph aired wich days')\n",
    "\n",
    "\n",
    "plt.savefig(save_path+'/Demograph/demo_broadcast.png',\n",
    "            transparent = False,\n",
    "            bbox_inches = 'tight'\n",
    "            )"
   ]
  },
  {
   "cell_type": "code",
   "execution_count": null,
   "metadata": {},
   "outputs": [],
   "source": [
    "demograph_group.first()"
   ]
  },
  {
   "attachments": {},
   "cell_type": "markdown",
   "metadata": {},
   "source": [
    "#### &emsp;  Studio"
   ]
  },
  {
   "cell_type": "code",
   "execution_count": null,
   "metadata": {},
   "outputs": [],
   "source": [
    "demo_studio =  demograph_group['Studio'].value_counts().unstack(fill_value=0, level=0)\n",
    "\n",
    "\n",
    "# demo_studio[demo_studio.values >5]"
   ]
  },
  {
   "cell_type": "code",
   "execution_count": null,
   "metadata": {},
   "outputs": [],
   "source": [
    "# demo_studio.plot.bar(figsize = (15,8))\n",
    "# demo_studio.stack()"
   ]
  },
  {
   "attachments": {},
   "cell_type": "markdown",
   "metadata": {},
   "source": [
    "#### &emsp;  Age Rating"
   ]
  },
  {
   "cell_type": "code",
   "execution_count": null,
   "metadata": {},
   "outputs": [],
   "source": [
    "demograph_age_count = demograph_group['Age Ratingn'].value_counts().unstack()\n",
    "\n",
    "ax = demograph_age_count.plot.bar()\n",
    "ax.set_title('Age Ratings of Demographs')\n",
    "\n",
    "plt.savefig(save_path+'/Demograph/demograph_ageRating.png',\n",
    "            transparent = False,\n",
    "            bbox_inches = 'tight'\n",
    "            )\n",
    "\n",
    "\n",
    "\n",
    "# pivot = pd.pivot_table(data=dataTV,\n",
    "#                index='Demograph', \n",
    "#                columns = 'Age Ratingn',\n",
    "#                aggfunc='count',\n",
    "#                fill_value=0)['Type']\n",
    "\n",
    "# pivot\n",
    "\n",
    "# ax = pivot.plot.bar()"
   ]
  },
  {
   "attachments": {},
   "cell_type": "markdown",
   "metadata": {},
   "source": [
    "#### &emsp;  Producers"
   ]
  },
  {
   "cell_type": "code",
   "execution_count": null,
   "metadata": {},
   "outputs": [],
   "source": [
    "test =demograph_group['Producer'].value_counts().unstack(level=0, fill_value=0)#.plot.bar(figsize = (15,5))\n",
    "\n",
    "\n",
    "test.plot.bar(figsize = (15,8))\n",
    "\n",
    "plt.savefig(save_path+'/Demograph/demo_producer.png',\n",
    "            transparent = False,\n",
    "            bbox_inches = 'tight'\n",
    "            )\n"
   ]
  },
  {
   "cell_type": "code",
   "execution_count": null,
   "metadata": {},
   "outputs": [],
   "source": [
    "more_5 = test[test.values > 5].drop_duplicates()\n",
    "less_5 = test[test.values < 5].drop_duplicates()\n",
    "\n"
   ]
  },
  {
   "cell_type": "code",
   "execution_count": null,
   "metadata": {},
   "outputs": [],
   "source": [
    "# fig, ax = plt.subplots(1,2)\n",
    "\n",
    "# sns.barplot(ax = ax[0],\n",
    "#             data = more_5)"
   ]
  },
  {
   "cell_type": "code",
   "execution_count": null,
   "metadata": {},
   "outputs": [],
   "source": []
  },
  {
   "cell_type": "code",
   "execution_count": null,
   "metadata": {},
   "outputs": [],
   "source": []
  },
  {
   "attachments": {},
   "cell_type": "markdown",
   "metadata": {},
   "source": [
    "#### &emsp; Theme"
   ]
  },
  {
   "cell_type": "code",
   "execution_count": null,
   "metadata": {},
   "outputs": [],
   "source": [
    "demograph_group['Themes'].value_counts()"
   ]
  },
  {
   "cell_type": "code",
   "execution_count": null,
   "metadata": {},
   "outputs": [],
   "source": []
  },
  {
   "attachments": {},
   "cell_type": "markdown",
   "metadata": {},
   "source": [
    "#### &emsp; Source"
   ]
  },
  {
   "cell_type": "code",
   "execution_count": null,
   "metadata": {},
   "outputs": [],
   "source": []
  },
  {
   "cell_type": "code",
   "execution_count": null,
   "metadata": {},
   "outputs": [],
   "source": []
  },
  {
   "attachments": {},
   "cell_type": "markdown",
   "metadata": {},
   "source": [
    "#### Small details"
   ]
  },
  {
   "cell_type": "code",
   "execution_count": null,
   "metadata": {},
   "outputs": [],
   "source": [
    "demo_airing_or_finish = demograph_group['Status'].value_counts().unstack(fill_value=0)\n"
   ]
  },
  {
   "attachments": {},
   "cell_type": "markdown",
   "metadata": {},
   "source": [
    "----\n",
    "------\n",
    "### ___Themes___"
   ]
  },
  {
   "attachments": {},
   "cell_type": "markdown",
   "metadata": {},
   "source": [
    "#### tets"
   ]
  },
  {
   "cell_type": "code",
   "execution_count": null,
   "metadata": {},
   "outputs": [],
   "source": [
    "uniqueThemes = ['Adult Cast', 'Anthropomorphic', 'CGDCT', 'Childcare', 'Combat Sports',    \n",
    "                'Crossdressing', 'Delinquents', 'Detective', 'Educational', 'Gag Humor',     \n",
    "                'Gore','Harem', 'High Stakes Game', 'Historical', 'Idols', 'Isekai', 'Iyashikei', 'Love Polygon', 'Magical Sex Shift',     \n",
    "                'Mahou Shoujo' , 'Martial Arts', 'Mecha', 'Medical', 'Military',     'Music',    \n",
    "                'Mythology','Organized Crime','Otaku Culture', 'Parody', 'Performing Arts',     \n",
    "                'Pets', 'Psychological', 'Racing','Reincarnation', 'Reverse Harem',     \n",
    "                'Romantic Subtex', 'Samurai', 'School', 'Showbiz', 'Space', 'Strategy Game', \n",
    "                'Super Power','Survival', 'Team Sports', 'Time Travel', 'Vampire',     \n",
    "                'Video Game', 'Visual Arts', 'Workplace']"
   ]
  },
  {
   "cell_type": "code",
   "execution_count": null,
   "metadata": {},
   "outputs": [],
   "source": [
    "# len(uniqueThemes)"
   ]
  },
  {
   "cell_type": "code",
   "execution_count": null,
   "metadata": {},
   "outputs": [],
   "source": [
    "themeLen = []\n",
    "\n",
    "for themes in uniqueThemes:\n",
    "    themeSum = (dataTV['Themes'].str.contains(themes)).sum()\n",
    "\n",
    "    themeLen.append(themeSum)\n",
    "\n",
    "    # print(f'Number of items in {themes}: ', themeSum)\n"
   ]
  },
  {
   "cell_type": "code",
   "execution_count": null,
   "metadata": {},
   "outputs": [],
   "source": [
    "plt.figure(figsize=(18,8))\n",
    "\n",
    "ax = sns.barplot(x = uniqueThemes,\n",
    "                 y = themeLen)\n",
    "\n",
    "ax.set_title('Themes counts', fontsize = 17)\n",
    "ax.set_xlabel('Themes',  fontsize = 15)\n",
    "ax.set_xticklabels(labels = uniqueThemes, fontsize = 12)\n",
    "\n",
    "ax.set_yticklabels([])\n",
    "\n",
    "ax.tick_params(axis='x', \n",
    "               rotation = 90)\n",
    "\n",
    "for container in ax.containers:\n",
    "    ax.bar_label(container)\n",
    "\n",
    "\n",
    "plt.savefig(save_path+'/Themes/theme_count.png',\n",
    "            transparent = False,\n",
    "            bbox_inches = 'tight'\n",
    "            )"
   ]
  },
  {
   "cell_type": "code",
   "execution_count": null,
   "metadata": {},
   "outputs": [],
   "source": [
    "# TODO: #6 Plot smaller graphs, for less greater than 10 count\n",
    "\n",
    "# (themeLen.unstack(level=1)['G'].dropna()).astype(int)\n",
    "\n",
    "# dataTV.Themes.str.contains(uniqueThemes).count()\n",
    "# uniqueThemes\n",
    "\n",
    "# list(filter(lambda x: x>10, themeLen))\n"
   ]
  },
  {
   "attachments": {},
   "cell_type": "markdown",
   "metadata": {},
   "source": [
    "##### Meh"
   ]
  },
  {
   "cell_type": "code",
   "execution_count": null,
   "metadata": {},
   "outputs": [],
   "source": [
    "# dataTV['themeList'] = ((dataTV.Themes).str.split(\"'\"))\n",
    "\n",
    "dataTV['themeList'] = ((dataTV.Themes).str.split(\"'\").str[1::2])\n",
    "\n",
    "# counts number of indexes\n",
    "# dataTV.themeList.str.len()\n",
    "\n",
    "\n",
    "# # Counts number cointaining certain number of themes\n",
    "# # 121 entries have 1 themes\n",
    "# # 101 enreies have 2 themes\n",
    "# # 63 enreies have 3 themes\n",
    "# # 16 enreies have 4 themes\n",
    "\n",
    "((dataTV.Themes).str.split(\"'\").str[1::2]).str.len().value_counts()\n"
   ]
  },
  {
   "cell_type": "code",
   "execution_count": null,
   "metadata": {},
   "outputs": [],
   "source": [
    "# ((dataTV.Themes[8]).split(\"'\")[1::2])\n",
    "\n",
    "((dataTV.themeList)).sort_values()"
   ]
  },
  {
   "cell_type": "code",
   "execution_count": null,
   "metadata": {},
   "outputs": [],
   "source": [
    "# themes_group = dataTV.groupby(dataTV['Themes'])   ## The original colom\n",
    "themes_group = dataTV.groupby(dataTV['themeList'])"
   ]
  },
  {
   "cell_type": "code",
   "execution_count": null,
   "metadata": {},
   "outputs": [],
   "source": [
    "themes_group"
   ]
  },
  {
   "cell_type": "code",
   "execution_count": null,
   "metadata": {},
   "outputs": [],
   "source": [
    "# (dataTV.themeList)[:5].value_counts()\n",
    "(dataTV.themeList).loc[:5]"
   ]
  },
  {
   "cell_type": "code",
   "execution_count": null,
   "metadata": {},
   "outputs": [],
   "source": [
    "# Counts each adult cast occurance\n",
    "dataTV.Themes.str.count('Adult Cast').sum()\n",
    "dataTV.Themes.str.count('Childcare').sum()\n",
    "\n"
   ]
  },
  {
   "cell_type": "code",
   "execution_count": null,
   "metadata": {},
   "outputs": [],
   "source": [
    "((dataTV.Themes).str.split(\"'\").str[1::2]).str"
   ]
  },
  {
   "cell_type": "code",
   "execution_count": null,
   "metadata": {},
   "outputs": [],
   "source": []
  },
  {
   "attachments": {},
   "cell_type": "markdown",
   "metadata": {},
   "source": [
    "#### &emsp; Premiered"
   ]
  },
  {
   "cell_type": "markdown",
   "metadata": {},
   "source": [
    "#### &emsp; Broadcast"
   ]
  },
  {
   "attachments": {},
   "cell_type": "markdown",
   "metadata": {},
   "source": [
    "#### &emsp; Studio"
   ]
  },
  {
   "attachments": {},
   "cell_type": "markdown",
   "metadata": {},
   "source": [
    "#### &emsp; Age Rating\n"
   ]
  },
  {
   "attachments": {},
   "cell_type": "markdown",
   "metadata": {},
   "source": [
    "#### &emsp; Genres\n"
   ]
  },
  {
   "attachments": {},
   "cell_type": "markdown",
   "metadata": {},
   "source": [
    "#### &emsp; Producers\n"
   ]
  },
  {
   "attachments": {},
   "cell_type": "markdown",
   "metadata": {},
   "source": [
    "#### &emsp; Demograph\n",
    "\n"
   ]
  },
  {
   "attachments": {},
   "cell_type": "markdown",
   "metadata": {},
   "source": [
    "#### &emsp; Themes\n"
   ]
  },
  {
   "cell_type": "markdown",
   "metadata": {},
   "source": [
    "#### &emsp; Source"
   ]
  },
  {
   "attachments": {},
   "cell_type": "markdown",
   "metadata": {},
   "source": [
    "------\n",
    "------\n",
    "### ___Source___"
   ]
  },
  {
   "cell_type": "code",
   "execution_count": null,
   "metadata": {},
   "outputs": [],
   "source": [
    "source_group = dataTV.groupby('Source')\n",
    "source_count = source_group['Source'].count()\n",
    "\n",
    "source_count.index\n",
    "\n",
    "# demograph_group = dataTV.groupby(dataTV['Demograph'])\n",
    "# demograph_count = demograph_group['Demograph'].count()\n",
    "\n",
    "# demograph_count"
   ]
  },
  {
   "attachments": {},
   "cell_type": "markdown",
   "metadata": {},
   "source": [
    "#### &emsp; Counts"
   ]
  },
  {
   "cell_type": "code",
   "execution_count": null,
   "metadata": {},
   "outputs": [],
   "source": [
    "plt.figure(figsize=(13,5))\n",
    "\n",
    "ax = sns.barplot(x = source_count.index,\n",
    "                 y = source_count.values)\n",
    "\n",
    "\n",
    "ax.set_title('Source Counts', fontsize = 15)\n",
    "ax.set_xlabel('Source', fontsize = 15)\n",
    "\n",
    "ax.set_xticklabels(labels = source_count.index, fontsize = 12)\n",
    "ax.set_yticklabels([])\n",
    "ax.tick_params(axis='x', \n",
    "               rotation = 45)\n",
    "\n",
    "for container in ax.containers:\n",
    "    ax.bar_label(container, fontsize = 12)\n",
    "\n",
    "\n",
    "plt.savefig(save_path+'/Source/source_count.png',\n",
    "            transparent = False,\n",
    "            bbox_inches = 'tight'\n",
    "            )"
   ]
  },
  {
   "cell_type": "markdown",
   "metadata": {},
   "source": [
    "#### &emsp; Premiered"
   ]
  },
  {
   "cell_type": "markdown",
   "metadata": {},
   "source": [
    "#### &emsp; Studio"
   ]
  },
  {
   "cell_type": "markdown",
   "metadata": {},
   "source": [
    "#### &emsp; Age Rating"
   ]
  },
  {
   "cell_type": "code",
   "execution_count": null,
   "metadata": {},
   "outputs": [],
   "source": [
    "source_age = source_group['Age Ratingn'].value_counts().unstack(level=0).replace(np.nan, 0)\n",
    "\n",
    "source_age"
   ]
  },
  {
   "cell_type": "code",
   "execution_count": null,
   "metadata": {},
   "outputs": [],
   "source": [
    "ax = source_age.plot.bar()\n",
    "\n",
    "ax.set_title('Source Age ratings count')\n",
    "\n",
    "# sns.barplot(x = source_age.ind)"
   ]
  },
  {
   "cell_type": "code",
   "execution_count": null,
   "metadata": {},
   "outputs": [],
   "source": [
    "## Zoombed in of above graph\n",
    "\n",
    "pg13_source_age  = source_age.loc['PG-13']\n",
    "rPlus_source_age = source_age.loc['R+']\n",
    "\n",
    "pg13_source_age.plot.bar()"
   ]
  },
  {
   "cell_type": "code",
   "execution_count": null,
   "metadata": {},
   "outputs": [],
   "source": [
    "# source_group['Age Ratingn'].value_counts().unstack().plot.bar()\n",
    "# source_group['Age Ratingn'].value_counts().unstack()['PG-13']"
   ]
  },
  {
   "cell_type": "code",
   "execution_count": null,
   "metadata": {},
   "outputs": [],
   "source": [
    "source_group['Demograph'].value_counts().unstack()#.plot.bar()\n",
    "source_group['Demograph'].value_counts().unstack(level=0).plot.bar()"
   ]
  },
  {
   "cell_type": "code",
   "execution_count": null,
   "metadata": {},
   "outputs": [],
   "source": [
    "pivot = pd.pivot_table(data=dataTV,\n",
    "               index='Demograph', \n",
    "               columns = 'Broadcast',\n",
    "               aggfunc='count',\n",
    "               fill_value=0)['Type']\n",
    "\n",
    "pivot\n",
    "\n",
    "ax = pivot.plot.bar()\n",
    "# ax.legend(False)"
   ]
  },
  {
   "cell_type": "markdown",
   "metadata": {},
   "source": [
    "#### &emsp; Genres"
   ]
  },
  {
   "cell_type": "markdown",
   "metadata": {},
   "source": [
    "#### &emsp; Producers"
   ]
  },
  {
   "cell_type": "markdown",
   "metadata": {},
   "source": [
    "#### &emsp; Demograph"
   ]
  },
  {
   "cell_type": "markdown",
   "metadata": {},
   "source": [
    "#### &emsp; Themes"
   ]
  },
  {
   "attachments": {},
   "cell_type": "markdown",
   "metadata": {},
   "source": [
    "#### &emsp; Studio"
   ]
  },
  {
   "attachments": {},
   "cell_type": "markdown",
   "metadata": {},
   "source": [
    "----\n",
    "-----\n",
    "----\n",
    "## Only Movies"
   ]
  },
  {
   "cell_type": "code",
   "execution_count": null,
   "metadata": {},
   "outputs": [],
   "source": [
    "data.loc[data.Type == 'Movie']\n"
   ]
  },
  {
   "cell_type": "code",
   "execution_count": null,
   "metadata": {},
   "outputs": [],
   "source": []
  },
  {
   "cell_type": "code",
   "execution_count": null,
   "metadata": {},
   "outputs": [],
   "source": []
  }
 ],
 "metadata": {
  "kernelspec": {
   "display_name": "Python 3",
   "language": "python",
   "name": "python3"
  },
  "language_info": {
   "codemirror_mode": {
    "name": "ipython",
    "version": 3
   },
   "file_extension": ".py",
   "mimetype": "text/x-python",
   "name": "python",
   "nbconvert_exporter": "python",
   "pygments_lexer": "ipython3",
   "version": "3.10.4"
  },
  "orig_nbformat": 4,
  "vscode": {
   "interpreter": {
    "hash": "7cccf0148f04178e92e840c6e1071e5b6b8e5c15a27b56a3f7cc3cf5f13335e6"
   }
  }
 },
 "nbformat": 4,
 "nbformat_minor": 2
}
