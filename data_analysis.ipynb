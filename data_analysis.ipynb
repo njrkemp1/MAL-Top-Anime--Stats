{
 "cells": [
  {
   "attachments": {},
   "cell_type": "markdown",
   "metadata": {},
   "source": [
    "# Data Analist\n",
    "\n",
    "\n",
    "> This is block for test"
   ]
  },
  {
   "attachments": {},
   "cell_type": "markdown",
   "metadata": {},
   "source": [
    "## Importing libraries"
   ]
  },
  {
   "cell_type": "code",
   "execution_count": 121,
   "metadata": {},
   "outputs": [],
   "source": [
    "import numpy as np\n",
    "import pandas as pd\n",
    "import matplotlib.pyplot as plt\n",
    "import seaborn as sns\n",
    "\n",
    "import plotly as py\n"
   ]
  },
  {
   "attachments": {},
   "cell_type": "markdown",
   "metadata": {},
   "source": [
    "### Importing csv file"
   ]
  },
  {
   "cell_type": "code",
   "execution_count": 2,
   "metadata": {},
   "outputs": [],
   "source": [
    "data = pd.read_excel('multiPages.xlsx')"
   ]
  },
  {
   "cell_type": "code",
   "execution_count": null,
   "metadata": {},
   "outputs": [],
   "source": [
    "# data.head()"
   ]
  },
  {
   "attachments": {},
   "cell_type": "markdown",
   "metadata": {},
   "source": [
    "## Feature Enginering"
   ]
  },
  {
   "attachments": {},
   "cell_type": "markdown",
   "metadata": {},
   "source": [
    "### Which year made the most top rated anime\n",
    "\n",
    "This is for ALL data"
   ]
  },
  {
   "cell_type": "code",
   "execution_count": null,
   "metadata": {},
   "outputs": [],
   "source": [
    "years = np.arange(197,203,1).tolist()\n",
    "\n",
    "for year in years:\n",
    "    patternY = str(year)\n",
    "\n",
    "    yearMask = data['AirDate'].str.contains(patternY)\n",
    "    anime_Year = (data[yearMask])\n",
    "\n",
    "    print('Top animes in decade', patternY, '\\b0 :' , len(anime_Year))"
   ]
  },
  {
   "cell_type": "code",
   "execution_count": null,
   "metadata": {},
   "outputs": [],
   "source": [
    "infoMonth = []\n",
    "# If not like this, its sorted alphabeticly[Apr-Sep]\n",
    "months = ['Jan', 'Feb', 'Mar', 'Apr', 'May', 'Jun', 'Jul', 'Aug','Sep','Oct', 'Nov', 'Dec']\n",
    "\n",
    "for month in months:\n",
    "    patternM = (month)\n",
    "    monthMask = data['AirDate'].str.contains(patternM)\n",
    "    anime_Month = (data[monthMask])\n",
    "\n",
    "    print('Number animes in', patternM,' :' ,len(anime_Month))\n",
    "    # print(strMonth)\n",
    "    infoMonth.append(anime_Month)   ## To find the dataframe acc. to month index\n",
    "\n",
    "# (list(multiPage.AirDate.groupby(multiPage.AirDate.dt.year)))\n"
   ]
  },
  {
   "attachments": {},
   "cell_type": "markdown",
   "metadata": {},
   "source": [
    "---\n",
    "------\n",
    "## Only TV shows"
   ]
  },
  {
   "attachments": {},
   "cell_type": "markdown",
   "metadata": {},
   "source": [
    "### Clean-up\n",
    "<!-- > test -->"
   ]
  },
  {
   "cell_type": "code",
   "execution_count": 3,
   "metadata": {},
   "outputs": [],
   "source": [
    "dataTV = data.loc[data.Type == 'TV'].copy()"
   ]
  },
  {
   "cell_type": "code",
   "execution_count": null,
   "metadata": {},
   "outputs": [],
   "source": [
    "dataTV.columns"
   ]
  },
  {
   "attachments": {},
   "cell_type": "markdown",
   "metadata": {},
   "source": [
    "Formatting"
   ]
  },
  {
   "cell_type": "code",
   "execution_count": 4,
   "metadata": {},
   "outputs": [],
   "source": [
    "# cols_org = ['Rank', 'Title', 'Rating', 'Type', 'AirDate', 'EndDate', 'TotalEpi',\n",
    "#        'Members', 'MAL Ref', 'Status', 'Premiered', 'Broadcast', 'Studio',\n",
    "#        'Duration', 'Age Ratingn', 'Genres', 'Producer', 'Source']\n",
    "\n",
    "\n",
    "\n",
    "dataTV['AirDate_dt'] = pd.to_datetime(dataTV.AirDate, infer_datetime_format=True)\n",
    "dataTV['EndDate_dt'] = pd.to_datetime(dataTV.EndDate, infer_datetime_format=True)\n",
    "\n",
    "\n",
    "### ---Dropping unneeded coloms\n",
    "dataTV = dataTV.drop(columns=['AirDate', 'EndDate'])\n",
    "\n",
    "## Reorganizing coloms\n",
    "dataTV = dataTV[['Rank', 'Title', 'Rating', 'Type', 'AirDate_dt', 'EndDate_dt', 'TotalEpi',\n",
    "                'Members', 'MAL Ref', 'Status', 'Premiered', 'Broadcast', 'Studio',\n",
    "                'Duration', 'Age Ratingn', 'Genres', 'Producer', 'Demograph', 'Themes',\n",
    "                'Source']]\n",
    "\n"
   ]
  },
  {
   "cell_type": "code",
   "execution_count": null,
   "metadata": {},
   "outputs": [],
   "source": [
    "# dataTV.info()"
   ]
  },
  {
   "attachments": {},
   "cell_type": "markdown",
   "metadata": {},
   "source": [
    "--------\n",
    "------\n",
    "### Released Stas"
   ]
  },
  {
   "attachments": {},
   "cell_type": "markdown",
   "metadata": {},
   "source": [
    "-----\n",
    "#### Monthl released\n",
    "AirDates"
   ]
  },
  {
   "cell_type": "code",
   "execution_count": null,
   "metadata": {},
   "outputs": [],
   "source": [
    "# dataTV.AirDate_dt.astype('datetime64[ns]')\n",
    "# dataTV.AirDate_dt.dt.month_name().value_counts().sort_index()"
   ]
  },
  {
   "cell_type": "code",
   "execution_count": 30,
   "metadata": {},
   "outputs": [
    {
     "name": "stdout",
     "output_type": "stream",
     "text": [
      "Number anmies in Jan : 63\n",
      "Number anmies in Feb : 1\n",
      "Number anmies in Mar : 1\n",
      "Number anmies in Apr : 88\n",
      "Number anmies in May : 2\n",
      "Number anmies in Jun : 3\n",
      "Number anmies in Jul : 42\n",
      "Number anmies in Aug : 2\n",
      "Number anmies in Sep : 1\n",
      "Number anmies in Oct : 93\n",
      "Number anmies in Nov : 2\n",
      "Number anmies in Dec : 4\n"
     ]
    }
   ],
   "source": [
    "monthCount = dataTV.AirDate_dt.dt.month.value_counts().sort_index()\n",
    "\n",
    "j=0\n",
    "for i in monthCount:\n",
    "    months = ['Jan', 'Feb', 'Mar', 'Apr', 'May', 'Jun', 'Jul', 'Aug','Sep','Oct', 'Nov', 'Dec']\n",
    "    print(f'Number anmies in {months[j]} : {i}')\n",
    "    j=j+1\n",
    "\n",
    "\n",
    "# monthCount.plot(kind='bar',\n",
    "#                 xlabel='Months', \n",
    "#                 ylabel='Counts',\n",
    "            \n",
    "#                 title='Months the top 500 animes were released',\n",
    "#                 color = 'blue',\n",
    "#                 # rot=90 ##Rotate x value names,\n",
    "#                 figsize=(15,5)\n",
    "#                   )\n",
    "\n",
    "# dataTV.AirDate_dt.dt.year.value_counts().sort_index()"
   ]
  },
  {
   "cell_type": "code",
   "execution_count": 38,
   "metadata": {},
   "outputs": [
    {
     "data": {
      "image/png": "[encoded data removed]",
      "text/plain": [
       "<Figure size 1000x500 with 1 Axes>"
      ]
     },
     "metadata": {},
     "output_type": "display_data"
    }
   ],
   "source": [
    "plt.figure(figsize=(10,5))\n",
    "\n",
    "months = ['Jan', 'Feb', 'Mar', 'Apr', 'May', 'Jun', 'Jul', 'Aug','Sep','Oct', 'Nov', 'Dec']\n",
    "\n",
    "ax = sns.barplot(x = months,\n",
    "                 y = monthCount)\n",
    "\n",
    "ax.set_title('Months the top 500 animes were released')\n",
    "\n",
    "for container in ax.containers:\n",
    "    ax.bar_label(container)\n"
   ]
  },
  {
   "cell_type": "code",
   "execution_count": 40,
   "metadata": {},
   "outputs": [],
   "source": [
    "dataTV['Aired_months'] = dataTV.AirDate_dt.dt.month"
   ]
  },
  {
   "cell_type": "code",
   "execution_count": 41,
   "metadata": {},
   "outputs": [
    {
     "data": {
      "text/plain": [
       "<Axes: xlabel='Aired_months'>"
      ]
     },
     "execution_count": 41,
     "metadata": {},
     "output_type": "execute_result"
    },
    {
     "data": {
      "image/png": "[encoded data removed]",
      "text/plain": [
       "<Figure size 1500x500 with 1 Axes>"
      ]
     },
     "metadata": {},
     "output_type": "display_data"
    }
   ],
   "source": [
    "dataTV.groupby('Aired_months')['Aired_months'].count().plot.bar(figsize = (15,5))"
   ]
  },
  {
   "attachments": {},
   "cell_type": "markdown",
   "metadata": {},
   "source": [
    "##### Can Delete This"
   ]
  },
  {
   "cell_type": "code",
   "execution_count": null,
   "metadata": {},
   "outputs": [],
   "source": [
    "# months = ['Jan', 'Feb', 'Mar', 'Apr', 'May', 'Jun', 'Jul', 'Aug','Sep','Oct', 'Nov', 'Dec']\n",
    "\n",
    "# monthsCounts = dataTV.AirDate.str.split(' ').str[0].value_counts()\n",
    "\n",
    "# for i in months:\n",
    "#     print(f'Number anmies in {i} : {monthsCounts[i]}')\n",
    "\n",
    "\n",
    "# #--------------------\n",
    "\n",
    "# monthsCounts[months].plot(kind='bar',\n",
    "#                           xlabel='Months', \n",
    "#                           ylabel='Counts',\n",
    "#                           title='Months the top 500 animes were released',\n",
    "#                           color = 'blue',\n",
    "#                         # rot=90 ##Rotate x value names,\n",
    "#                         figsize=(15,5)\n",
    "#                           )\n"
   ]
  },
  {
   "attachments": {},
   "cell_type": "markdown",
   "metadata": {},
   "source": [
    "As we can see from the graph and and printed data, most top animes was released in year quaters."
   ]
  },
  {
   "attachments": {},
   "cell_type": "markdown",
   "metadata": {},
   "source": [
    "----\n",
    "####  Seasonly released\n",
    "\n",
    "Premiered"
   ]
  },
  {
   "cell_type": "code",
   "execution_count": 42,
   "metadata": {},
   "outputs": [],
   "source": [
    "dataTV['Premiered_Season'] =dataTV.Premiered.str.split(' ').str[0]"
   ]
  },
  {
   "cell_type": "code",
   "execution_count": 44,
   "metadata": {},
   "outputs": [
    {
     "data": {
      "image/png": "[encoded data removed]",
      "text/plain": [
       "<Figure size 640x480 with 1 Axes>"
      ]
     },
     "metadata": {},
     "output_type": "display_data"
    }
   ],
   "source": [
    "seasonGroup = dataTV.groupby('Premiered_Season')\n",
    "season_count = seasonGroup['Premiered_Season'].count()\n",
    "\n",
    "season_count = season_count.reindex(['Spring', 'Summer', 'Fall', 'Winter'])\n",
    "\n",
    "ax = season_count.plot.bar()\n",
    "ax.set_title('Seasonly Releases')\n",
    "\n",
    "for container in ax.containers:\n",
    "    ax.bar_label(container)"
   ]
  },
  {
   "attachments": {},
   "cell_type": "markdown",
   "metadata": {},
   "source": [
    "##### Other Season Count graph\n"
   ]
  },
  {
   "cell_type": "code",
   "execution_count": null,
   "metadata": {},
   "outputs": [],
   "source": [
    "# ### USE THIS WAY FROM NOW\n",
    "\n",
    "# seasonsNew = dataTV.Premiered.str.split(' ').str[0].value_counts()\n",
    "\n",
    "# print('Number animes in Fall:   ', seasonsNew[0])\n",
    "# print('Number animes in Spring: ', seasonsNew[1])\n",
    "# print('Number animes in Winter: ', seasonsNew[2])\n",
    "# print('Number animes in Summer: ', seasonsNew[3])\n",
    "\n",
    "\n",
    "# plt.barh(['Spring', 'Summer', 'Fall', 'Winter'], seasonsNew)\n",
    "# plt.title('Amount of top animes for each Season')\n",
    "# plt.ylabel('Total top animes released')"
   ]
  },
  {
   "cell_type": "code",
   "execution_count": null,
   "metadata": {},
   "outputs": [],
   "source": [
    "grouped = dataTV.groupby(['Premiered_Season', 'Broadcast'])\n",
    "\n",
    "# grouped.count()"
   ]
  },
  {
   "attachments": {},
   "cell_type": "markdown",
   "metadata": {},
   "source": [
    "----\n",
    "#### Yearly released for decade\n",
    "\n",
    "Decades devide for each release\n",
    "\n",
    "<!-- <br> - decades_data = dataTV.groupby((dataTV.AirDate_dt.dt.year//10)*10) -->\n"
   ]
  },
  {
   "cell_type": "code",
   "execution_count": 45,
   "metadata": {},
   "outputs": [
    {
     "data": {
      "text/plain": [
       "Text(0.5, 1.0, 'Top TV released per decade')"
      ]
     },
     "execution_count": 45,
     "metadata": {},
     "output_type": "execute_result"
    },
    {
     "data": {
      "image/png": "[encoded data removed]",
      "text/plain": [
       "<Figure size 640x480 with 1 Axes>"
      ]
     },
     "metadata": {},
     "output_type": "display_data"
    }
   ],
   "source": [
    "decade = (dataTV.groupby(dataTV.AirDate_dt.dt.year//10)).count()\n",
    "decade.index.name ='decades'\n",
    "\n",
    "decade = decade.reset_index().assign(decades=decade.index*10).rename(columns={'AirDate_dt':'counts'})\n",
    "decade = decade.rename(columns={'AirDate_dt':'Counts'})\n",
    "\n",
    "# decade\n",
    "\n",
    "ax =  decade.plot.bar(x='decades', \n",
    "                      y='counts',\n",
    "                      grid = False\n",
    "                    )\n",
    "ax.set_ylabel('Counts')\n",
    "ax.set_title('Top TV released per decade')"
   ]
  },
  {
   "cell_type": "code",
   "execution_count": 48,
   "metadata": {},
   "outputs": [],
   "source": [
    "# decade"
   ]
  },
  {
   "attachments": {},
   "cell_type": "markdown",
   "metadata": {},
   "source": [
    "-------\n",
    "*******\n",
    "### Ratings Stats"
   ]
  },
  {
   "attachments": {},
   "cell_type": "markdown",
   "metadata": {},
   "source": [
    "##### Seasonal Rating"
   ]
  },
  {
   "cell_type": "code",
   "execution_count": 51,
   "metadata": {},
   "outputs": [
    {
     "data": {
      "text/plain": [
       "(7.5, 9.0)"
      ]
     },
     "execution_count": 51,
     "metadata": {},
     "output_type": "execute_result"
    },
    {
     "data": {
      "image/png": "[encoded data removed]",
      "text/plain": [
       "<Figure size 640x480 with 1 Axes>"
      ]
     },
     "metadata": {},
     "output_type": "display_data"
    }
   ],
   "source": [
    "seasonal_rating = dataTV.groupby('Premiered_Season')['Rating']\n",
    "\n",
    "seasonal_rating_avr = seasonal_rating.mean().round(2)\n",
    "\n",
    "ax = seasonal_rating_avr.plot.barh()\n",
    "ax.set_title('Average ratings per Season')\n",
    "ax.set_ylabel(None)\n",
    "ax.set_xlabel('Rating avr')\n",
    "\n",
    "ax.set_xlim(7.5 , 9)"
   ]
  },
  {
   "attachments": {},
   "cell_type": "markdown",
   "metadata": {},
   "source": [
    "##### Monthly Ratings"
   ]
  },
  {
   "cell_type": "code",
   "execution_count": 80,
   "metadata": {},
   "outputs": [
    {
     "data": {
      "text/plain": [
       "(7.0, 9.0)"
      ]
     },
     "execution_count": 80,
     "metadata": {},
     "output_type": "execute_result"
    },
    {
     "data": {
      "image/png": "[encoded data removed]",
      "text/plain": [
       "<Figure size 640x480 with 1 Axes>"
      ]
     },
     "metadata": {},
     "output_type": "display_data"
    }
   ],
   "source": [
    "month_rating = dataTV.groupby('Aired_months')['Rating']\n",
    "month_rating_mean = month_rating.mean()\n",
    "\n",
    "\n",
    "# Creating and modifing plot\n",
    "ax = month_rating_mean.plot.bar()\n",
    "ax.set_xlabel(months)\n",
    "ax.set_ylim(7,9)\n",
    "\n",
    "\n",
    "# month_rating_mean = month_rating_mean.reset_index()\n"
   ]
  },
  {
   "cell_type": "code",
   "execution_count": 85,
   "metadata": {},
   "outputs": [
    {
     "data": {
      "text/plain": [
       "(7.5, 9.0)"
      ]
     },
     "execution_count": 85,
     "metadata": {},
     "output_type": "execute_result"
    },
    {
     "data": {
      "image/png": "[encoded data removed]",
      "text/plain": [
       "<Figure size 1000x800 with 1 Axes>"
      ]
     },
     "metadata": {},
     "output_type": "display_data"
    }
   ],
   "source": [
    "plt.figure(figsize=(10,8))\n",
    "\n",
    "month_rating_mean.index = months\n",
    "\n",
    "ax = sns.barplot(x=month_rating_mean.index,\n",
    "                y=month_rating_mean)\n",
    "\n",
    "# ax.set_xlabel(months)    \n",
    "ax.set_ylim(7.5,9)\n"
   ]
  },
  {
   "cell_type": "code",
   "execution_count": null,
   "metadata": {},
   "outputs": [],
   "source": [
    "# month_rating_mean.Aired_months\n",
    "\n",
    "# month_rating_mean"
   ]
  },
  {
   "cell_type": "code",
   "execution_count": null,
   "metadata": {},
   "outputs": [],
   "source": [
    "month_rating.get_group(2)"
   ]
  },
  {
   "attachments": {},
   "cell_type": "markdown",
   "metadata": {},
   "source": [
    "#### Yearly ratings"
   ]
  },
  {
   "cell_type": "code",
   "execution_count": 86,
   "metadata": {},
   "outputs": [
    {
     "data": {
      "text/plain": [
       "(7.0, 10.0)"
      ]
     },
     "execution_count": 86,
     "metadata": {},
     "output_type": "execute_result"
    },
    {
     "data": {
      "image/png": "[encoded data removed]",
      "text/plain": [
       "<Figure size 640x480 with 1 Axes>"
      ]
     },
     "metadata": {},
     "output_type": "display_data"
    }
   ],
   "source": [
    "decades_data = dataTV.groupby((dataTV.AirDate_dt.dt.year//10)*10)\n",
    "\n",
    "ax = decades_data['Rating'].mean().plot.barh()\n",
    "ax.set_xlim(7,10)\n"
   ]
  },
  {
   "cell_type": "code",
   "execution_count": null,
   "metadata": {},
   "outputs": [],
   "source": [
    "# dataTV.groupby(da)"
   ]
  },
  {
   "cell_type": "code",
   "execution_count": null,
   "metadata": {},
   "outputs": [],
   "source": [
    "decade"
   ]
  },
  {
   "attachments": {},
   "cell_type": "markdown",
   "metadata": {},
   "source": [
    "-------\n",
    "*******\n",
    "### Broadcasts Stats"
   ]
  },
  {
   "cell_type": "code",
   "execution_count": null,
   "metadata": {},
   "outputs": [],
   "source": [
    "newDay = (dataTV.Broadcast[:5]).str[:-1]\n",
    "\n",
    "# pd.to_datetime(newDay, infer_datetime_format=True)\n",
    "\n",
    "newDay"
   ]
  },
  {
   "cell_type": "code",
   "execution_count": 87,
   "metadata": {},
   "outputs": [],
   "source": [
    "broadcast_group = dataTV.groupby(dataTV.Broadcast)"
   ]
  },
  {
   "attachments": {},
   "cell_type": "markdown",
   "metadata": {},
   "source": [
    "#### Wekkly released counts"
   ]
  },
  {
   "cell_type": "code",
   "execution_count": 88,
   "metadata": {},
   "outputs": [],
   "source": [
    "## Each weekday count\n",
    "broadcast_count = broadcast_group['Broadcast'].count()\n",
    "\n",
    "#Drop elements\n",
    "broadcast_count = broadcast_count.drop(['Not scheduled once per week\\n', 'Unknown\\n'])\n",
    "\n",
    "# Reorder elements\n",
    "broadcast_count = broadcast_count.reindex(['Mondays', 'Tuesdays', 'Wednesdays', 'Thursdays', 'Fridays', 'Saturdays', 'Sundays'])"
   ]
  },
  {
   "cell_type": "code",
   "execution_count": 99,
   "metadata": {},
   "outputs": [],
   "source": [
    "# ax = broadcast_count.plot.bar()\n",
    "\n",
    "# ax.set_title('Weekly releases')\n",
    "# ax.set_ylabel('Counts')"
   ]
  },
  {
   "cell_type": "code",
   "execution_count": 98,
   "metadata": {},
   "outputs": [
    {
     "data": {
      "image/png": "[encoded data removed]",
      "text/plain": [
       "<Figure size 1000x500 with 1 Axes>"
      ]
     },
     "metadata": {},
     "output_type": "display_data"
    }
   ],
   "source": [
    "plt.figure(figsize=(10,5))\n",
    "\n",
    "ax = sns.barplot(x = broadcast_count.index,\n",
    "                 y = broadcast_count.values)"
   ]
  },
  {
   "cell_type": "code",
   "execution_count": 112,
   "metadata": {},
   "outputs": [
    {
     "data": {
      "text/plain": [
       "<seaborn.axisgrid.FacetGrid at 0x1efeb2db5e0>"
      ]
     },
     "execution_count": 112,
     "metadata": {},
     "output_type": "execute_result"
    },
    {
     "data": {
      "image/png": "[encoded data removed]",
      "text/plain": [
       "<Figure size 500x500 with 1 Axes>"
      ]
     },
     "metadata": {},
     "output_type": "display_data"
    }
   ],
   "source": [
    "date_order = ['Mondays', 'Tuesdays', 'Wednesdays', 'Thursdays', 'Fridays', 'Saturdays', 'Sundays']\n",
    "\n",
    "ax = sns.catplot(data = dataTV,\n",
    "                 x= 'Broadcast',\n",
    "                 kind = 'count',\n",
    "                 order= date_order,                \n",
    "            )\n",
    "\n",
    "ax.tick_params(axis='x',\n",
    "              rotation = 45)\n",
    "\n",
    "# for container in ax.containers:\n",
    "#     ax.bar_label(container)"
   ]
  },
  {
   "attachments": {},
   "cell_type": "markdown",
   "metadata": {},
   "source": [
    "#### Seasonly"
   ]
  },
  {
   "cell_type": "code",
   "execution_count": 123,
   "metadata": {},
   "outputs": [
    {
     "data": {
      "text/plain": [
       "<Axes: xlabel='Broadcast'>"
      ]
     },
     "execution_count": 123,
     "metadata": {},
     "output_type": "execute_result"
    },
    {
     "data": {
      "image/png": "[encoded data removed]",
      "text/plain": [
       "<Figure size 1500x800 with 1 Axes>"
      ]
     },
     "metadata": {},
     "output_type": "display_data"
    }
   ],
   "source": [
    "# %config InlineBackend.figure_format = 'retina'\n",
    "\n",
    "# broadcast_group['Premiered_Season'].describe()\n",
    "# broadcast_group['Premiered_Season'].value_counts().plot.bar(figsize = (15,5))\n",
    "(broadcast_group['Premiered_Season'].value_counts()\n",
    "                                    .unstack()\n",
    "                                    .reindex(date_order)\n",
    "                                    .plot.bar(figsize = (15,8)))"
   ]
  },
  {
   "cell_type": "code",
   "execution_count": 107,
   "metadata": {},
   "outputs": [],
   "source": [
    "# sns.catplot(data = dataTV,\n",
    "#             x = 'Premiered_Season',\n",
    "#             col = 'Premiered_Season',\n",
    "#             y='Broadcast',\n",
    "#             kind = 'count')\n",
    "\n",
    "\n",
    "# sns.catplot( x = season_count,\n",
    "#             y = broadcast_count\n",
    "#             )"
   ]
  },
  {
   "cell_type": "code",
   "execution_count": 108,
   "metadata": {},
   "outputs": [
    {
     "data": {
      "text/plain": [
       "Sundays                          53\n",
       "Saturdays                        49\n",
       "Fridays                          44\n",
       "Wednesdays                       36\n",
       "Tuesdays                         35\n",
       "Mondays                          30\n",
       "Unknown\\n                        29\n",
       "Thursdays                        24\n",
       "Not scheduled once per week\\n     2\n",
       "Name: Broadcast, dtype: int64"
      ]
     },
     "execution_count": 108,
     "metadata": {},
     "output_type": "execute_result"
    }
   ],
   "source": [
    "## Airing Days\n",
    "\n",
    "dataTV.Broadcast.value_counts()"
   ]
  },
  {
   "attachments": {},
   "cell_type": "markdown",
   "metadata": {},
   "source": [
    "-----\n",
    "-----\n",
    "### Studios Stats"
   ]
  },
  {
   "cell_type": "code",
   "execution_count": null,
   "metadata": {},
   "outputs": [],
   "source": [
    "dataTV.Studio.value_counts()"
   ]
  },
  {
   "attachments": {},
   "cell_type": "markdown",
   "metadata": {},
   "source": [
    "--------\n",
    "------\n",
    "### Age Ratings"
   ]
  },
  {
   "cell_type": "code",
   "execution_count": null,
   "metadata": {},
   "outputs": [],
   "source": [
    "dataTV['Age Ratingn'].value_counts().plot.bar()\n",
    "\n",
    "plt.title('Age Rating Counts')\n",
    "# plt.grid()"
   ]
  },
  {
   "cell_type": "code",
   "execution_count": null,
   "metadata": {},
   "outputs": [],
   "source": [
    "dataTV['Age Ratingn'].value_counts()"
   ]
  },
  {
   "cell_type": "code",
   "execution_count": null,
   "metadata": {},
   "outputs": [],
   "source": [
    "# dataTV.groupby('Age Ratingn').count()\n"
   ]
  },
  {
   "cell_type": "code",
   "execution_count": null,
   "metadata": {},
   "outputs": [],
   "source": []
  },
  {
   "attachments": {},
   "cell_type": "markdown",
   "metadata": {},
   "source": [
    "-----\n",
    "----\n",
    "### Generes\n",
    "\n",
    "Fix after running other code again"
   ]
  },
  {
   "cell_type": "code",
   "execution_count": null,
   "metadata": {},
   "outputs": [],
   "source": [
    "genreNames = ['Action', 'Adventure', 'Avant Garde', 'Award Winning','Boys Love', 'Comedy', \n",
    "              'Drama', 'Ecchi', 'Fantasy', 'Gourmet', 'Horror', 'Mystery', 'Romance',\n",
    "              'Sci-Fi', 'Slice of Life', 'Sports', 'Supernatural', 'Suspense']"
   ]
  },
  {
   "cell_type": "code",
   "execution_count": null,
   "metadata": {},
   "outputs": [],
   "source": [
    "len(genreNames)"
   ]
  },
  {
   "cell_type": "code",
   "execution_count": null,
   "metadata": {},
   "outputs": [],
   "source": [
    "genreList = ((dataTV.Genres).str.split(\"'\").str[1::2])\n",
    "\n",
    "ax = genreList.str.len().value_counts().sort_index().plot.bar(legend = False)\n",
    "ax.set_title('Genre Counts')\n",
    "ax.set_xlabel('Number of genres')\n",
    "# ax.grid('on', axis = 'y' )\n",
    "# ax.bar_label(ax.containers[1])\n",
    "\n",
    "# ax.xl\n",
    "\n",
    "for container in ax.containers:\n",
    "    ax.bar_label(container)"
   ]
  },
  {
   "cell_type": "code",
   "execution_count": null,
   "metadata": {},
   "outputs": [],
   "source": [
    "genList = []\n",
    "for genre in genreNames:\n",
    "    genreLen = (dataTV['Genres'].str.contains(genre)).sum()\n",
    "\n",
    "    genList.append(genreLen)\n",
    "\n",
    "\n",
    "    print(f'Number of items in {genre}: ', genreLen)"
   ]
  },
  {
   "cell_type": "code",
   "execution_count": null,
   "metadata": {},
   "outputs": [],
   "source": [
    "plt.figure(figsize = (15,8))\n",
    "# plt.bar(genreNames, genList)\n",
    "# plt.xticks(rotation = 90)\n",
    "\n",
    "\n",
    "ax = sns.barplot(x= genreNames,\n",
    "                 y = genList\n",
    "                 )\n",
    "\n",
    "ax.tick_params(axis ='x', \n",
    "               rotation = 45)\n",
    "\n",
    "ax.set_xlabel(\"Genres\", fontsize =15)\n",
    "ax.set_ylabel(\"Count\", fontsize =15)\n",
    "\n",
    "for container in ax.containers:\n",
    "    ax.bar_label(container)"
   ]
  },
  {
   "attachments": {},
   "cell_type": "markdown",
   "metadata": {},
   "source": [
    "##### Delete this Draft"
   ]
  },
  {
   "cell_type": "code",
   "execution_count": null,
   "metadata": {},
   "outputs": [],
   "source": [
    "# actionList = []\n",
    "# adventureList = []\n",
    "# awardWList = []\n",
    "# avantGrandeList = []\n",
    "\n",
    "# lenList = []\n",
    "\n",
    "# # for index, value in enumerate(genreNames):\n",
    "# for index, value in enumerate(genreList):\n",
    "#     # print(index,str(value))\n",
    "\n",
    "#     action_Sum      = (str(value.__contains__(genreNames[0]))).count('True')\n",
    "#     adventure_Sum   = (str(value.__contains__(genreNames[1]))).count('True')\n",
    "#     avantGarde_Sum  = (str(value.__contains__(genreNames[2]))).count('True')\n",
    "#     awardW_Sum      = (str(value.__contains__(genreNames[3]))).count('True')\n",
    "\n",
    "\n",
    "\n",
    "#     (actionList.append(action_Sum))\n",
    "#     (adventureList.append(adventure_Sum))\n",
    "#     (avantGrandeList.append(avantGarde_Sum))\n",
    "#     (awardWList.append(awardW_Sum))\n",
    "\n",
    "\n",
    "#     lenList.append([actionList.count, adventureList])\n",
    "\n",
    "#     # print('test', comedySum)  \n",
    "\n",
    "\n",
    "# print(genreNames[0],'\\t len:',sum(actionList))\n",
    "# print(genreNames[1],'\\t len:',sum(adventureList))\n",
    "# print(genreNames[2],'\\t len:',sum(avantGrandeList))\n",
    "# print(genreNames[3],'\\t len:',sum(awardWList))\n",
    "\n",
    "\n",
    "# print('Testing len:', (lenList[0]))"
   ]
  },
  {
   "cell_type": "code",
   "execution_count": null,
   "metadata": {},
   "outputs": [],
   "source": [
    "testlist =[]\n",
    "\n",
    "# genreNames = genreNames\n",
    "for i in genreList:\n",
    "\n",
    "    for j in dataTV.Genres:\n",
    "\n",
    "        test = j.__contains__(str(i))\n",
    "    \n",
    "        # testlist.append(test)\n",
    "\n",
    "        # test = (j.__contains__(i))\n",
    "    \n",
    "        print(test)\n",
    "\n",
    "\n",
    "# print((testlist))\n"
   ]
  },
  {
   "cell_type": "code",
   "execution_count": null,
   "metadata": {},
   "outputs": [],
   "source": [
    "# dataTV['Action_TF'] = str(genreList.values[2])\n",
    "\n",
    "# dataTV.Action_TF\n",
    "\n",
    "\n",
    "# dataTV.groupby(['Themes'][0])['Themes'].count()\n"
   ]
  },
  {
   "cell_type": "code",
   "execution_count": null,
   "metadata": {},
   "outputs": [],
   "source": [
    "(genreList.values[2]).__contains__('Suspense')"
   ]
  },
  {
   "cell_type": "code",
   "execution_count": null,
   "metadata": {},
   "outputs": [],
   "source": [
    "# dataTV['Genres'].str.contains('Action').sum()\n",
    "\n",
    "genreNames"
   ]
  },
  {
   "cell_type": "code",
   "execution_count": null,
   "metadata": {},
   "outputs": [],
   "source": [
    "\n"
   ]
  },
  {
   "attachments": {},
   "cell_type": "markdown",
   "metadata": {},
   "source": [
    "----\n",
    "-----\n",
    "### Producers"
   ]
  },
  {
   "cell_type": "code",
   "execution_count": null,
   "metadata": {},
   "outputs": [],
   "source": [
    "dataTV.Producer.value_counts()[:20].plot(kind='bar', figsize=(15,5), grid=True)"
   ]
  },
  {
   "attachments": {},
   "cell_type": "markdown",
   "metadata": {},
   "source": [
    "-----\n",
    "------\n",
    "### Demograph"
   ]
  },
  {
   "cell_type": "code",
   "execution_count": null,
   "metadata": {},
   "outputs": [],
   "source": [
    "uniqueDemo = ['Josei', 'Kids', 'Seinen', 'Shoujo', 'Shounen'] "
   ]
  },
  {
   "cell_type": "code",
   "execution_count": null,
   "metadata": {},
   "outputs": [],
   "source": [
    "demograph_group = dataTV.groupby(dataTV['Demograph'])"
   ]
  },
  {
   "cell_type": "code",
   "execution_count": null,
   "metadata": {},
   "outputs": [],
   "source": [
    "demograph_count = demograph_group['Demograph'].count()\n",
    "\n",
    "demograph_count"
   ]
  },
  {
   "cell_type": "code",
   "execution_count": null,
   "metadata": {},
   "outputs": [],
   "source": [
    "ax = demograph_count.plot.bar()\n",
    "ax.set_title('Demograph type counts')\n",
    "ax.set_ylabel('Count')"
   ]
  },
  {
   "attachments": {},
   "cell_type": "markdown",
   "metadata": {},
   "source": [
    "----\n",
    "------\n",
    "### Themes"
   ]
  },
  {
   "cell_type": "code",
   "execution_count": null,
   "metadata": {},
   "outputs": [],
   "source": [
    "uniqueThemes = ['Adult Cast', 'Anthropomorphic', 'CGDCT', 'Childcare', 'Combat Sports',    \n",
    "                'Crossdressing', 'Delinquents', 'Detective', 'Educational', 'Gag Humor',     \n",
    "                'Gore','Harem', 'High Stakes Game', 'Historical', 'Idols', 'Isekai', 'Iyashikei', 'Love Polygon', 'Magical Sex Shift',     \n",
    "                'Mahou Shoujo' , 'Martial Arts', 'Mecha', 'Medical', 'Military',     'Music',    \n",
    "                'Mythology','Organized Crime','Otaku Culture', 'Parody', 'Performing Arts',     \n",
    "                'Pets', 'Psychological', 'Racing','Reincarnation', 'Reverse Harem',     \n",
    "                'Romantic Subtex', 'Samurai', 'School', 'Showbiz', 'Space', 'Strategy Game', \n",
    "                'Super Power','Survival', 'Team Sports', 'Time Travel', 'Vampire',     \n",
    "                'Video Game', 'Visual Arts', 'Workplace']"
   ]
  },
  {
   "cell_type": "code",
   "execution_count": null,
   "metadata": {},
   "outputs": [],
   "source": [
    "len(uniqueThemes)"
   ]
  },
  {
   "cell_type": "code",
   "execution_count": null,
   "metadata": {},
   "outputs": [],
   "source": [
    "themeLen = []\n",
    "\n",
    "for themes in uniqueThemes:\n",
    "    themeSum = (dataTV['Themes'].str.contains(themes)).sum()\n",
    "\n",
    "    themeLen.append(themeSum)\n",
    "\n",
    "    # print(f'Number of items in {themes}: ', themeSum)\n"
   ]
  },
  {
   "cell_type": "code",
   "execution_count": null,
   "metadata": {},
   "outputs": [],
   "source": [
    "# themeLen"
   ]
  },
  {
   "cell_type": "code",
   "execution_count": null,
   "metadata": {},
   "outputs": [],
   "source": [
    "plt.figure(figsize=(18,8))\n",
    "\n",
    "ax = sns.barplot(x = uniqueThemes,\n",
    "                 y = themeLen)\n",
    "\n",
    "ax.tick_params(axis='x', \n",
    "               rotation = 90)\n",
    "\n",
    "\n",
    "for container in ax.containers:\n",
    "    ax.bar_label(container)"
   ]
  },
  {
   "attachments": {},
   "cell_type": "markdown",
   "metadata": {},
   "source": [
    "##### Meh"
   ]
  },
  {
   "cell_type": "code",
   "execution_count": null,
   "metadata": {},
   "outputs": [],
   "source": [
    "# dataTV['themeList'] = ((dataTV.Themes).str.split(\"'\"))\n",
    "\n",
    "dataTV['themeList'] = ((dataTV.Themes).str.split(\"'\").str[1::2])\n",
    "\n",
    "# counts number of indexes\n",
    "# dataTV.themeList.str.len()\n",
    "\n",
    "\n",
    "# # Counts number cointaining certain number of themes\n",
    "# # 121 entries have 1 themes\n",
    "# # 101 enreies have 2 themes\n",
    "# # 63 enreies have 3 themes\n",
    "# # 16 enreies have 4 themes\n",
    "\n",
    "((dataTV.Themes).str.split(\"'\").str[1::2]).str.len().value_counts()\n"
   ]
  },
  {
   "cell_type": "code",
   "execution_count": null,
   "metadata": {},
   "outputs": [],
   "source": [
    "# ((dataTV.Themes[8]).split(\"'\")[1::2])\n",
    "\n",
    "((dataTV.themeList)).sort_values()"
   ]
  },
  {
   "cell_type": "code",
   "execution_count": null,
   "metadata": {},
   "outputs": [],
   "source": [
    "# themes_group = dataTV.groupby(dataTV['Themes'])   ## The original colom\n",
    "themes_group = dataTV.groupby(dataTV['themeList'])"
   ]
  },
  {
   "cell_type": "code",
   "execution_count": null,
   "metadata": {},
   "outputs": [],
   "source": [
    "themes_group"
   ]
  },
  {
   "cell_type": "code",
   "execution_count": null,
   "metadata": {},
   "outputs": [],
   "source": [
    "# (dataTV.themeList)[:5].value_counts()\n",
    "(dataTV.themeList).loc[:5]"
   ]
  },
  {
   "cell_type": "code",
   "execution_count": null,
   "metadata": {},
   "outputs": [],
   "source": [
    "# Counts each adult cast occurance\n",
    "dataTV.Themes.str.count('Adult Cast').sum()\n",
    "dataTV.Themes.str.count('Childcare').sum()\n",
    "\n"
   ]
  },
  {
   "cell_type": "code",
   "execution_count": null,
   "metadata": {},
   "outputs": [],
   "source": [
    "((dataTV.Themes).str.split(\"'\").str[1::2]).str"
   ]
  },
  {
   "cell_type": "markdown",
   "metadata": {},
   "source": [
    "------\n",
    "------\n",
    "### Source"
   ]
  },
  {
   "cell_type": "code",
   "execution_count": null,
   "metadata": {},
   "outputs": [],
   "source": [
    "sourceDate = dataTV.Source.value_counts()\n",
    "\n",
    "# sourceDate.index"
   ]
  },
  {
   "cell_type": "code",
   "execution_count": null,
   "metadata": {},
   "outputs": [],
   "source": [
    "ax = sns.barplot(x = sourceDate.index,\n",
    "               y = sourceDate)\n",
    "\n",
    "ax.tick_params(axis='x', \n",
    "               rotation = 90)\n",
    "\n",
    "for container in ax.containers:\n",
    "    ax.bar_label(container)"
   ]
  },
  {
   "attachments": {},
   "cell_type": "markdown",
   "metadata": {},
   "source": [
    "----\n",
    "-----\n",
    "----\n",
    "## Only Movies"
   ]
  },
  {
   "cell_type": "code",
   "execution_count": null,
   "metadata": {},
   "outputs": [],
   "source": [
    "data.loc[data.Type == 'Movie']\n"
   ]
  },
  {
   "cell_type": "code",
   "execution_count": null,
   "metadata": {},
   "outputs": [],
   "source": []
  },
  {
   "cell_type": "code",
   "execution_count": null,
   "metadata": {},
   "outputs": [],
   "source": []
  }
 ],
 "metadata": {
  "kernelspec": {
   "display_name": "Python 3",
   "language": "python",
   "name": "python3"
  },
  "language_info": {
   "codemirror_mode": {
    "name": "ipython",
    "version": 3
   },
   "file_extension": ".py",
   "mimetype": "text/x-python",
   "name": "python",
   "nbconvert_exporter": "python",
   "pygments_lexer": "ipython3",
   "version": "3.10.4"
  },
  "orig_nbformat": 4,
  "vscode": {
   "interpreter": {
    "hash": "7cccf0148f04178e92e840c6e1071e5b6b8e5c15a27b56a3f7cc3cf5f13335e6"
   }
  }
 },
 "nbformat": 4,
 "nbformat_minor": 2
}
