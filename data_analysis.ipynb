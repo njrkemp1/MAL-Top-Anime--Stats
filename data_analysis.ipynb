{
 "cells": [
  {
   "attachments": {},
   "cell_type": "markdown",
   "metadata": {},
   "source": [
    "# Data Analist"
   ]
  },
  {
   "attachments": {},
   "cell_type": "markdown",
   "metadata": {},
   "source": [
    "## Importing libraries"
   ]
  },
  {
   "cell_type": "code",
   "execution_count": 690,
   "metadata": {},
   "outputs": [],
   "source": [
    "import numpy as np\n",
    "import pandas as pd\n",
    "import matplotlib.pyplot as plt\n",
    "import seaborn \n",
    "\n",
    "import plotly as py\n",
    "import datetime\n"
   ]
  },
  {
   "attachments": {},
   "cell_type": "markdown",
   "metadata": {},
   "source": [
    "## Importing csv file"
   ]
  },
  {
   "cell_type": "code",
   "execution_count": 28,
   "metadata": {},
   "outputs": [],
   "source": [
    "data = pd.read_excel('multiPages.xlsx')"
   ]
  },
  {
   "cell_type": "code",
   "execution_count": 31,
   "metadata": {},
   "outputs": [],
   "source": [
    "# data.head()"
   ]
  },
  {
   "attachments": {},
   "cell_type": "markdown",
   "metadata": {},
   "source": [
    "## Feature Enginering"
   ]
  },
  {
   "attachments": {},
   "cell_type": "markdown",
   "metadata": {},
   "source": [
    "### Which year made the most top rated anime"
   ]
  },
  {
   "cell_type": "code",
   "execution_count": 62,
   "metadata": {},
   "outputs": [
    {
     "name": "stdout",
     "output_type": "stream",
     "text": [
      "Top animes in decade 1980 : 10\n",
      "Top animes in decade 1990 : 27\n",
      "Top animes in decade 2000 : 94\n",
      "Top animes in decade 2010 : 250\n",
      "Top animes in decade 2020 : 115\n"
     ]
    }
   ],
   "source": [
    "years = np.arange(198,203,1).tolist()\n",
    "\n",
    "for year in years:\n",
    "    patternY = str(year)\n",
    "\n",
    "    yearMask = data['AirDate'].str.contains(patternY)\n",
    "    anime_Year = (data[yearMask])\n",
    "\n",
    "    print('Top animes in decade', patternY, '\\b0 :' , len(anime_Year))"
   ]
  },
  {
   "cell_type": "code",
   "execution_count": 55,
   "metadata": {},
   "outputs": [
    {
     "name": "stdout",
     "output_type": "stream",
     "text": [
      "Number animes in Jan  : 79\n",
      "Number animes in Feb  : 19\n",
      "Number animes in Mar  : 17\n",
      "Number animes in Apr  : 110\n",
      "Number animes in May  : 5\n",
      "Number animes in Jun  : 7\n",
      "Number animes in Jul  : 63\n",
      "Number animes in Aug  : 24\n",
      "Number animes in Sep  : 27\n",
      "Number animes in Oct  : 106\n",
      "Number animes in Nov  : 15\n",
      "Number animes in Dec  : 28\n"
     ]
    }
   ],
   "source": [
    "infoMonth = []\n",
    "# If not like this, its sorted alphabeticly[Apr-Sep]\n",
    "months = ['Jan', 'Feb', 'Mar', 'Apr', 'May', 'Jun', 'Jul', 'Aug','Sep','Oct', 'Nov', 'Dec']\n",
    "\n",
    "for month in months:\n",
    "    patternM = (month)\n",
    "    monthMask = data['AirDate'].str.contains(patternM)\n",
    "    anime_Month = (data[monthMask])\n",
    "\n",
    "    print('Number animes in', patternM,' :' ,len(anime_Month))\n",
    "    # print(strMonth)\n",
    "    infoMonth.append(anime_Month)   ## To find the dataframe acc. to month index\n",
    "\n",
    "# (list(multiPage.AirDate.groupby(multiPage.AirDate.dt.year)))\n"
   ]
  },
  {
   "attachments": {},
   "cell_type": "markdown",
   "metadata": {},
   "source": [
    "## Only TV shows"
   ]
  },
  {
   "cell_type": "code",
   "execution_count": 724,
   "metadata": {},
   "outputs": [],
   "source": [
    "dataTV = data.loc[data.Type == 'TV'].copy()"
   ]
  },
  {
   "cell_type": "code",
   "execution_count": 929,
   "metadata": {},
   "outputs": [
    {
     "name": "stdout",
     "output_type": "stream",
     "text": [
      "<class 'pandas.core.frame.DataFrame'>\n",
      "Int64Index: 300 entries, 0 to 499\n",
      "Data columns (total 19 columns):\n",
      " #   Column            Non-Null Count  Dtype         \n",
      "---  ------            --------------  -----         \n",
      " 0   Rank              300 non-null    int64         \n",
      " 1   Title             300 non-null    object        \n",
      " 2   Rating            300 non-null    float64       \n",
      " 3   Type              300 non-null    object        \n",
      " 4   AirDate_dt        300 non-null    datetime64[ns]\n",
      " 5   EndDate           294 non-null    object        \n",
      " 6   TotalEpi          300 non-null    object        \n",
      " 7   Members           300 non-null    int64         \n",
      " 8   MAL Ref           300 non-null    int64         \n",
      " 9   Status            300 non-null    object        \n",
      " 10  Premiered         300 non-null    object        \n",
      " 11  Broadcast         300 non-null    object        \n",
      " 12  Studio            300 non-null    object        \n",
      " 13  Duration          300 non-null    object        \n",
      " 14  Age Ratingn       300 non-null    object        \n",
      " 15  Genres            300 non-null    object        \n",
      " 16  Producer          300 non-null    object        \n",
      " 17  Source            300 non-null    object        \n",
      " 18  Premiered_Season  300 non-null    object        \n",
      "dtypes: datetime64[ns](1), float64(1), int64(3), object(14)\n",
      "memory usage: 55.0+ KB\n"
     ]
    }
   ],
   "source": [
    "# dataTV.info()"
   ]
  },
  {
   "attachments": {},
   "cell_type": "markdown",
   "metadata": {},
   "source": [
    "### Months \n",
    "AirDates"
   ]
  },
  {
   "attachments": {},
   "cell_type": "markdown",
   "metadata": {},
   "source": [
    "Formatting"
   ]
  },
  {
   "cell_type": "code",
   "execution_count": 730,
   "metadata": {},
   "outputs": [],
   "source": [
    "cols_org = ['Rank', 'Title', 'Rating', 'Type', 'AirDate', 'EndDate', 'TotalEpi',\n",
    "       'Members', 'MAL Ref', 'Status', 'Premiered', 'Broadcast', 'Studio',\n",
    "       'Duration', 'Age Ratingn', 'Genres', 'Producer', 'Source']\n",
    "\n",
    "# dataTV = dataTV.drop(columns='AirDate')\n",
    "\n",
    "\n",
    "dataTV['AirDate_dt'] = pd.to_datetime(dataTV.AirDate, infer_datetime_format=True)\n",
    "# dataTV['AirDate_year'] = pd.to_datetime(dataTV.AirDate,infer_datetime_format=True)\n",
    "\n",
    "# dataTV.AirDate_month[:4]\n",
    "\n",
    "\n",
    "dataTV = dataTV[['Rank', 'Title', 'Rating', 'Type', 'AirDate_dt', 'EndDate', 'TotalEpi',\n",
    "                'Members', 'MAL Ref', 'Status', 'Premiered', 'Broadcast', 'Studio',\n",
    "                'Duration', 'Age Ratingn', 'Genres', 'Producer', 'Source']]\n",
    "\n"
   ]
  },
  {
   "cell_type": "code",
   "execution_count": 798,
   "metadata": {},
   "outputs": [],
   "source": [
    "# dataTV.AirDate_dt.astype('datetime64[ns]')\n",
    "# dataTV.AirDate_dt.dt.month_name().value_counts().sort_index()"
   ]
  },
  {
   "cell_type": "code",
   "execution_count": 803,
   "metadata": {},
   "outputs": [
    {
     "name": "stdout",
     "output_type": "stream",
     "text": [
      "Number anmies in Jan : 61\n",
      "Number anmies in Feb : 1\n",
      "Number anmies in Mar : 1\n",
      "Number anmies in Apr : 88\n",
      "Number anmies in May : 2\n",
      "Number anmies in Jun : 3\n",
      "Number anmies in Jul : 43\n",
      "Number anmies in Aug : 2\n",
      "Number anmies in Sep : 1\n",
      "Number anmies in Oct : 92\n",
      "Number anmies in Nov : 2\n",
      "Number anmies in Dec : 4\n"
     ]
    },
    {
     "data": {
      "text/plain": [
       "<Axes: title={'center': 'Months the top 500 animes were released'}, xlabel='Months', ylabel='Counts'>"
      ]
     },
     "execution_count": 803,
     "metadata": {},
     "output_type": "execute_result"
    },
    {
     "data": {
      "image/png": "[encoded data removed]",
      "text/plain": [
       "<Figure size 1500x500 with 1 Axes>"
      ]
     },
     "metadata": {},
     "output_type": "display_data"
    }
   ],
   "source": [
    "monthCount = dataTV.AirDate_dt.dt.month.value_counts().sort_index()\n",
    "\n",
    "j=0\n",
    "for i in monthCount:\n",
    "    months = ['Jan', 'Feb', 'Mar', 'Apr', 'May', 'Jun', 'Jul', 'Aug','Sep','Oct', 'Nov', 'Dec']\n",
    "    print(f'Number anmies in {months[j]} : {i}')\n",
    "    j=j+1\n",
    "\n",
    "\n",
    "monthCount.plot(kind='bar',\n",
    "                xlabel='Months', \n",
    "                ylabel='Counts',\n",
    "            \n",
    "                title='Months the top 500 animes were released',\n",
    "                color = 'blue',\n",
    "                # rot=90 ##Rotate x value names,\n",
    "                figsize=(15,5)\n",
    "                  )\n",
    "\n",
    "\n",
    "# dataTV.AirDate_dt.dt.year.value_counts().sort_index()"
   ]
  },
  {
   "cell_type": "code",
   "execution_count": 666,
   "metadata": {},
   "outputs": [
    {
     "name": "stdout",
     "output_type": "stream",
     "text": [
      "Number anmies in Jan : 61\n",
      "Number anmies in Feb : 1\n",
      "Number anmies in Mar : 1\n",
      "Number anmies in Apr : 88\n",
      "Number anmies in May : 2\n",
      "Number anmies in Jun : 3\n",
      "Number anmies in Jul : 43\n",
      "Number anmies in Aug : 2\n",
      "Number anmies in Sep : 1\n",
      "Number anmies in Oct : 92\n",
      "Number anmies in Nov : 2\n",
      "Number anmies in Dec : 4\n"
     ]
    },
    {
     "data": {
      "text/plain": [
       "<Axes: title={'center': 'Months the top 500 animes were released'}, xlabel='Months', ylabel='Counts'>"
      ]
     },
     "execution_count": 666,
     "metadata": {},
     "output_type": "execute_result"
    },
    {
     "data": {
      "image/png": "[encoded data removed]",
      "text/plain": [
       "<Figure size 1500x500 with 1 Axes>"
      ]
     },
     "metadata": {},
     "output_type": "display_data"
    }
   ],
   "source": [
    "months = ['Jan', 'Feb', 'Mar', 'Apr', 'May', 'Jun', 'Jul', 'Aug','Sep','Oct', 'Nov', 'Dec']\n",
    "\n",
    "monthsCounts = dataTV.AirDate.str.split(' ').str[0].value_counts()\n",
    "\n",
    "for i in months:\n",
    "    print(f'Number anmies in {i} : {monthsCounts[i]}')\n",
    "\n",
    "\n",
    "#--------------------\n",
    "\n",
    "monthsCounts[months].plot(kind='bar',\n",
    "                          xlabel='Months', \n",
    "                          ylabel='Counts',\n",
    "                          title='Months the top 500 animes were released',\n",
    "                          color = 'blue',\n",
    "                        # rot=90 ##Rotate x value names,\n",
    "                        figsize=(15,5)\n",
    "                          )\n"
   ]
  },
  {
   "attachments": {},
   "cell_type": "markdown",
   "metadata": {},
   "source": [
    "As we can see from the graph and and printed data, most top animes was released in year quaters."
   ]
  },
  {
   "cell_type": "code",
   "execution_count": 649,
   "metadata": {},
   "outputs": [
    {
     "data": {
      "application/vnd.plotly.v1+json": {
       "config": {
        "plotlyServerURL": "https://plot.ly"
       },
       "data": [
        {
         "alignmentgroup": "True",
         "hovertemplate": "variable=AirDate<br>index=%{x}<br>value=%{y}<extra></extra>",
         "legendgroup": "AirDate",
         "marker": {
          "color": "#636efa",
          "pattern": {
           "shape": ""
          }
         },
         "name": "AirDate",
         "offsetgroup": "AirDate",
         "orientation": "v",
         "showlegend": true,
         "textposition": "auto",
         "type": "bar",
         "x": [
          "Jan",
          "Feb",
          "Mar",
          "Apr",
          "May",
          "Jun",
          "Jul",
          "Aug",
          "Sep",
          "Oct",
          "Nov",
          "Dec"
         ],
         "xaxis": "x",
         "y": [
          61,
          1,
          1,
          88,
          2,
          3,
          43,
          2,
          1,
          92,
          2,
          4
         ],
         "yaxis": "y"
        }
       ],
       "layout": {
        "barmode": "relative",
        "legend": {
         "title": {
          "text": "variable"
         },
         "tracegroupgap": 0
        },
        "margin": {
         "t": 60
        },
        "template": {
         "data": {
          "bar": [
           {
            "error_x": {
             "color": "#2a3f5f"
            },
            "error_y": {
             "color": "#2a3f5f"
            },
            "marker": {
             "line": {
              "color": "#E5ECF6",
              "width": 0.5
             },
             "pattern": {
              "fillmode": "overlay",
              "size": 10,
              "solidity": 0.2
             }
            },
            "type": "bar"
           }
          ],
          "barpolar": [
           {
            "marker": {
             "line": {
              "color": "#E5ECF6",
              "width": 0.5
             },
             "pattern": {
              "fillmode": "overlay",
              "size": 10,
              "solidity": 0.2
             }
            },
            "type": "barpolar"
           }
          ],
          "carpet": [
           {
            "aaxis": {
             "endlinecolor": "#2a3f5f",
             "gridcolor": "white",
             "linecolor": "white",
             "minorgridcolor": "white",
             "startlinecolor": "#2a3f5f"
            },
            "baxis": {
             "endlinecolor": "#2a3f5f",
             "gridcolor": "white",
             "linecolor": "white",
             "minorgridcolor": "white",
             "startlinecolor": "#2a3f5f"
            },
            "type": "carpet"
           }
          ],
          "choropleth": [
           {
            "colorbar": {
             "outlinewidth": 0,
             "ticks": ""
            },
            "type": "choropleth"
           }
          ],
          "contour": [
           {
            "colorbar": {
             "outlinewidth": 0,
             "ticks": ""
            },
            "colorscale": [
             [
              0,
              "#0d0887"
             ],
             [
              0.1111111111111111,
              "#46039f"
             ],
             [
              0.2222222222222222,
              "#7201a8"
             ],
             [
              0.3333333333333333,
              "#9c179e"
             ],
             [
              0.4444444444444444,
              "#bd3786"
             ],
             [
              0.5555555555555556,
              "#d8576b"
             ],
             [
              0.6666666666666666,
              "#ed7953"
             ],
             [
              0.7777777777777778,
              "#fb9f3a"
             ],
             [
              0.8888888888888888,
              "#fdca26"
             ],
             [
              1,
              "#f0f921"
             ]
            ],
            "type": "contour"
           }
          ],
          "contourcarpet": [
           {
            "colorbar": {
             "outlinewidth": 0,
             "ticks": ""
            },
            "type": "contourcarpet"
           }
          ],
          "heatmap": [
           {
            "colorbar": {
             "outlinewidth": 0,
             "ticks": ""
            },
            "colorscale": [
             [
              0,
              "#0d0887"
             ],
             [
              0.1111111111111111,
              "#46039f"
             ],
             [
              0.2222222222222222,
              "#7201a8"
             ],
             [
              0.3333333333333333,
              "#9c179e"
             ],
             [
              0.4444444444444444,
              "#bd3786"
             ],
             [
              0.5555555555555556,
              "#d8576b"
             ],
             [
              0.6666666666666666,
              "#ed7953"
             ],
             [
              0.7777777777777778,
              "#fb9f3a"
             ],
             [
              0.8888888888888888,
              "#fdca26"
             ],
             [
              1,
              "#f0f921"
             ]
            ],
            "type": "heatmap"
           }
          ],
          "heatmapgl": [
           {
            "colorbar": {
             "outlinewidth": 0,
             "ticks": ""
            },
            "colorscale": [
             [
              0,
              "#0d0887"
             ],
             [
              0.1111111111111111,
              "#46039f"
             ],
             [
              0.2222222222222222,
              "#7201a8"
             ],
             [
              0.3333333333333333,
              "#9c179e"
             ],
             [
              0.4444444444444444,
              "#bd3786"
             ],
             [
              0.5555555555555556,
              "#d8576b"
             ],
             [
              0.6666666666666666,
              "#ed7953"
             ],
             [
              0.7777777777777778,
              "#fb9f3a"
             ],
             [
              0.8888888888888888,
              "#fdca26"
             ],
             [
              1,
              "#f0f921"
             ]
            ],
            "type": "heatmapgl"
           }
          ],
          "histogram": [
           {
            "marker": {
             "pattern": {
              "fillmode": "overlay",
              "size": 10,
              "solidity": 0.2
             }
            },
            "type": "histogram"
           }
          ],
          "histogram2d": [
           {
            "colorbar": {
             "outlinewidth": 0,
             "ticks": ""
            },
            "colorscale": [
             [
              0,
              "#0d0887"
             ],
             [
              0.1111111111111111,
              "#46039f"
             ],
             [
              0.2222222222222222,
              "#7201a8"
             ],
             [
              0.3333333333333333,
              "#9c179e"
             ],
             [
              0.4444444444444444,
              "#bd3786"
             ],
             [
              0.5555555555555556,
              "#d8576b"
             ],
             [
              0.6666666666666666,
              "#ed7953"
             ],
             [
              0.7777777777777778,
              "#fb9f3a"
             ],
             [
              0.8888888888888888,
              "#fdca26"
             ],
             [
              1,
              "#f0f921"
             ]
            ],
            "type": "histogram2d"
           }
          ],
          "histogram2dcontour": [
           {
            "colorbar": {
             "outlinewidth": 0,
             "ticks": ""
            },
            "colorscale": [
             [
              0,
              "#0d0887"
             ],
             [
              0.1111111111111111,
              "#46039f"
             ],
             [
              0.2222222222222222,
              "#7201a8"
             ],
             [
              0.3333333333333333,
              "#9c179e"
             ],
             [
              0.4444444444444444,
              "#bd3786"
             ],
             [
              0.5555555555555556,
              "#d8576b"
             ],
             [
              0.6666666666666666,
              "#ed7953"
             ],
             [
              0.7777777777777778,
              "#fb9f3a"
             ],
             [
              0.8888888888888888,
              "#fdca26"
             ],
             [
              1,
              "#f0f921"
             ]
            ],
            "type": "histogram2dcontour"
           }
          ],
          "mesh3d": [
           {
            "colorbar": {
             "outlinewidth": 0,
             "ticks": ""
            },
            "type": "mesh3d"
           }
          ],
          "parcoords": [
           {
            "line": {
             "colorbar": {
              "outlinewidth": 0,
              "ticks": ""
             }
            },
            "type": "parcoords"
           }
          ],
          "pie": [
           {
            "automargin": true,
            "type": "pie"
           }
          ],
          "scatter": [
           {
            "fillpattern": {
             "fillmode": "overlay",
             "size": 10,
             "solidity": 0.2
            },
            "type": "scatter"
           }
          ],
          "scatter3d": [
           {
            "line": {
             "colorbar": {
              "outlinewidth": 0,
              "ticks": ""
             }
            },
            "marker": {
             "colorbar": {
              "outlinewidth": 0,
              "ticks": ""
             }
            },
            "type": "scatter3d"
           }
          ],
          "scattercarpet": [
           {
            "marker": {
             "colorbar": {
              "outlinewidth": 0,
              "ticks": ""
             }
            },
            "type": "scattercarpet"
           }
          ],
          "scattergeo": [
           {
            "marker": {
             "colorbar": {
              "outlinewidth": 0,
              "ticks": ""
             }
            },
            "type": "scattergeo"
           }
          ],
          "scattergl": [
           {
            "marker": {
             "colorbar": {
              "outlinewidth": 0,
              "ticks": ""
             }
            },
            "type": "scattergl"
           }
          ],
          "scattermapbox": [
           {
            "marker": {
             "colorbar": {
              "outlinewidth": 0,
              "ticks": ""
             }
            },
            "type": "scattermapbox"
           }
          ],
          "scatterpolar": [
           {
            "marker": {
             "colorbar": {
              "outlinewidth": 0,
              "ticks": ""
             }
            },
            "type": "scatterpolar"
           }
          ],
          "scatterpolargl": [
           {
            "marker": {
             "colorbar": {
              "outlinewidth": 0,
              "ticks": ""
             }
            },
            "type": "scatterpolargl"
           }
          ],
          "scatterternary": [
           {
            "marker": {
             "colorbar": {
              "outlinewidth": 0,
              "ticks": ""
             }
            },
            "type": "scatterternary"
           }
          ],
          "surface": [
           {
            "colorbar": {
             "outlinewidth": 0,
             "ticks": ""
            },
            "colorscale": [
             [
              0,
              "#0d0887"
             ],
             [
              0.1111111111111111,
              "#46039f"
             ],
             [
              0.2222222222222222,
              "#7201a8"
             ],
             [
              0.3333333333333333,
              "#9c179e"
             ],
             [
              0.4444444444444444,
              "#bd3786"
             ],
             [
              0.5555555555555556,
              "#d8576b"
             ],
             [
              0.6666666666666666,
              "#ed7953"
             ],
             [
              0.7777777777777778,
              "#fb9f3a"
             ],
             [
              0.8888888888888888,
              "#fdca26"
             ],
             [
              1,
              "#f0f921"
             ]
            ],
            "type": "surface"
           }
          ],
          "table": [
           {
            "cells": {
             "fill": {
              "color": "#EBF0F8"
             },
             "line": {
              "color": "white"
             }
            },
            "header": {
             "fill": {
              "color": "#C8D4E3"
             },
             "line": {
              "color": "white"
             }
            },
            "type": "table"
           }
          ]
         },
         "layout": {
          "annotationdefaults": {
           "arrowcolor": "#2a3f5f",
           "arrowhead": 0,
           "arrowwidth": 1
          },
          "autotypenumbers": "strict",
          "coloraxis": {
           "colorbar": {
            "outlinewidth": 0,
            "ticks": ""
           }
          },
          "colorscale": {
           "diverging": [
            [
             0,
             "#8e0152"
            ],
            [
             0.1,
             "#c51b7d"
            ],
            [
             0.2,
             "#de77ae"
            ],
            [
             0.3,
             "#f1b6da"
            ],
            [
             0.4,
             "#fde0ef"
            ],
            [
             0.5,
             "#f7f7f7"
            ],
            [
             0.6,
             "#e6f5d0"
            ],
            [
             0.7,
             "#b8e186"
            ],
            [
             0.8,
             "#7fbc41"
            ],
            [
             0.9,
             "#4d9221"
            ],
            [
             1,
             "#276419"
            ]
           ],
           "sequential": [
            [
             0,
             "#0d0887"
            ],
            [
             0.1111111111111111,
             "#46039f"
            ],
            [
             0.2222222222222222,
             "#7201a8"
            ],
            [
             0.3333333333333333,
             "#9c179e"
            ],
            [
             0.4444444444444444,
             "#bd3786"
            ],
            [
             0.5555555555555556,
             "#d8576b"
            ],
            [
             0.6666666666666666,
             "#ed7953"
            ],
            [
             0.7777777777777778,
             "#fb9f3a"
            ],
            [
             0.8888888888888888,
             "#fdca26"
            ],
            [
             1,
             "#f0f921"
            ]
           ],
           "sequentialminus": [
            [
             0,
             "#0d0887"
            ],
            [
             0.1111111111111111,
             "#46039f"
            ],
            [
             0.2222222222222222,
             "#7201a8"
            ],
            [
             0.3333333333333333,
             "#9c179e"
            ],
            [
             0.4444444444444444,
             "#bd3786"
            ],
            [
             0.5555555555555556,
             "#d8576b"
            ],
            [
             0.6666666666666666,
             "#ed7953"
            ],
            [
             0.7777777777777778,
             "#fb9f3a"
            ],
            [
             0.8888888888888888,
             "#fdca26"
            ],
            [
             1,
             "#f0f921"
            ]
           ]
          },
          "colorway": [
           "#636efa",
           "#EF553B",
           "#00cc96",
           "#ab63fa",
           "#FFA15A",
           "#19d3f3",
           "#FF6692",
           "#B6E880",
           "#FF97FF",
           "#FECB52"
          ],
          "font": {
           "color": "#2a3f5f"
          },
          "geo": {
           "bgcolor": "white",
           "lakecolor": "white",
           "landcolor": "#E5ECF6",
           "showlakes": true,
           "showland": true,
           "subunitcolor": "white"
          },
          "hoverlabel": {
           "align": "left"
          },
          "hovermode": "closest",
          "mapbox": {
           "style": "light"
          },
          "paper_bgcolor": "white",
          "plot_bgcolor": "#E5ECF6",
          "polar": {
           "angularaxis": {
            "gridcolor": "white",
            "linecolor": "white",
            "ticks": ""
           },
           "bgcolor": "#E5ECF6",
           "radialaxis": {
            "gridcolor": "white",
            "linecolor": "white",
            "ticks": ""
           }
          },
          "scene": {
           "xaxis": {
            "backgroundcolor": "#E5ECF6",
            "gridcolor": "white",
            "gridwidth": 2,
            "linecolor": "white",
            "showbackground": true,
            "ticks": "",
            "zerolinecolor": "white"
           },
           "yaxis": {
            "backgroundcolor": "#E5ECF6",
            "gridcolor": "white",
            "gridwidth": 2,
            "linecolor": "white",
            "showbackground": true,
            "ticks": "",
            "zerolinecolor": "white"
           },
           "zaxis": {
            "backgroundcolor": "#E5ECF6",
            "gridcolor": "white",
            "gridwidth": 2,
            "linecolor": "white",
            "showbackground": true,
            "ticks": "",
            "zerolinecolor": "white"
           }
          },
          "shapedefaults": {
           "line": {
            "color": "#2a3f5f"
           }
          },
          "ternary": {
           "aaxis": {
            "gridcolor": "white",
            "linecolor": "white",
            "ticks": ""
           },
           "baxis": {
            "gridcolor": "white",
            "linecolor": "white",
            "ticks": ""
           },
           "bgcolor": "#E5ECF6",
           "caxis": {
            "gridcolor": "white",
            "linecolor": "white",
            "ticks": ""
           }
          },
          "title": {
           "x": 0.05
          },
          "xaxis": {
           "automargin": true,
           "gridcolor": "white",
           "linecolor": "white",
           "ticks": "",
           "title": {
            "standoff": 15
           },
           "zerolinecolor": "white",
           "zerolinewidth": 2
          },
          "yaxis": {
           "automargin": true,
           "gridcolor": "white",
           "linecolor": "white",
           "ticks": "",
           "title": {
            "standoff": 15
           },
           "zerolinecolor": "white",
           "zerolinewidth": 2
          }
         }
        },
        "xaxis": {
         "anchor": "y",
         "domain": [
          0,
          1
         ],
         "title": {
          "text": "index"
         }
        },
        "yaxis": {
         "anchor": "x",
         "domain": [
          0,
          1
         ],
         "title": {
          "text": "value"
         }
        }
       }
      }
     },
     "metadata": {},
     "output_type": "display_data"
    }
   ],
   "source": [
    "py.plot(kind='bar',\n",
    "        data_frame=monthsCounts[months])"
   ]
  },
  {
   "attachments": {},
   "cell_type": "markdown",
   "metadata": {},
   "source": [
    "### Seasons"
   ]
  },
  {
   "cell_type": "code",
   "execution_count": 589,
   "metadata": {},
   "outputs": [
    {
     "name": "stdout",
     "output_type": "stream",
     "text": [
      "Number animes in Spring  : 91\n",
      "Number animes in Fall   : 96\n",
      "Number animes in Summer  : 48\n",
      "Number animes in Winter  : 65\n"
     ]
    }
   ],
   "source": [
    "# dataTV.Premiered\n",
    "\n",
    "infoPremired = []\n",
    "\n",
    "seasons = ['Spring', 'Fall ', 'Summer', 'Winter']\n",
    "\n",
    "for element in seasons:\n",
    "    patternS = element\n",
    "\n",
    "    seasonMask = dataTV.Premiered.str.contains(patternS)\n",
    "    anime_Season = dataTV[seasonMask]\n",
    "\n",
    "    print('Number animes in', patternS,' :' ,len(anime_Season))\n",
    "\n",
    "\n"
   ]
  },
  {
   "cell_type": "code",
   "execution_count": 821,
   "metadata": {},
   "outputs": [
    {
     "name": "stdout",
     "output_type": "stream",
     "text": [
      "Number animes in Fall:    96\n",
      "Number animes in Spring:  91\n",
      "Number animes in Winter:  65\n",
      "Number animes in Summer:  48\n"
     ]
    },
    {
     "data": {
      "text/plain": [
       "Text(0, 0.5, 'Total top animes released')"
      ]
     },
     "execution_count": 821,
     "metadata": {},
     "output_type": "execute_result"
    },
    {
     "data": {
      "image/png": "[encoded data removed]",
      "text/plain": [
       "<Figure size 640x480 with 1 Axes>"
      ]
     },
     "metadata": {},
     "output_type": "display_data"
    }
   ],
   "source": [
    "### USE THIS WAY FROM NOW\n",
    "\n",
    "\n",
    "seasonsNew = dataTV.Premiered.str.split(' ').str[0].value_counts()\n",
    "\n",
    "print('Number animes in Fall:   ', seasonsNew[0])\n",
    "print('Number animes in Spring: ', seasonsNew[1])\n",
    "print('Number animes in Winter: ', seasonsNew[2])\n",
    "print('Number animes in Summer: ', seasonsNew[3])\n",
    "\n",
    "\n",
    "plt.barh(['Spring', 'Summer', 'Fall', 'Winter'], seasonsNew)\n",
    "plt.title('Amount of top animes for each Season')\n",
    "plt.ylabel('Total top animes released')"
   ]
  },
  {
   "cell_type": "code",
   "execution_count": 824,
   "metadata": {},
   "outputs": [],
   "source": [
    "dataTV['Premiered_Season'] =dataTV.Premiered.str.split(' ').str[0]"
   ]
  },
  {
   "cell_type": "code",
   "execution_count": 925,
   "metadata": {},
   "outputs": [
    {
     "data": {
      "text/plain": [
       "<pandas.core.groupby.generic.DataFrameGroupBy object at 0x000002A96E18FEE0>"
      ]
     },
     "execution_count": 925,
     "metadata": {},
     "output_type": "execute_result"
    }
   ],
   "source": [
    "grouped = dataTV.groupby(['Premiered_Season', 'Broadcast'])\n",
    "\n",
    "grouped"
   ]
  },
  {
   "cell_type": "code",
   "execution_count": 928,
   "metadata": {},
   "outputs": [],
   "source": [
    "grouped[['Status','Age Ratingn']].first()\n"
   ]
  },
  {
   "attachments": {},
   "cell_type": "markdown",
   "metadata": {},
   "source": [
    "### Season Years"
   ]
  },
  {
   "cell_type": "code",
   "execution_count": 611,
   "metadata": {},
   "outputs": [
    {
     "data": {
      "text/plain": [
       "<Axes: >"
      ]
     },
     "execution_count": 611,
     "metadata": {},
     "output_type": "execute_result"
    },
    {
     "data": {
      "image/png": "[encoded data removed]",
      "text/plain": [
       "<Figure size 640x480 with 1 Axes>"
      ]
     },
     "metadata": {},
     "output_type": "display_data"
    }
   ],
   "source": [
    "yearCounts = dataTV.Premiered.str.split().str[1].value_counts()\n",
    "\n",
    "\n",
    "yearCounts.plot.bar()"
   ]
  },
  {
   "cell_type": "code",
   "execution_count": 930,
   "metadata": {},
   "outputs": [],
   "source": [
    "years = dataTV.AirDate_dt.dt.year\n",
    "\n",
    "# years.groupby(by=None)"
   ]
  },
  {
   "cell_type": "code",
   "execution_count": null,
   "metadata": {},
   "outputs": [],
   "source": [
    "\n"
   ]
  },
  {
   "attachments": {},
   "cell_type": "markdown",
   "metadata": {},
   "source": [
    "### Ratings "
   ]
  },
  {
   "cell_type": "code",
   "execution_count": 404,
   "metadata": {},
   "outputs": [
    {
     "name": "stdout",
     "output_type": "stream",
     "text": [
      "Average rating for Spring:  8.39\n",
      "Average rating for Summer:  8.34\n",
      "Average rating for Fall:    8.4\n",
      "Average rating for Winter:  8.39\n"
     ]
    },
    {
     "data": {
      "text/plain": [
       "(7.0, 9.0)"
      ]
     },
     "execution_count": 404,
     "metadata": {},
     "output_type": "execute_result"
    },
    {
     "data": {
      "image/png": "[encoded data removed]",
      "text/plain": [
       "<Figure size 640x480 with 1 Axes>"
      ]
     },
     "metadata": {},
     "output_type": "display_data"
    }
   ],
   "source": [
    "spring_avr = (round(dataTV[spring].Rating.mean(),2))\n",
    "summer_avr = (round(dataTV[summer].Rating.mean(),2))\n",
    "fall_avr   = (round(dataTV[fall].Rating.mean(),2))\n",
    "winter_avr = (round(dataTV[winter].Rating.mean(),2))\n",
    "\n",
    "print('Average rating for Spring: ', spring_avr)\n",
    "print('Average rating for Summer: ', summer_avr)\n",
    "print('Average rating for Fall:   ', fall_avr)\n",
    "print('Average rating for Winter: ', winter_avr)\n",
    "\n",
    "\n",
    "plt.title('Average ratings per Season')\n",
    "plt.barh(seasons, [spring_avr,summer_avr,fall_avr,winter_avr])\n",
    "plt.xlim(7,9)"
   ]
  },
  {
   "cell_type": "code",
   "execution_count": 347,
   "metadata": {},
   "outputs": [],
   "source": [
    "# dataTV[dataTV.Premiered.str.contains('Spring')]\n",
    "\n",
    "# dataTV[spring].Studio.value_counts()\n",
    "\n",
    "# dataTV.Premiered.str.contains('2009')"
   ]
  },
  {
   "attachments": {},
   "cell_type": "markdown",
   "metadata": {},
   "source": [
    "### Broadcasts"
   ]
  },
  {
   "cell_type": "code",
   "execution_count": 428,
   "metadata": {},
   "outputs": [
    {
     "data": {
      "text/plain": [
       "<Axes: >"
      ]
     },
     "execution_count": 428,
     "metadata": {},
     "output_type": "execute_result"
    },
    {
     "data": {
      "image/png": "[encoded data removed]",
      "text/plain": [
       "<Figure size 640x480 with 1 Axes>"
      ]
     },
     "metadata": {},
     "output_type": "display_data"
    }
   ],
   "source": [
    "## Airing Days\n",
    "\n",
    "dataTV.Broadcast.value_counts().plot.bar()"
   ]
  },
  {
   "attachments": {},
   "cell_type": "markdown",
   "metadata": {},
   "source": [
    "### Studios"
   ]
  },
  {
   "cell_type": "code",
   "execution_count": 585,
   "metadata": {},
   "outputs": [
    {
     "data": {
      "text/plain": [
       "Madhouse                    27\n",
       "Production I.G              22\n",
       "J.C.Staff                   16\n",
       "Bones                       15\n",
       "A-1 Pictures                15\n",
       "Sunrise                     13\n",
       "Wit Studio                  10\n",
       "Brain's Base                10\n",
       "Pierrot                      9\n",
       "TMS Entertainment            9\n",
       "Shaft                        9\n",
       "Kyoto Animation              7\n",
       "ufotable                     7\n",
       "MAPPA                        7\n",
       "White Fox                    7\n",
       "Studio Deen                  7\n",
       "SynergySP                    6\n",
       "Lerche                       6\n",
       "Bandai Namco Pictures        6\n",
       "Toei Animation               5\n",
       "CloverWorks                  5\n",
       "David Production             4\n",
       "feel.                        4\n",
       "Hal Film Maker               4\n",
       "OLM                          4\n",
       "Artland                      4\n",
       "8bit                         4\n",
       "P.A. Works                   4\n",
       "Studio Hibari                3\n",
       "TROYCA                       3\n",
       "Kinema Citrus                3\n",
       "Nippon Animation             3\n",
       "A.C.G.T.                     2\n",
       "Gonzo                        2\n",
       "Ajia-do                      2\n",
       "Gallop                       2\n",
       "SILVER LINK.                 2\n",
       "Tezuka Productions           2\n",
       "Tokyo Movie Shinsha          2\n",
       "Shuka                        2\n",
       "Studio Bind                  2\n",
       "Shin-Ei Animation            2\n",
       "Geno Studio                  2\n",
       "C-Station                    2\n",
       "Tatsunoko Production         2\n",
       "Gainax                       2\n",
       "Telescreen                   1\n",
       "Bibury Animation Studios     1\n",
       "Science SARU                 1\n",
       "Telecom Animation Film       1\n",
       "Pastel                       1\n",
       "Satelight                    1\n",
       "Orange                       1\n",
       "Imagin                       1\n",
       "Zero-G                       1\n",
       "Mushi Production             1\n",
       "Manglobe                     1\n",
       "Platinum Vision              1\n",
       "Nexus                        1\n",
       "Triangle Staff               1\n",
       "Name: Studio, dtype: int64"
      ]
     },
     "execution_count": 585,
     "metadata": {},
     "output_type": "execute_result"
    }
   ],
   "source": [
    "dataTV.Studio.value_counts()"
   ]
  },
  {
   "attachments": {},
   "cell_type": "markdown",
   "metadata": {},
   "source": [
    "### Age Ratings"
   ]
  },
  {
   "cell_type": "code",
   "execution_count": 452,
   "metadata": {},
   "outputs": [
    {
     "data": {
      "text/plain": [
       "Text(0.5, 1.0, 'Age Rating Counts')"
      ]
     },
     "execution_count": 452,
     "metadata": {},
     "output_type": "execute_result"
    },
    {
     "data": {
      "image/png": "[encoded data removed]",
      "text/plain": [
       "<Figure size 640x480 with 1 Axes>"
      ]
     },
     "metadata": {},
     "output_type": "display_data"
    }
   ],
   "source": [
    "dataTV['Age Ratingn'].value_counts().plot.bar()\n",
    "\n",
    "plt.title('Age Rating Counts')\n",
    "# plt.grid()"
   ]
  },
  {
   "cell_type": "code",
   "execution_count": 942,
   "metadata": {},
   "outputs": [
    {
     "data": {
      "text/plain": [
       "PG-13    194\n",
       "R         96\n",
       "R+         6\n",
       "G          3\n",
       "PG         1\n",
       "Name: Age Ratingn, dtype: int64"
      ]
     },
     "execution_count": 942,
     "metadata": {},
     "output_type": "execute_result"
    }
   ],
   "source": [
    "dataTV['Age Ratingn'].value_counts()"
   ]
  },
  {
   "cell_type": "code",
   "execution_count": 957,
   "metadata": {},
   "outputs": [
    {
     "data": {
      "text/html": [
       "<div>\n",
       "<style scoped>\n",
       "    .dataframe tbody tr th:only-of-type {\n",
       "        vertical-align: middle;\n",
       "    }\n",
       "\n",
       "    .dataframe tbody tr th {\n",
       "        vertical-align: top;\n",
       "    }\n",
       "\n",
       "    .dataframe thead th {\n",
       "        text-align: right;\n",
       "    }\n",
       "</style>\n",
       "<table border=\"1\" class=\"dataframe\">\n",
       "  <thead>\n",
       "    <tr style=\"text-align: right;\">\n",
       "      <th></th>\n",
       "      <th>Rank</th>\n",
       "      <th>Title</th>\n",
       "      <th>Rating</th>\n",
       "      <th>Type</th>\n",
       "      <th>AirDate_dt</th>\n",
       "      <th>EndDate</th>\n",
       "      <th>TotalEpi</th>\n",
       "      <th>Members</th>\n",
       "      <th>MAL Ref</th>\n",
       "      <th>Status</th>\n",
       "      <th>Premiered</th>\n",
       "      <th>Broadcast</th>\n",
       "      <th>Studio</th>\n",
       "      <th>Duration</th>\n",
       "      <th>Genres</th>\n",
       "      <th>Producer</th>\n",
       "      <th>Source</th>\n",
       "      <th>Premiered_Season</th>\n",
       "    </tr>\n",
       "    <tr>\n",
       "      <th>Age Ratingn</th>\n",
       "      <th></th>\n",
       "      <th></th>\n",
       "      <th></th>\n",
       "      <th></th>\n",
       "      <th></th>\n",
       "      <th></th>\n",
       "      <th></th>\n",
       "      <th></th>\n",
       "      <th></th>\n",
       "      <th></th>\n",
       "      <th></th>\n",
       "      <th></th>\n",
       "      <th></th>\n",
       "      <th></th>\n",
       "      <th></th>\n",
       "      <th></th>\n",
       "      <th></th>\n",
       "      <th></th>\n",
       "    </tr>\n",
       "  </thead>\n",
       "  <tbody>\n",
       "    <tr>\n",
       "      <th>G</th>\n",
       "      <td>3</td>\n",
       "      <td>3</td>\n",
       "      <td>3</td>\n",
       "      <td>3</td>\n",
       "      <td>3</td>\n",
       "      <td>3</td>\n",
       "      <td>3</td>\n",
       "      <td>3</td>\n",
       "      <td>3</td>\n",
       "      <td>3</td>\n",
       "      <td>3</td>\n",
       "      <td>3</td>\n",
       "      <td>3</td>\n",
       "      <td>3</td>\n",
       "      <td>3</td>\n",
       "      <td>3</td>\n",
       "      <td>3</td>\n",
       "      <td>3</td>\n",
       "    </tr>\n",
       "    <tr>\n",
       "      <th>PG</th>\n",
       "      <td>1</td>\n",
       "      <td>1</td>\n",
       "      <td>1</td>\n",
       "      <td>1</td>\n",
       "      <td>1</td>\n",
       "      <td>1</td>\n",
       "      <td>1</td>\n",
       "      <td>1</td>\n",
       "      <td>1</td>\n",
       "      <td>1</td>\n",
       "      <td>1</td>\n",
       "      <td>1</td>\n",
       "      <td>1</td>\n",
       "      <td>1</td>\n",
       "      <td>1</td>\n",
       "      <td>1</td>\n",
       "      <td>1</td>\n",
       "      <td>1</td>\n",
       "    </tr>\n",
       "    <tr>\n",
       "      <th>PG-13</th>\n",
       "      <td>194</td>\n",
       "      <td>194</td>\n",
       "      <td>194</td>\n",
       "      <td>194</td>\n",
       "      <td>194</td>\n",
       "      <td>190</td>\n",
       "      <td>194</td>\n",
       "      <td>194</td>\n",
       "      <td>194</td>\n",
       "      <td>194</td>\n",
       "      <td>194</td>\n",
       "      <td>194</td>\n",
       "      <td>194</td>\n",
       "      <td>194</td>\n",
       "      <td>194</td>\n",
       "      <td>194</td>\n",
       "      <td>194</td>\n",
       "      <td>194</td>\n",
       "    </tr>\n",
       "    <tr>\n",
       "      <th>R</th>\n",
       "      <td>96</td>\n",
       "      <td>96</td>\n",
       "      <td>96</td>\n",
       "      <td>96</td>\n",
       "      <td>96</td>\n",
       "      <td>94</td>\n",
       "      <td>96</td>\n",
       "      <td>96</td>\n",
       "      <td>96</td>\n",
       "      <td>96</td>\n",
       "      <td>96</td>\n",
       "      <td>96</td>\n",
       "      <td>96</td>\n",
       "      <td>96</td>\n",
       "      <td>96</td>\n",
       "      <td>96</td>\n",
       "      <td>96</td>\n",
       "      <td>96</td>\n",
       "    </tr>\n",
       "    <tr>\n",
       "      <th>R+</th>\n",
       "      <td>6</td>\n",
       "      <td>6</td>\n",
       "      <td>6</td>\n",
       "      <td>6</td>\n",
       "      <td>6</td>\n",
       "      <td>6</td>\n",
       "      <td>6</td>\n",
       "      <td>6</td>\n",
       "      <td>6</td>\n",
       "      <td>6</td>\n",
       "      <td>6</td>\n",
       "      <td>6</td>\n",
       "      <td>6</td>\n",
       "      <td>6</td>\n",
       "      <td>6</td>\n",
       "      <td>6</td>\n",
       "      <td>6</td>\n",
       "      <td>6</td>\n",
       "    </tr>\n",
       "  </tbody>\n",
       "</table>\n",
       "</div>"
      ],
      "text/plain": [
       "             Rank  Title  Rating  Type  AirDate_dt  EndDate  TotalEpi  \\\n",
       "Age Ratingn                                                             \n",
       "G               3      3       3     3           3        3         3   \n",
       "PG              1      1       1     1           1        1         1   \n",
       "PG-13         194    194     194   194         194      190       194   \n",
       "R              96     96      96    96          96       94        96   \n",
       "R+              6      6       6     6           6        6         6   \n",
       "\n",
       "             Members  MAL Ref  Status  Premiered  Broadcast  Studio  Duration  \\\n",
       "Age Ratingn                                                                     \n",
       "G                  3        3       3          3          3       3         3   \n",
       "PG                 1        1       1          1          1       1         1   \n",
       "PG-13            194      194     194        194        194     194       194   \n",
       "R                 96       96      96         96         96      96        96   \n",
       "R+                 6        6       6          6          6       6         6   \n",
       "\n",
       "             Genres  Producer  Source  Premiered_Season  \n",
       "Age Ratingn                                              \n",
       "G                 3         3       3                 3  \n",
       "PG                1         1       1                 1  \n",
       "PG-13           194       194     194               194  \n",
       "R                96        96      96                96  \n",
       "R+                6         6       6                 6  "
      ]
     },
     "execution_count": 957,
     "metadata": {},
     "output_type": "execute_result"
    }
   ],
   "source": [
    "dataTV.groupby('Age Ratingn').count()\n"
   ]
  },
  {
   "cell_type": "code",
   "execution_count": null,
   "metadata": {},
   "outputs": [],
   "source": []
  },
  {
   "attachments": {},
   "cell_type": "markdown",
   "metadata": {},
   "source": [
    "### Generes\n",
    "\n",
    "Fix after running other code again"
   ]
  },
  {
   "cell_type": "code",
   "execution_count": null,
   "metadata": {},
   "outputs": [
    {
     "data": {
      "text/plain": [
       "\"['Action', 'Action', 'Drama', 'Drama']\""
      ]
     },
     "metadata": {},
     "output_type": "display_data"
    }
   ],
   "source": [
    "dataTV.Genres[5]"
   ]
  },
  {
   "cell_type": "code",
   "execution_count": null,
   "metadata": {},
   "outputs": [
    {
     "data": {
      "text/plain": [
       "[\"['Action'\", \" 'Drama'\"]"
      ]
     },
     "metadata": {},
     "output_type": "display_data"
    }
   ],
   "source": [
    "dataTV.Genres[:].str.split(\",\")[5][::2]"
   ]
  },
  {
   "attachments": {},
   "cell_type": "markdown",
   "metadata": {},
   "source": [
    "### Producers"
   ]
  },
  {
   "cell_type": "code",
   "execution_count": 475,
   "metadata": {},
   "outputs": [
    {
     "data": {
      "text/plain": [
       "<Axes: >"
      ]
     },
     "execution_count": 475,
     "metadata": {},
     "output_type": "execute_result"
    },
    {
     "data": {
      "image/png": "[encoded data removed]",
      "text/plain": [
       "<Figure size 1500x500 with 1 Axes>"
      ]
     },
     "metadata": {},
     "output_type": "display_data"
    }
   ],
   "source": [
    "dataTV.Producer.value_counts()[:20].plot(kind='bar', figsize=(15,5), grid=True)"
   ]
  },
  {
   "attachments": {},
   "cell_type": "markdown",
   "metadata": {},
   "source": [
    "### Source"
   ]
  },
  {
   "cell_type": "code",
   "execution_count": 473,
   "metadata": {},
   "outputs": [
    {
     "data": {
      "text/plain": [
       "<Axes: >"
      ]
     },
     "execution_count": 473,
     "metadata": {},
     "output_type": "execute_result"
    },
    {
     "data": {
      "image/png": "[encoded data removed]",
      "text/plain": [
       "<Figure size 640x480 with 1 Axes>"
      ]
     },
     "metadata": {},
     "output_type": "display_data"
    }
   ],
   "source": [
    "dataTV.Source.value_counts().plot(kind='bar')"
   ]
  },
  {
   "attachments": {},
   "cell_type": "markdown",
   "metadata": {},
   "source": [
    "### Dunno Yet"
   ]
  },
  {
   "cell_type": "code",
   "execution_count": null,
   "metadata": {},
   "outputs": [],
   "source": []
  },
  {
   "cell_type": "code",
   "execution_count": null,
   "metadata": {},
   "outputs": [],
   "source": [
    "fig = plt.figure(figsize=(8,8))\n",
    "\n",
    "plt.matshow(corr)"
   ]
  },
  {
   "cell_type": "code",
   "execution_count": null,
   "metadata": {},
   "outputs": [],
   "source": []
  },
  {
   "cell_type": "code",
   "execution_count": null,
   "metadata": {},
   "outputs": [],
   "source": []
  },
  {
   "attachments": {},
   "cell_type": "markdown",
   "metadata": {},
   "source": [
    "## Only Movies"
   ]
  },
  {
   "cell_type": "code",
   "execution_count": 932,
   "metadata": {},
   "outputs": [
    {
     "data": {
      "text/html": [
       "<div>\n",
       "<style scoped>\n",
       "    .dataframe tbody tr th:only-of-type {\n",
       "        vertical-align: middle;\n",
       "    }\n",
       "\n",
       "    .dataframe tbody tr th {\n",
       "        vertical-align: top;\n",
       "    }\n",
       "\n",
       "    .dataframe thead th {\n",
       "        text-align: right;\n",
       "    }\n",
       "</style>\n",
       "<table border=\"1\" class=\"dataframe\">\n",
       "  <thead>\n",
       "    <tr style=\"text-align: right;\">\n",
       "      <th></th>\n",
       "      <th>Rank</th>\n",
       "      <th>Title</th>\n",
       "      <th>Rating</th>\n",
       "      <th>Type</th>\n",
       "      <th>AirDate</th>\n",
       "      <th>EndDate</th>\n",
       "      <th>TotalEpi</th>\n",
       "      <th>Members</th>\n",
       "      <th>MAL Ref</th>\n",
       "      <th>Status</th>\n",
       "      <th>Premiered</th>\n",
       "      <th>Broadcast</th>\n",
       "      <th>Studio</th>\n",
       "      <th>Duration</th>\n",
       "      <th>Age Ratingn</th>\n",
       "      <th>Genres</th>\n",
       "      <th>Producer</th>\n",
       "      <th>Source</th>\n",
       "    </tr>\n",
       "  </thead>\n",
       "  <tbody>\n",
       "    <tr>\n",
       "      <th>6</th>\n",
       "      <td>7</td>\n",
       "      <td>Gintama: The Final</td>\n",
       "      <td>9.05</td>\n",
       "      <td>Movie</td>\n",
       "      <td>Jan 2021</td>\n",
       "      <td>Jan 2021</td>\n",
       "      <td>1</td>\n",
       "      <td>124969</td>\n",
       "      <td>39486</td>\n",
       "      <td>Finished Airing</td>\n",
       "      <td>NaN</td>\n",
       "      <td>NaN</td>\n",
       "      <td>Bandai Namco Pictures</td>\n",
       "      <td>1 hr. 44 min</td>\n",
       "      <td>PG-13</td>\n",
       "      <td>['Action', 'Action', 'Comedy', 'Comedy', 'Dram...</td>\n",
       "      <td>TV Tokyo</td>\n",
       "      <td>Manga</td>\n",
       "    </tr>\n",
       "    <tr>\n",
       "      <th>13</th>\n",
       "      <td>14</td>\n",
       "      <td>Kaguya-sama wa Kokurasetai: First Kiss wa Owar...</td>\n",
       "      <td>8.97</td>\n",
       "      <td>Movie</td>\n",
       "      <td>Dec 2022</td>\n",
       "      <td>Dec 2022</td>\n",
       "      <td>1</td>\n",
       "      <td>94851</td>\n",
       "      <td>52198</td>\n",
       "      <td>Finished Airing</td>\n",
       "      <td>NaN</td>\n",
       "      <td>NaN</td>\n",
       "      <td>A-1 Pictures</td>\n",
       "      <td>1 hr. 36 min</td>\n",
       "      <td>PG-13</td>\n",
       "      <td>['Comedy', 'Comedy', 'Drama', 'Drama', 'Romanc...</td>\n",
       "      <td>Aniplex</td>\n",
       "      <td>Manga</td>\n",
       "    </tr>\n",
       "    <tr>\n",
       "      <th>17</th>\n",
       "      <td>18</td>\n",
       "      <td>Koe no Katachi</td>\n",
       "      <td>8.94</td>\n",
       "      <td>Movie</td>\n",
       "      <td>Sep 2016</td>\n",
       "      <td>Sep 2016</td>\n",
       "      <td>1</td>\n",
       "      <td>2132019</td>\n",
       "      <td>28851</td>\n",
       "      <td>Finished Airing</td>\n",
       "      <td>NaN</td>\n",
       "      <td>NaN</td>\n",
       "      <td>Kyoto Animation</td>\n",
       "      <td>2 hr. 10 min</td>\n",
       "      <td>PG-13</td>\n",
       "      <td>['Award Winning', 'Award Winning', 'Drama', 'D...</td>\n",
       "      <td>Shochiku</td>\n",
       "      <td>Manga</td>\n",
       "    </tr>\n",
       "    <tr>\n",
       "      <th>19</th>\n",
       "      <td>20</td>\n",
       "      <td>Gintama Movie 2: Kanketsu-hen - Yorozuya yo Ei...</td>\n",
       "      <td>8.92</td>\n",
       "      <td>Movie</td>\n",
       "      <td>Jul 2013</td>\n",
       "      <td>Jul 2013</td>\n",
       "      <td>1</td>\n",
       "      <td>224094</td>\n",
       "      <td>15335</td>\n",
       "      <td>Finished Airing</td>\n",
       "      <td>NaN</td>\n",
       "      <td>NaN</td>\n",
       "      <td>Sunrise</td>\n",
       "      <td>1 hr. 50 min</td>\n",
       "      <td>PG-13</td>\n",
       "      <td>['Action', 'Action', 'Comedy', 'Comedy', 'Sci-...</td>\n",
       "      <td>TV Tokyo</td>\n",
       "      <td>Manga</td>\n",
       "    </tr>\n",
       "    <tr>\n",
       "      <th>21</th>\n",
       "      <td>22</td>\n",
       "      <td>Violet Evergarden Movie</td>\n",
       "      <td>8.91</td>\n",
       "      <td>Movie</td>\n",
       "      <td>Sep 2020</td>\n",
       "      <td>Sep 2020</td>\n",
       "      <td>1</td>\n",
       "      <td>519260</td>\n",
       "      <td>37987</td>\n",
       "      <td>Finished Airing</td>\n",
       "      <td>NaN</td>\n",
       "      <td>NaN</td>\n",
       "      <td>Kyoto Animation</td>\n",
       "      <td>2 hr. 20 min</td>\n",
       "      <td>PG-13</td>\n",
       "      <td>['Award Winning', 'Award Winning', 'Drama', 'D...</td>\n",
       "      <td>Shochiku</td>\n",
       "      <td>Light novel</td>\n",
       "    </tr>\n",
       "    <tr>\n",
       "      <th>...</th>\n",
       "      <td>...</td>\n",
       "      <td>...</td>\n",
       "      <td>...</td>\n",
       "      <td>...</td>\n",
       "      <td>...</td>\n",
       "      <td>...</td>\n",
       "      <td>...</td>\n",
       "      <td>...</td>\n",
       "      <td>...</td>\n",
       "      <td>...</td>\n",
       "      <td>...</td>\n",
       "      <td>...</td>\n",
       "      <td>...</td>\n",
       "      <td>...</td>\n",
       "      <td>...</td>\n",
       "      <td>...</td>\n",
       "      <td>...</td>\n",
       "      <td>...</td>\n",
       "    </tr>\n",
       "    <tr>\n",
       "      <th>480</th>\n",
       "      <td>481</td>\n",
       "      <td>Stand By Me Doraemon</td>\n",
       "      <td>8.08</td>\n",
       "      <td>Movie</td>\n",
       "      <td>Aug 2014</td>\n",
       "      <td>Aug 2014</td>\n",
       "      <td>1</td>\n",
       "      <td>49367</td>\n",
       "      <td>21469</td>\n",
       "      <td>Finished Airing</td>\n",
       "      <td>NaN</td>\n",
       "      <td>NaN</td>\n",
       "      <td>Shirogumi</td>\n",
       "      <td>1 hr. 34 min</td>\n",
       "      <td>PG</td>\n",
       "      <td>['Comedy', 'Comedy', 'Sci-Fi', 'Sci-Fi']</td>\n",
       "      <td>Toho</td>\n",
       "      <td>Manga</td>\n",
       "    </tr>\n",
       "    <tr>\n",
       "      <th>481</th>\n",
       "      <td>482</td>\n",
       "      <td>Ginga Eiyuu Densetsu: Arata naru Tatakai no Ov...</td>\n",
       "      <td>8.08</td>\n",
       "      <td>Movie</td>\n",
       "      <td>Dec 1993</td>\n",
       "      <td>Dec 1993</td>\n",
       "      <td>1</td>\n",
       "      <td>32564</td>\n",
       "      <td>3016</td>\n",
       "      <td>Finished Airing</td>\n",
       "      <td>NaN</td>\n",
       "      <td>NaN</td>\n",
       "      <td>Kitty Film Mitaka Studio</td>\n",
       "      <td>1 hr. 30 min</td>\n",
       "      <td>PG-13</td>\n",
       "      <td>['Action', 'Action', 'Drama', 'Drama', 'Sci-Fi...</td>\n",
       "      <td>Kitty Films</td>\n",
       "      <td>Novel</td>\n",
       "    </tr>\n",
       "    <tr>\n",
       "      <th>489</th>\n",
       "      <td>490</td>\n",
       "      <td>Detective Conan Movie 08: Magician of the Silv...</td>\n",
       "      <td>8.07</td>\n",
       "      <td>Movie</td>\n",
       "      <td>Apr 2004</td>\n",
       "      <td>Apr 2004</td>\n",
       "      <td>1</td>\n",
       "      <td>53398</td>\n",
       "      <td>1367</td>\n",
       "      <td>Finished Airing</td>\n",
       "      <td>NaN</td>\n",
       "      <td>NaN</td>\n",
       "      <td>TMS Entertainment</td>\n",
       "      <td>1 hr. 48 min</td>\n",
       "      <td>PG-13</td>\n",
       "      <td>['Adventure', 'Adventure', 'Comedy', 'Comedy',...</td>\n",
       "      <td>add some</td>\n",
       "      <td>Manga</td>\n",
       "    </tr>\n",
       "    <tr>\n",
       "      <th>490</th>\n",
       "      <td>491</td>\n",
       "      <td>Detective Conan Movie 18: The Sniper from Anot...</td>\n",
       "      <td>8.07</td>\n",
       "      <td>Movie</td>\n",
       "      <td>Apr 2014</td>\n",
       "      <td>Apr 2014</td>\n",
       "      <td>1</td>\n",
       "      <td>40312</td>\n",
       "      <td>21419</td>\n",
       "      <td>Finished Airing</td>\n",
       "      <td>NaN</td>\n",
       "      <td>NaN</td>\n",
       "      <td>TMS Entertainment</td>\n",
       "      <td>1 hr. 50 min</td>\n",
       "      <td>PG-13</td>\n",
       "      <td>['Action', 'Action', 'Mystery', 'Mystery']</td>\n",
       "      <td>add some</td>\n",
       "      <td>Manga</td>\n",
       "    </tr>\n",
       "    <tr>\n",
       "      <th>491</th>\n",
       "      <td>492</td>\n",
       "      <td>Detective Conan Movie 25: Halloween no Hanayome</td>\n",
       "      <td>8.07</td>\n",
       "      <td>Movie</td>\n",
       "      <td>Apr 2022</td>\n",
       "      <td>Apr 2022</td>\n",
       "      <td>1</td>\n",
       "      <td>10814</td>\n",
       "      <td>49320</td>\n",
       "      <td>Finished Airing</td>\n",
       "      <td>NaN</td>\n",
       "      <td>NaN</td>\n",
       "      <td>TMS Entertainment</td>\n",
       "      <td>1 hr. 50 min</td>\n",
       "      <td>PG-13</td>\n",
       "      <td>['Fixing_one_Genre']</td>\n",
       "      <td>add some</td>\n",
       "      <td>Manga</td>\n",
       "    </tr>\n",
       "  </tbody>\n",
       "</table>\n",
       "<p>118 rows × 18 columns</p>\n",
       "</div>"
      ],
      "text/plain": [
       "     Rank                                              Title  Rating   Type  \\\n",
       "6       7                                 Gintama: The Final    9.05  Movie   \n",
       "13     14  Kaguya-sama wa Kokurasetai: First Kiss wa Owar...    8.97  Movie   \n",
       "17     18                                     Koe no Katachi    8.94  Movie   \n",
       "19     20  Gintama Movie 2: Kanketsu-hen - Yorozuya yo Ei...    8.92  Movie   \n",
       "21     22                            Violet Evergarden Movie    8.91  Movie   \n",
       "..    ...                                                ...     ...    ...   \n",
       "480   481                               Stand By Me Doraemon    8.08  Movie   \n",
       "481   482  Ginga Eiyuu Densetsu: Arata naru Tatakai no Ov...    8.08  Movie   \n",
       "489   490  Detective Conan Movie 08: Magician of the Silv...    8.07  Movie   \n",
       "490   491  Detective Conan Movie 18: The Sniper from Anot...    8.07  Movie   \n",
       "491   492    Detective Conan Movie 25: Halloween no Hanayome    8.07  Movie   \n",
       "\n",
       "      AirDate   EndDate TotalEpi  Members  MAL Ref           Status Premiered  \\\n",
       "6    Jan 2021  Jan 2021        1   124969    39486  Finished Airing       NaN   \n",
       "13   Dec 2022  Dec 2022        1    94851    52198  Finished Airing       NaN   \n",
       "17   Sep 2016  Sep 2016        1  2132019    28851  Finished Airing       NaN   \n",
       "19   Jul 2013  Jul 2013        1   224094    15335  Finished Airing       NaN   \n",
       "21   Sep 2020  Sep 2020        1   519260    37987  Finished Airing       NaN   \n",
       "..        ...       ...      ...      ...      ...              ...       ...   \n",
       "480  Aug 2014  Aug 2014        1    49367    21469  Finished Airing       NaN   \n",
       "481  Dec 1993  Dec 1993        1    32564     3016  Finished Airing       NaN   \n",
       "489  Apr 2004  Apr 2004        1    53398     1367  Finished Airing       NaN   \n",
       "490  Apr 2014  Apr 2014        1    40312    21419  Finished Airing       NaN   \n",
       "491  Apr 2022  Apr 2022        1    10814    49320  Finished Airing       NaN   \n",
       "\n",
       "    Broadcast                    Studio      Duration Age Ratingn  \\\n",
       "6         NaN     Bandai Namco Pictures  1 hr. 44 min       PG-13   \n",
       "13        NaN              A-1 Pictures  1 hr. 36 min       PG-13   \n",
       "17        NaN           Kyoto Animation  2 hr. 10 min       PG-13   \n",
       "19        NaN                   Sunrise  1 hr. 50 min       PG-13   \n",
       "21        NaN           Kyoto Animation  2 hr. 20 min       PG-13   \n",
       "..        ...                       ...           ...         ...   \n",
       "480       NaN                 Shirogumi  1 hr. 34 min          PG   \n",
       "481       NaN  Kitty Film Mitaka Studio  1 hr. 30 min       PG-13   \n",
       "489       NaN         TMS Entertainment  1 hr. 48 min       PG-13   \n",
       "490       NaN         TMS Entertainment  1 hr. 50 min       PG-13   \n",
       "491       NaN         TMS Entertainment  1 hr. 50 min       PG-13   \n",
       "\n",
       "                                                Genres     Producer  \\\n",
       "6    ['Action', 'Action', 'Comedy', 'Comedy', 'Dram...     TV Tokyo   \n",
       "13   ['Comedy', 'Comedy', 'Drama', 'Drama', 'Romanc...      Aniplex   \n",
       "17   ['Award Winning', 'Award Winning', 'Drama', 'D...     Shochiku   \n",
       "19   ['Action', 'Action', 'Comedy', 'Comedy', 'Sci-...     TV Tokyo   \n",
       "21   ['Award Winning', 'Award Winning', 'Drama', 'D...     Shochiku   \n",
       "..                                                 ...          ...   \n",
       "480           ['Comedy', 'Comedy', 'Sci-Fi', 'Sci-Fi']         Toho   \n",
       "481  ['Action', 'Action', 'Drama', 'Drama', 'Sci-Fi...  Kitty Films   \n",
       "489  ['Adventure', 'Adventure', 'Comedy', 'Comedy',...     add some   \n",
       "490         ['Action', 'Action', 'Mystery', 'Mystery']     add some   \n",
       "491                               ['Fixing_one_Genre']     add some   \n",
       "\n",
       "          Source  \n",
       "6          Manga  \n",
       "13         Manga  \n",
       "17         Manga  \n",
       "19         Manga  \n",
       "21   Light novel  \n",
       "..           ...  \n",
       "480        Manga  \n",
       "481        Novel  \n",
       "489        Manga  \n",
       "490        Manga  \n",
       "491        Manga  \n",
       "\n",
       "[118 rows x 18 columns]"
      ]
     },
     "execution_count": 932,
     "metadata": {},
     "output_type": "execute_result"
    }
   ],
   "source": [
    "data.loc[data.Type == 'Movie']\n"
   ]
  },
  {
   "cell_type": "code",
   "execution_count": null,
   "metadata": {},
   "outputs": [],
   "source": []
  },
  {
   "cell_type": "code",
   "execution_count": null,
   "metadata": {},
   "outputs": [],
   "source": []
  }
 ],
 "metadata": {
  "kernelspec": {
   "display_name": "Python 3",
   "language": "python",
   "name": "python3"
  },
  "language_info": {
   "codemirror_mode": {
    "name": "ipython",
    "version": 3
   },
   "file_extension": ".py",
   "mimetype": "text/x-python",
   "name": "python",
   "nbconvert_exporter": "python",
   "pygments_lexer": "ipython3",
   "version": "3.10.4"
  },
  "orig_nbformat": 4,
  "vscode": {
   "interpreter": {
    "hash": "7cccf0148f04178e92e840c6e1071e5b6b8e5c15a27b56a3f7cc3cf5f13335e6"
   }
  }
 },
 "nbformat": 4,
 "nbformat_minor": 2
}
