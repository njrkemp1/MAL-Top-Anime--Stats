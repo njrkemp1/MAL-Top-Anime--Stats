{
 "cells": [
  {
   "attachments": {},
   "cell_type": "markdown",
   "metadata": {},
   "source": [
    "# Data Analist"
   ]
  },
  {
   "attachments": {},
   "cell_type": "markdown",
   "metadata": {},
   "source": [
    "## Importing libraries"
   ]
  },
  {
   "cell_type": "code",
   "execution_count": 1,
   "metadata": {},
   "outputs": [],
   "source": [
    "import numpy as np\n",
    "import pandas as pd\n",
    "import matplotlib.pyplot as plt\n",
    "import seaborn \n",
    "\n",
    "import plotly as py\n",
    "import datetime\n"
   ]
  },
  {
   "attachments": {},
   "cell_type": "markdown",
   "metadata": {},
   "source": [
    "## Importing csv file"
   ]
  },
  {
   "cell_type": "code",
   "execution_count": 2,
   "metadata": {},
   "outputs": [],
   "source": [
    "data = pd.read_excel('multiPages.xlsx')"
   ]
  },
  {
   "cell_type": "code",
   "execution_count": 3,
   "metadata": {},
   "outputs": [],
   "source": [
    "# data.head()"
   ]
  },
  {
   "attachments": {},
   "cell_type": "markdown",
   "metadata": {},
   "source": [
    "## Feature Enginering"
   ]
  },
  {
   "attachments": {},
   "cell_type": "markdown",
   "metadata": {},
   "source": [
    "### Which year made the most top rated anime\n",
    "\n",
    "This is for ALL data"
   ]
  },
  {
   "cell_type": "code",
   "execution_count": 15,
   "metadata": {},
   "outputs": [
    {
     "name": "stdout",
     "output_type": "stream",
     "text": [
      "Top animes in decade 1970 : 4\n",
      "Top animes in decade 1980 : 10\n",
      "Top animes in decade 1990 : 27\n",
      "Top animes in decade 2000 : 94\n",
      "Top animes in decade 2010 : 250\n",
      "Top animes in decade 2020 : 115\n"
     ]
    }
   ],
   "source": [
    "years = np.arange(197,203,1).tolist()\n",
    "\n",
    "for year in years:\n",
    "    patternY = str(year)\n",
    "\n",
    "    yearMask = data['AirDate'].str.contains(patternY)\n",
    "    anime_Year = (data[yearMask])\n",
    "\n",
    "    print('Top animes in decade', patternY, '\\b0 :' , len(anime_Year))"
   ]
  },
  {
   "cell_type": "code",
   "execution_count": 55,
   "metadata": {},
   "outputs": [
    {
     "name": "stdout",
     "output_type": "stream",
     "text": [
      "Number animes in Jan  : 79\n",
      "Number animes in Feb  : 19\n",
      "Number animes in Mar  : 17\n",
      "Number animes in Apr  : 110\n",
      "Number animes in May  : 5\n",
      "Number animes in Jun  : 7\n",
      "Number animes in Jul  : 63\n",
      "Number animes in Aug  : 24\n",
      "Number animes in Sep  : 27\n",
      "Number animes in Oct  : 106\n",
      "Number animes in Nov  : 15\n",
      "Number animes in Dec  : 28\n"
     ]
    }
   ],
   "source": [
    "infoMonth = []\n",
    "# If not like this, its sorted alphabeticly[Apr-Sep]\n",
    "months = ['Jan', 'Feb', 'Mar', 'Apr', 'May', 'Jun', 'Jul', 'Aug','Sep','Oct', 'Nov', 'Dec']\n",
    "\n",
    "for month in months:\n",
    "    patternM = (month)\n",
    "    monthMask = data['AirDate'].str.contains(patternM)\n",
    "    anime_Month = (data[monthMask])\n",
    "\n",
    "    print('Number animes in', patternM,' :' ,len(anime_Month))\n",
    "    # print(strMonth)\n",
    "    infoMonth.append(anime_Month)   ## To find the dataframe acc. to month index\n",
    "\n",
    "# (list(multiPage.AirDate.groupby(multiPage.AirDate.dt.year)))\n"
   ]
  },
  {
   "attachments": {},
   "cell_type": "markdown",
   "metadata": {},
   "source": [
    "## Only TV shows"
   ]
  },
  {
   "attachments": {},
   "cell_type": "markdown",
   "metadata": {},
   "source": [
    "### Clean-up"
   ]
  },
  {
   "cell_type": "code",
   "execution_count": 6,
   "metadata": {},
   "outputs": [],
   "source": [
    "dataTV = data.loc[data.Type == 'TV'].copy()"
   ]
  },
  {
   "attachments": {},
   "cell_type": "markdown",
   "metadata": {},
   "source": [
    "Formatting"
   ]
  },
  {
   "cell_type": "code",
   "execution_count": 7,
   "metadata": {},
   "outputs": [],
   "source": [
    "cols_org = ['Rank', 'Title', 'Rating', 'Type', 'AirDate', 'EndDate', 'TotalEpi',\n",
    "       'Members', 'MAL Ref', 'Status', 'Premiered', 'Broadcast', 'Studio',\n",
    "       'Duration', 'Age Ratingn', 'Genres', 'Producer', 'Source']\n",
    "\n",
    "\n",
    "\n",
    "dataTV['AirDate_dt'] = pd.to_datetime(dataTV.AirDate, infer_datetime_format=True)\n",
    "dataTV['EndDate_dt'] = pd.to_datetime(dataTV.EndDate, infer_datetime_format=True)\n",
    "\n",
    "\n",
    "### ---Dropping unneeded coloms\n",
    "# dataTV = dataTV.drop(columns=['AirDate', 'EndDate'])\n",
    "\n",
    "## Reorganizing coloms\n",
    "dataTV = dataTV[['Rank', 'Title', 'Rating', 'Type', 'AirDate_dt', 'EndDate_dt', 'TotalEpi',\n",
    "                'Members', 'MAL Ref', 'Status', 'Premiered', 'Broadcast', 'Studio',\n",
    "                'Duration', 'Age Ratingn', 'Genres', 'Producer', 'Source']]\n",
    "\n"
   ]
  },
  {
   "cell_type": "code",
   "execution_count": 11,
   "metadata": {},
   "outputs": [],
   "source": [
    "# dataTV.info()"
   ]
  },
  {
   "attachments": {},
   "cell_type": "markdown",
   "metadata": {},
   "source": [
    "### Released Stas"
   ]
  },
  {
   "attachments": {},
   "cell_type": "markdown",
   "metadata": {},
   "source": [
    "#### Monthl released\n",
    "AirDates"
   ]
  },
  {
   "cell_type": "code",
   "execution_count": 798,
   "metadata": {},
   "outputs": [],
   "source": [
    "# dataTV.AirDate_dt.astype('datetime64[ns]')\n",
    "# dataTV.AirDate_dt.dt.month_name().value_counts().sort_index()"
   ]
  },
  {
   "cell_type": "code",
   "execution_count": 176,
   "metadata": {},
   "outputs": [
    {
     "name": "stdout",
     "output_type": "stream",
     "text": [
      "Number anmies in Jan : 61\n",
      "Number anmies in Feb : 1\n",
      "Number anmies in Mar : 1\n",
      "Number anmies in Apr : 88\n",
      "Number anmies in May : 2\n",
      "Number anmies in Jun : 3\n",
      "Number anmies in Jul : 43\n",
      "Number anmies in Aug : 2\n",
      "Number anmies in Sep : 1\n",
      "Number anmies in Oct : 92\n",
      "Number anmies in Nov : 2\n",
      "Number anmies in Dec : 4\n"
     ]
    },
    {
     "data": {
      "text/plain": [
       "<Axes: title={'center': 'Months the top 500 animes were released'}, xlabel='Months', ylabel='Counts'>"
      ]
     },
     "execution_count": 176,
     "metadata": {},
     "output_type": "execute_result"
    },
    {
     "data": {
      "image/png": "[encoded data removed]",
      "text/plain": [
       "<Figure size 1500x500 with 1 Axes>"
      ]
     },
     "metadata": {},
     "output_type": "display_data"
    }
   ],
   "source": [
    "monthCount = dataTV.AirDate_dt.dt.month.value_counts().sort_index()\n",
    "\n",
    "j=0\n",
    "for i in monthCount:\n",
    "    months = ['Jan', 'Feb', 'Mar', 'Apr', 'May', 'Jun', 'Jul', 'Aug','Sep','Oct', 'Nov', 'Dec']\n",
    "    print(f'Number anmies in {months[j]} : {i}')\n",
    "    j=j+1\n",
    "\n",
    "\n",
    "monthCount.plot(kind='bar',\n",
    "                xlabel='Months', \n",
    "                ylabel='Counts',\n",
    "            \n",
    "                title='Months the top 500 animes were released',\n",
    "                color = 'blue',\n",
    "                # rot=90 ##Rotate x value names,\n",
    "                figsize=(15,5)\n",
    "                  )\n",
    "\n",
    "# dataTV.AirDate_dt.dt.year.value_counts().sort_index()"
   ]
  },
  {
   "cell_type": "code",
   "execution_count": 222,
   "metadata": {},
   "outputs": [],
   "source": [
    "dataTV['Aired_months'] = dataTV.AirDate_dt.dt.month"
   ]
  },
  {
   "cell_type": "code",
   "execution_count": 304,
   "metadata": {},
   "outputs": [
    {
     "data": {
      "text/plain": [
       "<Axes: xlabel='Aired_months'>"
      ]
     },
     "execution_count": 304,
     "metadata": {},
     "output_type": "execute_result"
    },
    {
     "data": {
      "image/png": "[encoded data removed]",
      "text/plain": [
       "<Figure size 640x480 with 1 Axes>"
      ]
     },
     "metadata": {},
     "output_type": "display_data"
    }
   ],
   "source": [
    "dataTV.groupby('Aired_months')['Aired_months'].count().plot.bar()"
   ]
  },
  {
   "cell_type": "code",
   "execution_count": 175,
   "metadata": {},
   "outputs": [],
   "source": [
    "# py.plot(kind='bar',\n",
    "#         data_frame=monthCount      \n",
    "#         )"
   ]
  },
  {
   "attachments": {},
   "cell_type": "markdown",
   "metadata": {},
   "source": [
    "##### Can Delete This"
   ]
  },
  {
   "cell_type": "code",
   "execution_count": 17,
   "metadata": {},
   "outputs": [],
   "source": [
    "# months = ['Jan', 'Feb', 'Mar', 'Apr', 'May', 'Jun', 'Jul', 'Aug','Sep','Oct', 'Nov', 'Dec']\n",
    "\n",
    "# monthsCounts = dataTV.AirDate.str.split(' ').str[0].value_counts()\n",
    "\n",
    "# for i in months:\n",
    "#     print(f'Number anmies in {i} : {monthsCounts[i]}')\n",
    "\n",
    "\n",
    "# #--------------------\n",
    "\n",
    "# monthsCounts[months].plot(kind='bar',\n",
    "#                           xlabel='Months', \n",
    "#                           ylabel='Counts',\n",
    "#                           title='Months the top 500 animes were released',\n",
    "#                           color = 'blue',\n",
    "#                         # rot=90 ##Rotate x value names,\n",
    "#                         figsize=(15,5)\n",
    "#                           )\n"
   ]
  },
  {
   "attachments": {},
   "cell_type": "markdown",
   "metadata": {},
   "source": [
    "As we can see from the graph and and printed data, most top animes was released in year quaters."
   ]
  },
  {
   "attachments": {},
   "cell_type": "markdown",
   "metadata": {},
   "source": [
    "#### Yearly released for decade\n",
    "\n",
    "Decades devide for each release\n",
    "\n",
    "<!-- <br> - decades_data = dataTV.groupby((dataTV.AirDate_dt.dt.year//10)*10) -->\n"
   ]
  },
  {
   "cell_type": "code",
   "execution_count": 14,
   "metadata": {},
   "outputs": [
    {
     "data": {
      "text/plain": [
       "Text(0.5, 1.0, 'Top TV released per decade')"
      ]
     },
     "execution_count": 14,
     "metadata": {},
     "output_type": "execute_result"
    },
    {
     "data": {
      "image/png": "[encoded data removed]",
      "text/plain": [
       "<Figure size 640x480 with 1 Axes>"
      ]
     },
     "metadata": {},
     "output_type": "display_data"
    }
   ],
   "source": [
    "decade = (dataTV.groupby(dataTV.AirDate_dt.dt.year//10)).count()\n",
    "decade.index.name ='decades'\n",
    "\n",
    "decade = decade.reset_index().assign(decades=decade.index*10).rename(columns={'AirDate_dt':'counts'})\n",
    "decade = decade.rename(columns={'AirDate_dt':'Counts'})\n",
    "\n",
    "# decade\n",
    "\n",
    "ax =  decade.plot.bar(x='decades', \n",
    "                      y='counts',\n",
    "                      grid = False\n",
    "                    )\n",
    "ax.set_ylabel('Counts')\n",
    "ax.set_title('Top TV released per decade')"
   ]
  },
  {
   "cell_type": "code",
   "execution_count": 10,
   "metadata": {},
   "outputs": [
    {
     "data": {
      "text/html": [
       "<div>\n",
       "<style scoped>\n",
       "    .dataframe tbody tr th:only-of-type {\n",
       "        vertical-align: middle;\n",
       "    }\n",
       "\n",
       "    .dataframe tbody tr th {\n",
       "        vertical-align: top;\n",
       "    }\n",
       "\n",
       "    .dataframe thead th {\n",
       "        text-align: right;\n",
       "    }\n",
       "</style>\n",
       "<table border=\"1\" class=\"dataframe\">\n",
       "  <thead>\n",
       "    <tr style=\"text-align: right;\">\n",
       "      <th></th>\n",
       "      <th>decades</th>\n",
       "      <th>Rank</th>\n",
       "      <th>Title</th>\n",
       "      <th>Rating</th>\n",
       "      <th>Type</th>\n",
       "      <th>counts</th>\n",
       "      <th>EndDate_dt</th>\n",
       "      <th>TotalEpi</th>\n",
       "      <th>Members</th>\n",
       "      <th>MAL Ref</th>\n",
       "      <th>Status</th>\n",
       "      <th>Premiered</th>\n",
       "      <th>Broadcast</th>\n",
       "      <th>Studio</th>\n",
       "      <th>Duration</th>\n",
       "      <th>Age Ratingn</th>\n",
       "      <th>Genres</th>\n",
       "      <th>Producer</th>\n",
       "      <th>Source</th>\n",
       "    </tr>\n",
       "  </thead>\n",
       "  <tbody>\n",
       "    <tr>\n",
       "      <th>0</th>\n",
       "      <td>1970</td>\n",
       "      <td>3</td>\n",
       "      <td>3</td>\n",
       "      <td>3</td>\n",
       "      <td>3</td>\n",
       "      <td>3</td>\n",
       "      <td>3</td>\n",
       "      <td>3</td>\n",
       "      <td>3</td>\n",
       "      <td>3</td>\n",
       "      <td>3</td>\n",
       "      <td>3</td>\n",
       "      <td>3</td>\n",
       "      <td>3</td>\n",
       "      <td>3</td>\n",
       "      <td>3</td>\n",
       "      <td>3</td>\n",
       "      <td>3</td>\n",
       "      <td>3</td>\n",
       "    </tr>\n",
       "    <tr>\n",
       "      <th>1</th>\n",
       "      <td>1980</td>\n",
       "      <td>3</td>\n",
       "      <td>3</td>\n",
       "      <td>3</td>\n",
       "      <td>3</td>\n",
       "      <td>3</td>\n",
       "      <td>3</td>\n",
       "      <td>3</td>\n",
       "      <td>3</td>\n",
       "      <td>3</td>\n",
       "      <td>3</td>\n",
       "      <td>3</td>\n",
       "      <td>3</td>\n",
       "      <td>3</td>\n",
       "      <td>3</td>\n",
       "      <td>3</td>\n",
       "      <td>3</td>\n",
       "      <td>3</td>\n",
       "      <td>3</td>\n",
       "    </tr>\n",
       "    <tr>\n",
       "      <th>2</th>\n",
       "      <td>1990</td>\n",
       "      <td>18</td>\n",
       "      <td>18</td>\n",
       "      <td>18</td>\n",
       "      <td>18</td>\n",
       "      <td>18</td>\n",
       "      <td>16</td>\n",
       "      <td>18</td>\n",
       "      <td>18</td>\n",
       "      <td>18</td>\n",
       "      <td>18</td>\n",
       "      <td>18</td>\n",
       "      <td>18</td>\n",
       "      <td>18</td>\n",
       "      <td>18</td>\n",
       "      <td>18</td>\n",
       "      <td>18</td>\n",
       "      <td>18</td>\n",
       "      <td>18</td>\n",
       "    </tr>\n",
       "    <tr>\n",
       "      <th>3</th>\n",
       "      <td>2000</td>\n",
       "      <td>59</td>\n",
       "      <td>59</td>\n",
       "      <td>59</td>\n",
       "      <td>59</td>\n",
       "      <td>59</td>\n",
       "      <td>59</td>\n",
       "      <td>59</td>\n",
       "      <td>59</td>\n",
       "      <td>59</td>\n",
       "      <td>59</td>\n",
       "      <td>59</td>\n",
       "      <td>59</td>\n",
       "      <td>59</td>\n",
       "      <td>59</td>\n",
       "      <td>59</td>\n",
       "      <td>59</td>\n",
       "      <td>59</td>\n",
       "      <td>59</td>\n",
       "    </tr>\n",
       "    <tr>\n",
       "      <th>4</th>\n",
       "      <td>2010</td>\n",
       "      <td>147</td>\n",
       "      <td>147</td>\n",
       "      <td>147</td>\n",
       "      <td>147</td>\n",
       "      <td>147</td>\n",
       "      <td>147</td>\n",
       "      <td>147</td>\n",
       "      <td>147</td>\n",
       "      <td>147</td>\n",
       "      <td>147</td>\n",
       "      <td>147</td>\n",
       "      <td>147</td>\n",
       "      <td>147</td>\n",
       "      <td>147</td>\n",
       "      <td>147</td>\n",
       "      <td>147</td>\n",
       "      <td>147</td>\n",
       "      <td>147</td>\n",
       "    </tr>\n",
       "    <tr>\n",
       "      <th>5</th>\n",
       "      <td>2020</td>\n",
       "      <td>70</td>\n",
       "      <td>70</td>\n",
       "      <td>70</td>\n",
       "      <td>70</td>\n",
       "      <td>70</td>\n",
       "      <td>66</td>\n",
       "      <td>70</td>\n",
       "      <td>70</td>\n",
       "      <td>70</td>\n",
       "      <td>70</td>\n",
       "      <td>70</td>\n",
       "      <td>70</td>\n",
       "      <td>70</td>\n",
       "      <td>70</td>\n",
       "      <td>70</td>\n",
       "      <td>70</td>\n",
       "      <td>70</td>\n",
       "      <td>70</td>\n",
       "    </tr>\n",
       "  </tbody>\n",
       "</table>\n",
       "</div>"
      ],
      "text/plain": [
       "   decades  Rank  Title  Rating  Type  counts  EndDate_dt  TotalEpi  Members  \\\n",
       "0     1970     3      3       3     3       3           3         3        3   \n",
       "1     1980     3      3       3     3       3           3         3        3   \n",
       "2     1990    18     18      18    18      18          16        18       18   \n",
       "3     2000    59     59      59    59      59          59        59       59   \n",
       "4     2010   147    147     147   147     147         147       147      147   \n",
       "5     2020    70     70      70    70      70          66        70       70   \n",
       "\n",
       "   MAL Ref  Status  Premiered  Broadcast  Studio  Duration  Age Ratingn  \\\n",
       "0        3       3          3          3       3         3            3   \n",
       "1        3       3          3          3       3         3            3   \n",
       "2       18      18         18         18      18        18           18   \n",
       "3       59      59         59         59      59        59           59   \n",
       "4      147     147        147        147     147       147          147   \n",
       "5       70      70         70         70      70        70           70   \n",
       "\n",
       "   Genres  Producer  Source  \n",
       "0       3         3       3  \n",
       "1       3         3       3  \n",
       "2      18        18      18  \n",
       "3      59        59      59  \n",
       "4     147       147     147  \n",
       "5      70        70      70  "
      ]
     },
     "execution_count": 10,
     "metadata": {},
     "output_type": "execute_result"
    }
   ],
   "source": [
    "decade"
   ]
  },
  {
   "attachments": {},
   "cell_type": "markdown",
   "metadata": {},
   "source": [
    "#### Seasonly released\n",
    "\n",
    "Premiered"
   ]
  },
  {
   "cell_type": "code",
   "execution_count": 47,
   "metadata": {},
   "outputs": [],
   "source": [
    "dataTV['Premiered_Season'] =dataTV.Premiered.str.split(' ').str[0]"
   ]
  },
  {
   "cell_type": "code",
   "execution_count": 110,
   "metadata": {},
   "outputs": [
    {
     "data": {
      "text/plain": [
       "Text(0.5, 1.0, 'Seasonly Releases')"
      ]
     },
     "execution_count": 110,
     "metadata": {},
     "output_type": "execute_result"
    },
    {
     "data": {
      "image/png": "[encoded data removed]",
      "text/plain": [
       "<Figure size 640x480 with 1 Axes>"
      ]
     },
     "metadata": {},
     "output_type": "display_data"
    }
   ],
   "source": [
    "seasonGroup = dataTV.groupby('Premiered_Season')\n",
    "season_count = seasonGroup['Premiered_Season'].count()\n",
    "\n",
    "season_count = season_count.reindex(['Spring', 'Summer', 'Fall', 'Winter'])\n",
    "\n",
    "ax = season_count.plot.bar()\n",
    "ax.set_title('Seasonly Releases')"
   ]
  },
  {
   "attachments": {},
   "cell_type": "markdown",
   "metadata": {},
   "source": [
    "##### Other Season Count graph\n"
   ]
  },
  {
   "cell_type": "code",
   "execution_count": 305,
   "metadata": {},
   "outputs": [],
   "source": [
    "# ### USE THIS WAY FROM NOW\n",
    "\n",
    "# seasonsNew = dataTV.Premiered.str.split(' ').str[0].value_counts()\n",
    "\n",
    "# print('Number animes in Fall:   ', seasonsNew[0])\n",
    "# print('Number animes in Spring: ', seasonsNew[1])\n",
    "# print('Number animes in Winter: ', seasonsNew[2])\n",
    "# print('Number animes in Summer: ', seasonsNew[3])\n",
    "\n",
    "\n",
    "# plt.barh(['Spring', 'Summer', 'Fall', 'Winter'], seasonsNew)\n",
    "# plt.title('Amount of top animes for each Season')\n",
    "# plt.ylabel('Total top animes released')"
   ]
  },
  {
   "cell_type": "code",
   "execution_count": 59,
   "metadata": {},
   "outputs": [],
   "source": [
    "grouped = dataTV.groupby(['Premiered_Season', 'Broadcast'])\n",
    "\n",
    "# grouped.count()"
   ]
  },
  {
   "attachments": {},
   "cell_type": "markdown",
   "metadata": {},
   "source": [
    "### Ratings Stats"
   ]
  },
  {
   "attachments": {},
   "cell_type": "markdown",
   "metadata": {},
   "source": [
    "##### Seasonal Rating"
   ]
  },
  {
   "cell_type": "code",
   "execution_count": 289,
   "metadata": {},
   "outputs": [
    {
     "data": {
      "text/plain": [
       "Text(0.5, 0, 'Rating avr')"
      ]
     },
     "execution_count": 289,
     "metadata": {},
     "output_type": "execute_result"
    },
    {
     "data": {
      "image/png": "[encoded data removed]",
      "text/plain": [
       "<Figure size 640x480 with 1 Axes>"
      ]
     },
     "metadata": {},
     "output_type": "display_data"
    }
   ],
   "source": [
    "seasonal_rating = dataTV.groupby('Premiered_Season')['Rating']\n",
    "\n",
    "seasonal_rating_avr = seasonal_rating.mean().round(2)\n",
    "\n",
    "ax = seasonal_rating_avr.plot.barh()\n",
    "ax.set_xlim(7,9)\n",
    "ax.set_title('Average ratings per Season')\n",
    "ax.set_ylabel(None)\n",
    "ax.set_xlabel('Rating avr')\n"
   ]
  },
  {
   "attachments": {},
   "cell_type": "markdown",
   "metadata": {},
   "source": [
    "##### Monthly Ratings"
   ]
  },
  {
   "cell_type": "code",
   "execution_count": 290,
   "metadata": {},
   "outputs": [
    {
     "data": {
      "image/png": "[encoded data removed]",
      "text/plain": [
       "<Figure size 640x480 with 1 Axes>"
      ]
     },
     "metadata": {},
     "output_type": "display_data"
    }
   ],
   "source": [
    "month_rating = dataTV.groupby('Aired_months')['Rating']\n",
    "month_rating_mean = month_rating.mean()\n",
    "\n",
    "\n",
    "# Creating and modifing plot\n",
    "ax = month_rating_mean.plot.bar()\n",
    "ax.set_xlabel(months)\n",
    "ax.set_ylim(7,9)\n",
    "\n",
    "\n",
    "month_rating_mean = month_rating_mean.reset_index()\n"
   ]
  },
  {
   "cell_type": "code",
   "execution_count": 288,
   "metadata": {},
   "outputs": [],
   "source": [
    "# month_rating_mean.Aired_months\n",
    "\n",
    "# month_rating_mean"
   ]
  },
  {
   "cell_type": "code",
   "execution_count": 300,
   "metadata": {},
   "outputs": [
    {
     "data": {
      "text/plain": [
       "290    8.25\n",
       "Name: Rating, dtype: float64"
      ]
     },
     "execution_count": 300,
     "metadata": {},
     "output_type": "execute_result"
    }
   ],
   "source": [
    "month_rating.get_group(2)"
   ]
  },
  {
   "attachments": {},
   "cell_type": "markdown",
   "metadata": {},
   "source": [
    "#### Yearly ratings"
   ]
  },
  {
   "cell_type": "code",
   "execution_count": 332,
   "metadata": {},
   "outputs": [
    {
     "data": {
      "text/plain": [
       "(7.0, 10.0)"
      ]
     },
     "execution_count": 332,
     "metadata": {},
     "output_type": "execute_result"
    },
    {
     "data": {
      "image/png": "[encoded data removed]",
      "text/plain": [
       "<Figure size 640x480 with 1 Axes>"
      ]
     },
     "metadata": {},
     "output_type": "display_data"
    }
   ],
   "source": [
    "decades_data = dataTV.groupby((dataTV.AirDate_dt.dt.year//10)*10)\n",
    "\n",
    "ax = decades_data['Rating'].mean().plot.barh()\n",
    "ax.set_xlim(7,10)\n"
   ]
  },
  {
   "cell_type": "code",
   "execution_count": null,
   "metadata": {},
   "outputs": [],
   "source": [
    "# dataTV.groupby(da)"
   ]
  },
  {
   "cell_type": "code",
   "execution_count": null,
   "metadata": {},
   "outputs": [],
   "source": [
    "decade"
   ]
  },
  {
   "attachments": {},
   "cell_type": "markdown",
   "metadata": {},
   "source": [
    "### Broadcasts Stats"
   ]
  },
  {
   "cell_type": "code",
   "execution_count": 46,
   "metadata": {},
   "outputs": [
    {
     "data": {
      "text/plain": [
       "0       Sunday\n",
       "1      Tuesday\n",
       "2    Wednesday\n",
       "3    Wednesday\n",
       "4     Saturday\n",
       "Name: Broadcast, dtype: object"
      ]
     },
     "execution_count": 46,
     "metadata": {},
     "output_type": "execute_result"
    }
   ],
   "source": [
    "newDay = (dataTV.Broadcast[:5]).str[:-1]\n",
    "\n",
    "# pd.to_datetime(newDay, infer_datetime_format=True)\n",
    "\n",
    "newDay"
   ]
  },
  {
   "cell_type": "code",
   "execution_count": 85,
   "metadata": {},
   "outputs": [],
   "source": [
    "broadcast_group = dataTV.groupby(dataTV.Broadcast)"
   ]
  },
  {
   "attachments": {},
   "cell_type": "markdown",
   "metadata": {},
   "source": [
    "#### Wekkly released counts"
   ]
  },
  {
   "cell_type": "code",
   "execution_count": 108,
   "metadata": {},
   "outputs": [],
   "source": [
    "## Each weekday count\n",
    "broadcast_count = broadcast_group['Broadcast'].count()\n",
    "\n",
    "#Drop elements\n",
    "broadcast_count = broadcast_count.drop(['Not scheduled once per week\\n', 'Unknown\\n'])\n",
    "\n",
    "# Reorder elements\n",
    "broadcast_count = broadcast_count.reindex(['Mondays', 'Tuesdays', 'Wednesdays', 'Thursdays', 'Fridays', 'Saturdays', 'Sundays'])"
   ]
  },
  {
   "cell_type": "code",
   "execution_count": 109,
   "metadata": {},
   "outputs": [
    {
     "data": {
      "image/png": "[encoded data removed]",
      "text/plain": [
       "<Figure size 640x480 with 1 Axes>"
      ]
     },
     "metadata": {},
     "output_type": "display_data"
    }
   ],
   "source": [
    "ax = broadcast_count.plot.bar()"
   ]
  },
  {
   "attachments": {},
   "cell_type": "markdown",
   "metadata": {},
   "source": [
    "#### Seasonly"
   ]
  },
  {
   "cell_type": "code",
   "execution_count": 101,
   "metadata": {},
   "outputs": [
    {
     "data": {
      "text/html": [
       "<div>\n",
       "<style scoped>\n",
       "    .dataframe tbody tr th:only-of-type {\n",
       "        vertical-align: middle;\n",
       "    }\n",
       "\n",
       "    .dataframe tbody tr th {\n",
       "        vertical-align: top;\n",
       "    }\n",
       "\n",
       "    .dataframe thead th {\n",
       "        text-align: right;\n",
       "    }\n",
       "</style>\n",
       "<table border=\"1\" class=\"dataframe\">\n",
       "  <thead>\n",
       "    <tr style=\"text-align: right;\">\n",
       "      <th></th>\n",
       "      <th>count</th>\n",
       "      <th>unique</th>\n",
       "      <th>top</th>\n",
       "      <th>freq</th>\n",
       "    </tr>\n",
       "    <tr>\n",
       "      <th>Broadcast</th>\n",
       "      <th></th>\n",
       "      <th></th>\n",
       "      <th></th>\n",
       "      <th></th>\n",
       "    </tr>\n",
       "  </thead>\n",
       "  <tbody>\n",
       "    <tr>\n",
       "      <th>Fridays</th>\n",
       "      <td>44</td>\n",
       "      <td>4</td>\n",
       "      <td>Summer</td>\n",
       "      <td>15</td>\n",
       "    </tr>\n",
       "    <tr>\n",
       "      <th>Mondays</th>\n",
       "      <td>30</td>\n",
       "      <td>4</td>\n",
       "      <td>Winter</td>\n",
       "      <td>10</td>\n",
       "    </tr>\n",
       "    <tr>\n",
       "      <th>Not scheduled once per week\\n</th>\n",
       "      <td>2</td>\n",
       "      <td>1</td>\n",
       "      <td>Summer</td>\n",
       "      <td>2</td>\n",
       "    </tr>\n",
       "    <tr>\n",
       "      <th>Saturdays</th>\n",
       "      <td>48</td>\n",
       "      <td>4</td>\n",
       "      <td>Fall</td>\n",
       "      <td>18</td>\n",
       "    </tr>\n",
       "    <tr>\n",
       "      <th>Sundays</th>\n",
       "      <td>53</td>\n",
       "      <td>4</td>\n",
       "      <td>Fall</td>\n",
       "      <td>22</td>\n",
       "    </tr>\n",
       "    <tr>\n",
       "      <th>Thursdays</th>\n",
       "      <td>24</td>\n",
       "      <td>4</td>\n",
       "      <td>Fall</td>\n",
       "      <td>8</td>\n",
       "    </tr>\n",
       "    <tr>\n",
       "      <th>Tuesdays</th>\n",
       "      <td>34</td>\n",
       "      <td>4</td>\n",
       "      <td>Spring</td>\n",
       "      <td>10</td>\n",
       "    </tr>\n",
       "    <tr>\n",
       "      <th>Unknown\\n</th>\n",
       "      <td>29</td>\n",
       "      <td>4</td>\n",
       "      <td>Fall</td>\n",
       "      <td>11</td>\n",
       "    </tr>\n",
       "    <tr>\n",
       "      <th>Wednesdays</th>\n",
       "      <td>36</td>\n",
       "      <td>4</td>\n",
       "      <td>Spring</td>\n",
       "      <td>14</td>\n",
       "    </tr>\n",
       "  </tbody>\n",
       "</table>\n",
       "</div>"
      ],
      "text/plain": [
       "                              count unique     top freq\n",
       "Broadcast                                              \n",
       "Fridays                          44      4  Summer   15\n",
       "Mondays                          30      4  Winter   10\n",
       "Not scheduled once per week\\n     2      1  Summer    2\n",
       "Saturdays                        48      4    Fall   18\n",
       "Sundays                          53      4    Fall   22\n",
       "Thursdays                        24      4    Fall    8\n",
       "Tuesdays                         34      4  Spring   10\n",
       "Unknown\\n                        29      4    Fall   11\n",
       "Wednesdays                       36      4  Spring   14"
      ]
     },
     "execution_count": 101,
     "metadata": {},
     "output_type": "execute_result"
    }
   ],
   "source": [
    "broadcast_group['Premiered_Season'].describe()"
   ]
  },
  {
   "cell_type": "code",
   "execution_count": 19,
   "metadata": {},
   "outputs": [
    {
     "data": {
      "text/plain": [
       "Sundays                          53\n",
       "Saturdays                        48\n",
       "Fridays                          44\n",
       "Wednesdays                       36\n",
       "Tuesdays                         34\n",
       "Mondays                          30\n",
       "Unknown\\n                        29\n",
       "Thursdays                        24\n",
       "Not scheduled once per week\\n     2\n",
       "Name: Broadcast, dtype: int64"
      ]
     },
     "execution_count": 19,
     "metadata": {},
     "output_type": "execute_result"
    }
   ],
   "source": [
    "## Airing Days\n",
    "\n",
    "dataTV.Broadcast.value_counts()"
   ]
  },
  {
   "attachments": {},
   "cell_type": "markdown",
   "metadata": {},
   "source": [
    "### Studios Stats"
   ]
  },
  {
   "cell_type": "code",
   "execution_count": 585,
   "metadata": {},
   "outputs": [
    {
     "data": {
      "text/plain": [
       "Madhouse                    27\n",
       "Production I.G              22\n",
       "J.C.Staff                   16\n",
       "Bones                       15\n",
       "A-1 Pictures                15\n",
       "Sunrise                     13\n",
       "Wit Studio                  10\n",
       "Brain's Base                10\n",
       "Pierrot                      9\n",
       "TMS Entertainment            9\n",
       "Shaft                        9\n",
       "Kyoto Animation              7\n",
       "ufotable                     7\n",
       "MAPPA                        7\n",
       "White Fox                    7\n",
       "Studio Deen                  7\n",
       "SynergySP                    6\n",
       "Lerche                       6\n",
       "Bandai Namco Pictures        6\n",
       "Toei Animation               5\n",
       "CloverWorks                  5\n",
       "David Production             4\n",
       "feel.                        4\n",
       "Hal Film Maker               4\n",
       "OLM                          4\n",
       "Artland                      4\n",
       "8bit                         4\n",
       "P.A. Works                   4\n",
       "Studio Hibari                3\n",
       "TROYCA                       3\n",
       "Kinema Citrus                3\n",
       "Nippon Animation             3\n",
       "A.C.G.T.                     2\n",
       "Gonzo                        2\n",
       "Ajia-do                      2\n",
       "Gallop                       2\n",
       "SILVER LINK.                 2\n",
       "Tezuka Productions           2\n",
       "Tokyo Movie Shinsha          2\n",
       "Shuka                        2\n",
       "Studio Bind                  2\n",
       "Shin-Ei Animation            2\n",
       "Geno Studio                  2\n",
       "C-Station                    2\n",
       "Tatsunoko Production         2\n",
       "Gainax                       2\n",
       "Telescreen                   1\n",
       "Bibury Animation Studios     1\n",
       "Science SARU                 1\n",
       "Telecom Animation Film       1\n",
       "Pastel                       1\n",
       "Satelight                    1\n",
       "Orange                       1\n",
       "Imagin                       1\n",
       "Zero-G                       1\n",
       "Mushi Production             1\n",
       "Manglobe                     1\n",
       "Platinum Vision              1\n",
       "Nexus                        1\n",
       "Triangle Staff               1\n",
       "Name: Studio, dtype: int64"
      ]
     },
     "execution_count": 585,
     "metadata": {},
     "output_type": "execute_result"
    }
   ],
   "source": [
    "dataTV.Studio.value_counts()"
   ]
  },
  {
   "attachments": {},
   "cell_type": "markdown",
   "metadata": {},
   "source": [
    "### Age Ratings"
   ]
  },
  {
   "cell_type": "code",
   "execution_count": 452,
   "metadata": {},
   "outputs": [
    {
     "data": {
      "text/plain": [
       "Text(0.5, 1.0, 'Age Rating Counts')"
      ]
     },
     "execution_count": 452,
     "metadata": {},
     "output_type": "execute_result"
    },
    {
     "data": {
      "image/png": "[encoded data removed]",
      "text/plain": [
       "<Figure size 640x480 with 1 Axes>"
      ]
     },
     "metadata": {},
     "output_type": "display_data"
    }
   ],
   "source": [
    "dataTV['Age Ratingn'].value_counts().plot.bar()\n",
    "\n",
    "plt.title('Age Rating Counts')\n",
    "# plt.grid()"
   ]
  },
  {
   "cell_type": "code",
   "execution_count": 942,
   "metadata": {},
   "outputs": [
    {
     "data": {
      "text/plain": [
       "PG-13    194\n",
       "R         96\n",
       "R+         6\n",
       "G          3\n",
       "PG         1\n",
       "Name: Age Ratingn, dtype: int64"
      ]
     },
     "execution_count": 942,
     "metadata": {},
     "output_type": "execute_result"
    }
   ],
   "source": [
    "dataTV['Age Ratingn'].value_counts()"
   ]
  },
  {
   "cell_type": "code",
   "execution_count": 957,
   "metadata": {},
   "outputs": [
    {
     "data": {
      "text/html": [
       "<div>\n",
       "<style scoped>\n",
       "    .dataframe tbody tr th:only-of-type {\n",
       "        vertical-align: middle;\n",
       "    }\n",
       "\n",
       "    .dataframe tbody tr th {\n",
       "        vertical-align: top;\n",
       "    }\n",
       "\n",
       "    .dataframe thead th {\n",
       "        text-align: right;\n",
       "    }\n",
       "</style>\n",
       "<table border=\"1\" class=\"dataframe\">\n",
       "  <thead>\n",
       "    <tr style=\"text-align: right;\">\n",
       "      <th></th>\n",
       "      <th>Rank</th>\n",
       "      <th>Title</th>\n",
       "      <th>Rating</th>\n",
       "      <th>Type</th>\n",
       "      <th>AirDate_dt</th>\n",
       "      <th>EndDate</th>\n",
       "      <th>TotalEpi</th>\n",
       "      <th>Members</th>\n",
       "      <th>MAL Ref</th>\n",
       "      <th>Status</th>\n",
       "      <th>Premiered</th>\n",
       "      <th>Broadcast</th>\n",
       "      <th>Studio</th>\n",
       "      <th>Duration</th>\n",
       "      <th>Genres</th>\n",
       "      <th>Producer</th>\n",
       "      <th>Source</th>\n",
       "      <th>Premiered_Season</th>\n",
       "    </tr>\n",
       "    <tr>\n",
       "      <th>Age Ratingn</th>\n",
       "      <th></th>\n",
       "      <th></th>\n",
       "      <th></th>\n",
       "      <th></th>\n",
       "      <th></th>\n",
       "      <th></th>\n",
       "      <th></th>\n",
       "      <th></th>\n",
       "      <th></th>\n",
       "      <th></th>\n",
       "      <th></th>\n",
       "      <th></th>\n",
       "      <th></th>\n",
       "      <th></th>\n",
       "      <th></th>\n",
       "      <th></th>\n",
       "      <th></th>\n",
       "      <th></th>\n",
       "    </tr>\n",
       "  </thead>\n",
       "  <tbody>\n",
       "    <tr>\n",
       "      <th>G</th>\n",
       "      <td>3</td>\n",
       "      <td>3</td>\n",
       "      <td>3</td>\n",
       "      <td>3</td>\n",
       "      <td>3</td>\n",
       "      <td>3</td>\n",
       "      <td>3</td>\n",
       "      <td>3</td>\n",
       "      <td>3</td>\n",
       "      <td>3</td>\n",
       "      <td>3</td>\n",
       "      <td>3</td>\n",
       "      <td>3</td>\n",
       "      <td>3</td>\n",
       "      <td>3</td>\n",
       "      <td>3</td>\n",
       "      <td>3</td>\n",
       "      <td>3</td>\n",
       "    </tr>\n",
       "    <tr>\n",
       "      <th>PG</th>\n",
       "      <td>1</td>\n",
       "      <td>1</td>\n",
       "      <td>1</td>\n",
       "      <td>1</td>\n",
       "      <td>1</td>\n",
       "      <td>1</td>\n",
       "      <td>1</td>\n",
       "      <td>1</td>\n",
       "      <td>1</td>\n",
       "      <td>1</td>\n",
       "      <td>1</td>\n",
       "      <td>1</td>\n",
       "      <td>1</td>\n",
       "      <td>1</td>\n",
       "      <td>1</td>\n",
       "      <td>1</td>\n",
       "      <td>1</td>\n",
       "      <td>1</td>\n",
       "    </tr>\n",
       "    <tr>\n",
       "      <th>PG-13</th>\n",
       "      <td>194</td>\n",
       "      <td>194</td>\n",
       "      <td>194</td>\n",
       "      <td>194</td>\n",
       "      <td>194</td>\n",
       "      <td>190</td>\n",
       "      <td>194</td>\n",
       "      <td>194</td>\n",
       "      <td>194</td>\n",
       "      <td>194</td>\n",
       "      <td>194</td>\n",
       "      <td>194</td>\n",
       "      <td>194</td>\n",
       "      <td>194</td>\n",
       "      <td>194</td>\n",
       "      <td>194</td>\n",
       "      <td>194</td>\n",
       "      <td>194</td>\n",
       "    </tr>\n",
       "    <tr>\n",
       "      <th>R</th>\n",
       "      <td>96</td>\n",
       "      <td>96</td>\n",
       "      <td>96</td>\n",
       "      <td>96</td>\n",
       "      <td>96</td>\n",
       "      <td>94</td>\n",
       "      <td>96</td>\n",
       "      <td>96</td>\n",
       "      <td>96</td>\n",
       "      <td>96</td>\n",
       "      <td>96</td>\n",
       "      <td>96</td>\n",
       "      <td>96</td>\n",
       "      <td>96</td>\n",
       "      <td>96</td>\n",
       "      <td>96</td>\n",
       "      <td>96</td>\n",
       "      <td>96</td>\n",
       "    </tr>\n",
       "    <tr>\n",
       "      <th>R+</th>\n",
       "      <td>6</td>\n",
       "      <td>6</td>\n",
       "      <td>6</td>\n",
       "      <td>6</td>\n",
       "      <td>6</td>\n",
       "      <td>6</td>\n",
       "      <td>6</td>\n",
       "      <td>6</td>\n",
       "      <td>6</td>\n",
       "      <td>6</td>\n",
       "      <td>6</td>\n",
       "      <td>6</td>\n",
       "      <td>6</td>\n",
       "      <td>6</td>\n",
       "      <td>6</td>\n",
       "      <td>6</td>\n",
       "      <td>6</td>\n",
       "      <td>6</td>\n",
       "    </tr>\n",
       "  </tbody>\n",
       "</table>\n",
       "</div>"
      ],
      "text/plain": [
       "             Rank  Title  Rating  Type  AirDate_dt  EndDate  TotalEpi  \\\n",
       "Age Ratingn                                                             \n",
       "G               3      3       3     3           3        3         3   \n",
       "PG              1      1       1     1           1        1         1   \n",
       "PG-13         194    194     194   194         194      190       194   \n",
       "R              96     96      96    96          96       94        96   \n",
       "R+              6      6       6     6           6        6         6   \n",
       "\n",
       "             Members  MAL Ref  Status  Premiered  Broadcast  Studio  Duration  \\\n",
       "Age Ratingn                                                                     \n",
       "G                  3        3       3          3          3       3         3   \n",
       "PG                 1        1       1          1          1       1         1   \n",
       "PG-13            194      194     194        194        194     194       194   \n",
       "R                 96       96      96         96         96      96        96   \n",
       "R+                 6        6       6          6          6       6         6   \n",
       "\n",
       "             Genres  Producer  Source  Premiered_Season  \n",
       "Age Ratingn                                              \n",
       "G                 3         3       3                 3  \n",
       "PG                1         1       1                 1  \n",
       "PG-13           194       194     194               194  \n",
       "R                96        96      96                96  \n",
       "R+                6         6       6                 6  "
      ]
     },
     "execution_count": 957,
     "metadata": {},
     "output_type": "execute_result"
    }
   ],
   "source": [
    "dataTV.groupby('Age Ratingn').count()\n"
   ]
  },
  {
   "cell_type": "code",
   "execution_count": null,
   "metadata": {},
   "outputs": [],
   "source": []
  },
  {
   "attachments": {},
   "cell_type": "markdown",
   "metadata": {},
   "source": [
    "### Generes\n",
    "\n",
    "Fix after running other code again"
   ]
  },
  {
   "cell_type": "code",
   "execution_count": null,
   "metadata": {},
   "outputs": [
    {
     "data": {
      "text/plain": [
       "\"['Action', 'Action', 'Drama', 'Drama']\""
      ]
     },
     "metadata": {},
     "output_type": "display_data"
    }
   ],
   "source": [
    "dataTV.Genres[5]"
   ]
  },
  {
   "cell_type": "code",
   "execution_count": null,
   "metadata": {},
   "outputs": [
    {
     "data": {
      "text/plain": [
       "[\"['Action'\", \" 'Drama'\"]"
      ]
     },
     "metadata": {},
     "output_type": "display_data"
    }
   ],
   "source": [
    "dataTV.Genres[:].str.split(\",\")[5][::2]"
   ]
  },
  {
   "attachments": {},
   "cell_type": "markdown",
   "metadata": {},
   "source": [
    "### Producers"
   ]
  },
  {
   "cell_type": "code",
   "execution_count": 475,
   "metadata": {},
   "outputs": [
    {
     "data": {
      "text/plain": [
       "<Axes: >"
      ]
     },
     "execution_count": 475,
     "metadata": {},
     "output_type": "execute_result"
    },
    {
     "data": {
      "image/png": "[encoded data removed]",
      "text/plain": [
       "<Figure size 1500x500 with 1 Axes>"
      ]
     },
     "metadata": {},
     "output_type": "display_data"
    }
   ],
   "source": [
    "dataTV.Producer.value_counts()[:20].plot(kind='bar', figsize=(15,5), grid=True)"
   ]
  },
  {
   "attachments": {},
   "cell_type": "markdown",
   "metadata": {},
   "source": [
    "### Source"
   ]
  },
  {
   "cell_type": "code",
   "execution_count": 473,
   "metadata": {},
   "outputs": [
    {
     "data": {
      "text/plain": [
       "<Axes: >"
      ]
     },
     "execution_count": 473,
     "metadata": {},
     "output_type": "execute_result"
    },
    {
     "data": {
      "image/png": "[encoded data removed]",
      "text/plain": [
       "<Figure size 640x480 with 1 Axes>"
      ]
     },
     "metadata": {},
     "output_type": "display_data"
    }
   ],
   "source": [
    "dataTV.Source.value_counts().plot(kind='bar')"
   ]
  },
  {
   "attachments": {},
   "cell_type": "markdown",
   "metadata": {},
   "source": [
    "### Dunno Yet"
   ]
  },
  {
   "cell_type": "code",
   "execution_count": null,
   "metadata": {},
   "outputs": [],
   "source": []
  },
  {
   "cell_type": "code",
   "execution_count": null,
   "metadata": {},
   "outputs": [],
   "source": [
    "fig = plt.figure(figsize=(8,8))\n",
    "\n",
    "plt.matshow(corr)"
   ]
  },
  {
   "cell_type": "code",
   "execution_count": null,
   "metadata": {},
   "outputs": [],
   "source": []
  },
  {
   "cell_type": "code",
   "execution_count": null,
   "metadata": {},
   "outputs": [],
   "source": []
  },
  {
   "attachments": {},
   "cell_type": "markdown",
   "metadata": {},
   "source": [
    "## Only Movies"
   ]
  },
  {
   "cell_type": "code",
   "execution_count": 932,
   "metadata": {},
   "outputs": [
    {
     "data": {
      "text/html": [
       "<div>\n",
       "<style scoped>\n",
       "    .dataframe tbody tr th:only-of-type {\n",
       "        vertical-align: middle;\n",
       "    }\n",
       "\n",
       "    .dataframe tbody tr th {\n",
       "        vertical-align: top;\n",
       "    }\n",
       "\n",
       "    .dataframe thead th {\n",
       "        text-align: right;\n",
       "    }\n",
       "</style>\n",
       "<table border=\"1\" class=\"dataframe\">\n",
       "  <thead>\n",
       "    <tr style=\"text-align: right;\">\n",
       "      <th></th>\n",
       "      <th>Rank</th>\n",
       "      <th>Title</th>\n",
       "      <th>Rating</th>\n",
       "      <th>Type</th>\n",
       "      <th>AirDate</th>\n",
       "      <th>EndDate</th>\n",
       "      <th>TotalEpi</th>\n",
       "      <th>Members</th>\n",
       "      <th>MAL Ref</th>\n",
       "      <th>Status</th>\n",
       "      <th>Premiered</th>\n",
       "      <th>Broadcast</th>\n",
       "      <th>Studio</th>\n",
       "      <th>Duration</th>\n",
       "      <th>Age Ratingn</th>\n",
       "      <th>Genres</th>\n",
       "      <th>Producer</th>\n",
       "      <th>Source</th>\n",
       "    </tr>\n",
       "  </thead>\n",
       "  <tbody>\n",
       "    <tr>\n",
       "      <th>6</th>\n",
       "      <td>7</td>\n",
       "      <td>Gintama: The Final</td>\n",
       "      <td>9.05</td>\n",
       "      <td>Movie</td>\n",
       "      <td>Jan 2021</td>\n",
       "      <td>Jan 2021</td>\n",
       "      <td>1</td>\n",
       "      <td>124969</td>\n",
       "      <td>39486</td>\n",
       "      <td>Finished Airing</td>\n",
       "      <td>NaN</td>\n",
       "      <td>NaN</td>\n",
       "      <td>Bandai Namco Pictures</td>\n",
       "      <td>1 hr. 44 min</td>\n",
       "      <td>PG-13</td>\n",
       "      <td>['Action', 'Action', 'Comedy', 'Comedy', 'Dram...</td>\n",
       "      <td>TV Tokyo</td>\n",
       "      <td>Manga</td>\n",
       "    </tr>\n",
       "    <tr>\n",
       "      <th>13</th>\n",
       "      <td>14</td>\n",
       "      <td>Kaguya-sama wa Kokurasetai: First Kiss wa Owar...</td>\n",
       "      <td>8.97</td>\n",
       "      <td>Movie</td>\n",
       "      <td>Dec 2022</td>\n",
       "      <td>Dec 2022</td>\n",
       "      <td>1</td>\n",
       "      <td>94851</td>\n",
       "      <td>52198</td>\n",
       "      <td>Finished Airing</td>\n",
       "      <td>NaN</td>\n",
       "      <td>NaN</td>\n",
       "      <td>A-1 Pictures</td>\n",
       "      <td>1 hr. 36 min</td>\n",
       "      <td>PG-13</td>\n",
       "      <td>['Comedy', 'Comedy', 'Drama', 'Drama', 'Romanc...</td>\n",
       "      <td>Aniplex</td>\n",
       "      <td>Manga</td>\n",
       "    </tr>\n",
       "    <tr>\n",
       "      <th>17</th>\n",
       "      <td>18</td>\n",
       "      <td>Koe no Katachi</td>\n",
       "      <td>8.94</td>\n",
       "      <td>Movie</td>\n",
       "      <td>Sep 2016</td>\n",
       "      <td>Sep 2016</td>\n",
       "      <td>1</td>\n",
       "      <td>2132019</td>\n",
       "      <td>28851</td>\n",
       "      <td>Finished Airing</td>\n",
       "      <td>NaN</td>\n",
       "      <td>NaN</td>\n",
       "      <td>Kyoto Animation</td>\n",
       "      <td>2 hr. 10 min</td>\n",
       "      <td>PG-13</td>\n",
       "      <td>['Award Winning', 'Award Winning', 'Drama', 'D...</td>\n",
       "      <td>Shochiku</td>\n",
       "      <td>Manga</td>\n",
       "    </tr>\n",
       "    <tr>\n",
       "      <th>19</th>\n",
       "      <td>20</td>\n",
       "      <td>Gintama Movie 2: Kanketsu-hen - Yorozuya yo Ei...</td>\n",
       "      <td>8.92</td>\n",
       "      <td>Movie</td>\n",
       "      <td>Jul 2013</td>\n",
       "      <td>Jul 2013</td>\n",
       "      <td>1</td>\n",
       "      <td>224094</td>\n",
       "      <td>15335</td>\n",
       "      <td>Finished Airing</td>\n",
       "      <td>NaN</td>\n",
       "      <td>NaN</td>\n",
       "      <td>Sunrise</td>\n",
       "      <td>1 hr. 50 min</td>\n",
       "      <td>PG-13</td>\n",
       "      <td>['Action', 'Action', 'Comedy', 'Comedy', 'Sci-...</td>\n",
       "      <td>TV Tokyo</td>\n",
       "      <td>Manga</td>\n",
       "    </tr>\n",
       "    <tr>\n",
       "      <th>21</th>\n",
       "      <td>22</td>\n",
       "      <td>Violet Evergarden Movie</td>\n",
       "      <td>8.91</td>\n",
       "      <td>Movie</td>\n",
       "      <td>Sep 2020</td>\n",
       "      <td>Sep 2020</td>\n",
       "      <td>1</td>\n",
       "      <td>519260</td>\n",
       "      <td>37987</td>\n",
       "      <td>Finished Airing</td>\n",
       "      <td>NaN</td>\n",
       "      <td>NaN</td>\n",
       "      <td>Kyoto Animation</td>\n",
       "      <td>2 hr. 20 min</td>\n",
       "      <td>PG-13</td>\n",
       "      <td>['Award Winning', 'Award Winning', 'Drama', 'D...</td>\n",
       "      <td>Shochiku</td>\n",
       "      <td>Light novel</td>\n",
       "    </tr>\n",
       "    <tr>\n",
       "      <th>...</th>\n",
       "      <td>...</td>\n",
       "      <td>...</td>\n",
       "      <td>...</td>\n",
       "      <td>...</td>\n",
       "      <td>...</td>\n",
       "      <td>...</td>\n",
       "      <td>...</td>\n",
       "      <td>...</td>\n",
       "      <td>...</td>\n",
       "      <td>...</td>\n",
       "      <td>...</td>\n",
       "      <td>...</td>\n",
       "      <td>...</td>\n",
       "      <td>...</td>\n",
       "      <td>...</td>\n",
       "      <td>...</td>\n",
       "      <td>...</td>\n",
       "      <td>...</td>\n",
       "    </tr>\n",
       "    <tr>\n",
       "      <th>480</th>\n",
       "      <td>481</td>\n",
       "      <td>Stand By Me Doraemon</td>\n",
       "      <td>8.08</td>\n",
       "      <td>Movie</td>\n",
       "      <td>Aug 2014</td>\n",
       "      <td>Aug 2014</td>\n",
       "      <td>1</td>\n",
       "      <td>49367</td>\n",
       "      <td>21469</td>\n",
       "      <td>Finished Airing</td>\n",
       "      <td>NaN</td>\n",
       "      <td>NaN</td>\n",
       "      <td>Shirogumi</td>\n",
       "      <td>1 hr. 34 min</td>\n",
       "      <td>PG</td>\n",
       "      <td>['Comedy', 'Comedy', 'Sci-Fi', 'Sci-Fi']</td>\n",
       "      <td>Toho</td>\n",
       "      <td>Manga</td>\n",
       "    </tr>\n",
       "    <tr>\n",
       "      <th>481</th>\n",
       "      <td>482</td>\n",
       "      <td>Ginga Eiyuu Densetsu: Arata naru Tatakai no Ov...</td>\n",
       "      <td>8.08</td>\n",
       "      <td>Movie</td>\n",
       "      <td>Dec 1993</td>\n",
       "      <td>Dec 1993</td>\n",
       "      <td>1</td>\n",
       "      <td>32564</td>\n",
       "      <td>3016</td>\n",
       "      <td>Finished Airing</td>\n",
       "      <td>NaN</td>\n",
       "      <td>NaN</td>\n",
       "      <td>Kitty Film Mitaka Studio</td>\n",
       "      <td>1 hr. 30 min</td>\n",
       "      <td>PG-13</td>\n",
       "      <td>['Action', 'Action', 'Drama', 'Drama', 'Sci-Fi...</td>\n",
       "      <td>Kitty Films</td>\n",
       "      <td>Novel</td>\n",
       "    </tr>\n",
       "    <tr>\n",
       "      <th>489</th>\n",
       "      <td>490</td>\n",
       "      <td>Detective Conan Movie 08: Magician of the Silv...</td>\n",
       "      <td>8.07</td>\n",
       "      <td>Movie</td>\n",
       "      <td>Apr 2004</td>\n",
       "      <td>Apr 2004</td>\n",
       "      <td>1</td>\n",
       "      <td>53398</td>\n",
       "      <td>1367</td>\n",
       "      <td>Finished Airing</td>\n",
       "      <td>NaN</td>\n",
       "      <td>NaN</td>\n",
       "      <td>TMS Entertainment</td>\n",
       "      <td>1 hr. 48 min</td>\n",
       "      <td>PG-13</td>\n",
       "      <td>['Adventure', 'Adventure', 'Comedy', 'Comedy',...</td>\n",
       "      <td>add some</td>\n",
       "      <td>Manga</td>\n",
       "    </tr>\n",
       "    <tr>\n",
       "      <th>490</th>\n",
       "      <td>491</td>\n",
       "      <td>Detective Conan Movie 18: The Sniper from Anot...</td>\n",
       "      <td>8.07</td>\n",
       "      <td>Movie</td>\n",
       "      <td>Apr 2014</td>\n",
       "      <td>Apr 2014</td>\n",
       "      <td>1</td>\n",
       "      <td>40312</td>\n",
       "      <td>21419</td>\n",
       "      <td>Finished Airing</td>\n",
       "      <td>NaN</td>\n",
       "      <td>NaN</td>\n",
       "      <td>TMS Entertainment</td>\n",
       "      <td>1 hr. 50 min</td>\n",
       "      <td>PG-13</td>\n",
       "      <td>['Action', 'Action', 'Mystery', 'Mystery']</td>\n",
       "      <td>add some</td>\n",
       "      <td>Manga</td>\n",
       "    </tr>\n",
       "    <tr>\n",
       "      <th>491</th>\n",
       "      <td>492</td>\n",
       "      <td>Detective Conan Movie 25: Halloween no Hanayome</td>\n",
       "      <td>8.07</td>\n",
       "      <td>Movie</td>\n",
       "      <td>Apr 2022</td>\n",
       "      <td>Apr 2022</td>\n",
       "      <td>1</td>\n",
       "      <td>10814</td>\n",
       "      <td>49320</td>\n",
       "      <td>Finished Airing</td>\n",
       "      <td>NaN</td>\n",
       "      <td>NaN</td>\n",
       "      <td>TMS Entertainment</td>\n",
       "      <td>1 hr. 50 min</td>\n",
       "      <td>PG-13</td>\n",
       "      <td>['Fixing_one_Genre']</td>\n",
       "      <td>add some</td>\n",
       "      <td>Manga</td>\n",
       "    </tr>\n",
       "  </tbody>\n",
       "</table>\n",
       "<p>118 rows × 18 columns</p>\n",
       "</div>"
      ],
      "text/plain": [
       "     Rank                                              Title  Rating   Type  \\\n",
       "6       7                                 Gintama: The Final    9.05  Movie   \n",
       "13     14  Kaguya-sama wa Kokurasetai: First Kiss wa Owar...    8.97  Movie   \n",
       "17     18                                     Koe no Katachi    8.94  Movie   \n",
       "19     20  Gintama Movie 2: Kanketsu-hen - Yorozuya yo Ei...    8.92  Movie   \n",
       "21     22                            Violet Evergarden Movie    8.91  Movie   \n",
       "..    ...                                                ...     ...    ...   \n",
       "480   481                               Stand By Me Doraemon    8.08  Movie   \n",
       "481   482  Ginga Eiyuu Densetsu: Arata naru Tatakai no Ov...    8.08  Movie   \n",
       "489   490  Detective Conan Movie 08: Magician of the Silv...    8.07  Movie   \n",
       "490   491  Detective Conan Movie 18: The Sniper from Anot...    8.07  Movie   \n",
       "491   492    Detective Conan Movie 25: Halloween no Hanayome    8.07  Movie   \n",
       "\n",
       "      AirDate   EndDate TotalEpi  Members  MAL Ref           Status Premiered  \\\n",
       "6    Jan 2021  Jan 2021        1   124969    39486  Finished Airing       NaN   \n",
       "13   Dec 2022  Dec 2022        1    94851    52198  Finished Airing       NaN   \n",
       "17   Sep 2016  Sep 2016        1  2132019    28851  Finished Airing       NaN   \n",
       "19   Jul 2013  Jul 2013        1   224094    15335  Finished Airing       NaN   \n",
       "21   Sep 2020  Sep 2020        1   519260    37987  Finished Airing       NaN   \n",
       "..        ...       ...      ...      ...      ...              ...       ...   \n",
       "480  Aug 2014  Aug 2014        1    49367    21469  Finished Airing       NaN   \n",
       "481  Dec 1993  Dec 1993        1    32564     3016  Finished Airing       NaN   \n",
       "489  Apr 2004  Apr 2004        1    53398     1367  Finished Airing       NaN   \n",
       "490  Apr 2014  Apr 2014        1    40312    21419  Finished Airing       NaN   \n",
       "491  Apr 2022  Apr 2022        1    10814    49320  Finished Airing       NaN   \n",
       "\n",
       "    Broadcast                    Studio      Duration Age Ratingn  \\\n",
       "6         NaN     Bandai Namco Pictures  1 hr. 44 min       PG-13   \n",
       "13        NaN              A-1 Pictures  1 hr. 36 min       PG-13   \n",
       "17        NaN           Kyoto Animation  2 hr. 10 min       PG-13   \n",
       "19        NaN                   Sunrise  1 hr. 50 min       PG-13   \n",
       "21        NaN           Kyoto Animation  2 hr. 20 min       PG-13   \n",
       "..        ...                       ...           ...         ...   \n",
       "480       NaN                 Shirogumi  1 hr. 34 min          PG   \n",
       "481       NaN  Kitty Film Mitaka Studio  1 hr. 30 min       PG-13   \n",
       "489       NaN         TMS Entertainment  1 hr. 48 min       PG-13   \n",
       "490       NaN         TMS Entertainment  1 hr. 50 min       PG-13   \n",
       "491       NaN         TMS Entertainment  1 hr. 50 min       PG-13   \n",
       "\n",
       "                                                Genres     Producer  \\\n",
       "6    ['Action', 'Action', 'Comedy', 'Comedy', 'Dram...     TV Tokyo   \n",
       "13   ['Comedy', 'Comedy', 'Drama', 'Drama', 'Romanc...      Aniplex   \n",
       "17   ['Award Winning', 'Award Winning', 'Drama', 'D...     Shochiku   \n",
       "19   ['Action', 'Action', 'Comedy', 'Comedy', 'Sci-...     TV Tokyo   \n",
       "21   ['Award Winning', 'Award Winning', 'Drama', 'D...     Shochiku   \n",
       "..                                                 ...          ...   \n",
       "480           ['Comedy', 'Comedy', 'Sci-Fi', 'Sci-Fi']         Toho   \n",
       "481  ['Action', 'Action', 'Drama', 'Drama', 'Sci-Fi...  Kitty Films   \n",
       "489  ['Adventure', 'Adventure', 'Comedy', 'Comedy',...     add some   \n",
       "490         ['Action', 'Action', 'Mystery', 'Mystery']     add some   \n",
       "491                               ['Fixing_one_Genre']     add some   \n",
       "\n",
       "          Source  \n",
       "6          Manga  \n",
       "13         Manga  \n",
       "17         Manga  \n",
       "19         Manga  \n",
       "21   Light novel  \n",
       "..           ...  \n",
       "480        Manga  \n",
       "481        Novel  \n",
       "489        Manga  \n",
       "490        Manga  \n",
       "491        Manga  \n",
       "\n",
       "[118 rows x 18 columns]"
      ]
     },
     "execution_count": 932,
     "metadata": {},
     "output_type": "execute_result"
    }
   ],
   "source": [
    "data.loc[data.Type == 'Movie']\n"
   ]
  },
  {
   "cell_type": "code",
   "execution_count": null,
   "metadata": {},
   "outputs": [],
   "source": []
  },
  {
   "cell_type": "code",
   "execution_count": null,
   "metadata": {},
   "outputs": [],
   "source": []
  }
 ],
 "metadata": {
  "kernelspec": {
   "display_name": "Python 3",
   "language": "python",
   "name": "python3"
  },
  "language_info": {
   "codemirror_mode": {
    "name": "ipython",
    "version": 3
   },
   "file_extension": ".py",
   "mimetype": "text/x-python",
   "name": "python",
   "nbconvert_exporter": "python",
   "pygments_lexer": "ipython3",
   "version": "3.10.4"
  },
  "orig_nbformat": 4,
  "vscode": {
   "interpreter": {
    "hash": "7cccf0148f04178e92e840c6e1071e5b6b8e5c15a27b56a3f7cc3cf5f13335e6"
   }
  }
 },
 "nbformat": 4,
 "nbformat_minor": 2
}
